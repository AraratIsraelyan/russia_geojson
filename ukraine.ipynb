{
 "cells": [
  {
   "cell_type": "code",
   "execution_count": null,
   "id": "7faf2ed9-3ef4-47e3-bb0e-fe38275e79ff",
   "metadata": {},
   "outputs": [],
   "source": [
    "\"\"\"\n",
    "Всего населенных пунктов новых регионов:\n",
    "933 + 523 + 474 + 1205 = 3135\n",
    "\"\"\""
   ]
  },
  {
   "cell_type": "code",
   "execution_count": null,
   "id": "273c64d9-73ec-4ffb-b5f5-081b2d22e981",
   "metadata": {},
   "outputs": [],
   "source": [
    "\"\"\"\n",
    "Донецкая 1205\n",
    "Луганская 474\n",
    "Херсонская 523\n",
    "Запорожская 933\n",
    "\"\"\""
   ]
  },
  {
   "cell_type": "code",
   "execution_count": 3,
   "id": "a84fe98e-d71c-4849-b5dd-56f7d1698238",
   "metadata": {},
   "outputs": [],
   "source": [
    "import geopandas as gpd\n",
    "import pandas as pd\n",
    "import jupyter_black\n",
    "import logging\n",
    "import re\n",
    "import os"
   ]
  },
  {
   "cell_type": "code",
   "execution_count": 4,
   "id": "92f67482-aa73-419d-9b12-3980874287ac",
   "metadata": {},
   "outputs": [
    {
     "data": {
      "text/html": [
       "\n",
       "                <script type=\"application/javascript\" id=\"jupyter_black\">\n",
       "                (function() {\n",
       "                    if (window.IPython === undefined) {\n",
       "                        return\n",
       "                    }\n",
       "                    var msg = \"WARNING: it looks like you might have loaded \" +\n",
       "                        \"jupyter_black in a non-lab notebook with \" +\n",
       "                        \"`is_lab=True`. Please double check, and if \" +\n",
       "                        \"loading with `%load_ext` please review the README!\"\n",
       "                    console.log(msg)\n",
       "                    alert(msg)\n",
       "                })()\n",
       "                </script>\n",
       "                "
      ],
      "text/plain": [
       "<IPython.core.display.HTML object>"
      ]
     },
     "metadata": {},
     "output_type": "display_data"
    }
   ],
   "source": [
    "jupyter_black.load()\n",
    "logging.getLogger().setLevel(logging.INFO)"
   ]
  },
  {
   "cell_type": "code",
   "execution_count": 54,
   "id": "6b606375-781f-4903-acca-e1f2ac1e324d",
   "metadata": {},
   "outputs": [],
   "source": [
    "pd.set_option(\"display.max_rows\", None)\n",
    "pd.set_option(\"display.max_columns\", None)\n",
    "pd.set_option(\"display.max_colwidth\", None)"
   ]
  },
  {
   "cell_type": "markdown",
   "id": "1889e7b7-d95a-41ec-b387-f9ef1b089da2",
   "metadata": {},
   "source": [
    "## В geojson файле ищем только объекты ПОЛИГОН"
   ]
  },
  {
   "cell_type": "code",
   "execution_count": null,
   "id": "80dbbe56-b7da-4fd2-84b0-6d88c3720466",
   "metadata": {},
   "outputs": [],
   "source": [
    "data[\"POLYGON\"] = data.geometry.apply(lambda x: str(x).__contains__(\"POLYGO\"))"
   ]
  },
  {
   "cell_type": "code",
   "execution_count": null,
   "id": "e4ae36ba-fd6b-41ad-8038-3ba76ce66c8f",
   "metadata": {},
   "outputs": [],
   "source": [
    "data[data.POLYGON == True]"
   ]
  },
  {
   "cell_type": "code",
   "execution_count": null,
   "id": "4d53d786-088d-4599-94b6-a607de8e6247",
   "metadata": {},
   "outputs": [],
   "source": [
    "print(len(data))"
   ]
  },
  {
   "cell_type": "markdown",
   "id": "80abf20e-fd7c-49d7-9485-fe6a5d893a49",
   "metadata": {},
   "source": [
    "# Преобразовать osm.pbf в geojson"
   ]
  },
  {
   "cell_type": "code",
   "execution_count": 364,
   "id": "89e2d593-4372-44a6-aa35-594d84a2e11b",
   "metadata": {},
   "outputs": [
    {
     "name": "stderr",
     "output_type": "stream",
     "text": [
      "INFO:pyogrio._io:Created 1,371 records\n"
     ]
    }
   ],
   "source": [
    "from pyrosm import OSM\n",
    "import geopandas as gpd\n",
    "\n",
    "filename = \"donetsk_oblast-latest\"\n",
    "# Укажите путь к файлу PBF\n",
    "pbf_path = rf\"C:/Users/Honor/Downloads/{filename}.osm.pbf\"\n",
    "\n",
    "# Загружаем данные OSM\n",
    "osm = OSM(pbf_path)\n",
    "\n",
    "# Извлекаем полигоны населенных пунктов (города, деревни и т.д.)\n",
    "places = osm.get_data_by_custom_criteria(\n",
    "    custom_filter={\n",
    "        \"place\": [\"city\", \"town\", \"village\", \"hamlet\", \"locality\", \"suburb\"]\n",
    "    },\n",
    "    filter_type=\"keep\",\n",
    ")\n",
    "\n",
    "# Фильтруем только полигоны\n",
    "places_polygons = places[places.geometry.type == \"Polygon\"]\n",
    "\n",
    "# Опционально: сохраняем результат в файл\n",
    "places_polygons.to_file(f\"{filename}.geojson\", driver=\"GeoJSON\")"
   ]
  },
  {
   "cell_type": "raw",
   "id": "dbea213d-64b2-446b-81ce-cbe0d128eaf0",
   "metadata": {
    "jupyter": {
     "source_hidden": true
    }
   },
   "source": [
    "places = osm.get_data_by_custom_criteria(\n",
    "    custom_filter={\"place\": True}, filter_type=\"keep\"\n",
    ")\n",
    "\n",
    "# Извлекаем уникальные значения из столбца 'place'\n",
    "unique_places = places[\"place\"].unique()\n",
    "\n",
    "# Выводим список уникальных значений\n",
    "print(unique_places)"
   ]
  },
  {
   "cell_type": "markdown",
   "id": "df52dd99-b56b-4ecb-801b-45f604e9b9e3",
   "metadata": {},
   "source": [
    "# Читаем geojson, редактируем города"
   ]
  },
  {
   "cell_type": "code",
   "execution_count": 365,
   "id": "c64d7be8-5db6-404d-a607-a674cfc9c5d9",
   "metadata": {},
   "outputs": [],
   "source": [
    "places_polygons = gpd.read_file(f\"{filename}.geojson\")"
   ]
  },
  {
   "cell_type": "code",
   "execution_count": 366,
   "id": "96c64d3d-1b6d-4340-986a-5e0bb39c4d55",
   "metadata": {},
   "outputs": [
    {
     "data": {
      "text/plain": [
       "1371"
      ]
     },
     "execution_count": 366,
     "metadata": {},
     "output_type": "execute_result"
    }
   ],
   "source": [
    "len(places_polygons)"
   ]
  },
  {
   "cell_type": "markdown",
   "id": "d6d72d76-40e1-44c9-a984-d0c82381d256",
   "metadata": {},
   "source": [
    "## 1. Найдем наименования населенных пунктов на русском языке"
   ]
  },
  {
   "cell_type": "code",
   "execution_count": 367,
   "id": "fa923547-177f-456b-af94-b4e3de2df8bd",
   "metadata": {},
   "outputs": [],
   "source": [
    "places_polygons[\"город\"] = places_polygons.tags.apply(\n",
    "    lambda x: str(re.findall(r'\"name:ru\": \"(.*?)\"', str(x)))\n",
    ")"
   ]
  },
  {
   "cell_type": "markdown",
   "id": "1714f834-4b24-4035-89f9-bd8318f642a4",
   "metadata": {},
   "source": [
    "## 2. Найдем наименования населенных пунктов без указанного языка "
   ]
  },
  {
   "cell_type": "code",
   "execution_count": 368,
   "id": "b7eae882-0df8-4a3a-b446-80ab714eea18",
   "metadata": {},
   "outputs": [],
   "source": [
    "# Выбираем строки, где в колонке \"город\" содержится пустой список (предполагается, что это строка \"[]\")\n",
    "empty_city_mask = places_polygons[\"город\"] == \"[]\"\n",
    "\n",
    "# Для этих строк извлекаем значения \"name\" из колонки \"tags\"\n",
    "places_polygons.loc[empty_city_mask, \"город\"] = places_polygons.loc[\n",
    "    empty_city_mask, \"tags\"\n",
    "].apply(lambda x: str(re.findall(r'\"name\": \"(.*?)\"', str(x))))"
   ]
  },
  {
   "cell_type": "markdown",
   "id": "8051eeb5-185b-43a1-88d1-f2dc4af4276e",
   "metadata": {},
   "source": [
    "## 3. Найдем наименования населенных пунктов на украинском языке"
   ]
  },
  {
   "cell_type": "code",
   "execution_count": 369,
   "id": "25fb7fa5-44f9-4fd1-b204-077b57abfc11",
   "metadata": {},
   "outputs": [],
   "source": [
    "# Выбираем строки, где в колонке \"город\" содержится пустой список (предполагается, что это строка \"[]\")\n",
    "empty_city_mask = places_polygons[\"город\"] == \"[]\"\n",
    "\n",
    "# Для этих строк извлекаем значения \"name\" из колонки \"tags\"\n",
    "places_polygons.loc[empty_city_mask, \"город\"] = places_polygons.loc[\n",
    "    empty_city_mask, \"tags\"\n",
    "].apply(lambda x: str(re.findall(r'\"uk:(.*?)\"', str(x))))"
   ]
  },
  {
   "cell_type": "markdown",
   "id": "3826ea54-3836-405d-b4d9-04b5ad757893",
   "metadata": {},
   "source": [
    "## 4. Найдем наименования населенных пунктов содержащиеся в place_name"
   ]
  },
  {
   "cell_type": "code",
   "execution_count": 370,
   "id": "97a2df03-7d5a-4dd5-8fe1-730eac40c0b6",
   "metadata": {},
   "outputs": [],
   "source": [
    "# Выбираем строки, где в колонке \"город\" содержится пустой список (предполагается, что это строка \"[]\")\n",
    "empty_city_mask = places_polygons[\"город\"] == \"[]\"\n",
    "\n",
    "# Для этих строк извлекаем значения \"name\" из колонки \"tags\"\n",
    "places_polygons.loc[empty_city_mask, \"город\"] = places_polygons.loc[\n",
    "    empty_city_mask, \"tags\"\n",
    "].apply(lambda x: str(re.findall(r'\"place_name\": \"(.*?)\"', str(x))))"
   ]
  },
  {
   "cell_type": "markdown",
   "id": "881a3d26-3a26-46a0-913b-1945db3cc963",
   "metadata": {},
   "source": [
    "## 5. Найдем наименования населенных пунктов содержащиеся в description"
   ]
  },
  {
   "cell_type": "code",
   "execution_count": 371,
   "id": "7b476744-49ab-4c23-9b7f-c450a41901b9",
   "metadata": {},
   "outputs": [],
   "source": [
    "# Выбираем строки, где в колонке \"город\" содержится пустой список (предполагается, что это строка \"[]\")\n",
    "empty_city_mask = places_polygons[\"город\"] == \"[]\"\n",
    "\n",
    "# Для этих строк извлекаем значения \"name\" из колонки \"tags\"\n",
    "places_polygons.loc[empty_city_mask, \"город\"] = places_polygons.loc[\n",
    "    empty_city_mask, \"tags\"\n",
    "].apply(lambda x: str(re.findall(r'\"description\": \"(.*?)\"', str(x))))"
   ]
  },
  {
   "cell_type": "markdown",
   "id": "8667862a-8b3f-4a25-a783-541436b6c66f",
   "metadata": {},
   "source": [
    "# Отбросим населенные пункты без названия"
   ]
  },
  {
   "cell_type": "code",
   "execution_count": 372,
   "id": "ab87b8ef-bef0-454e-accc-1269e414c207",
   "metadata": {},
   "outputs": [],
   "source": [
    "places_polygons = places_polygons[places_polygons[\"город\"] != \"[]\"]"
   ]
  },
  {
   "cell_type": "code",
   "execution_count": 373,
   "id": "a9734b7b-a7ad-4387-afab-3122435cba68",
   "metadata": {},
   "outputs": [
    {
     "data": {
      "text/plain": [
       "1359"
      ]
     },
     "execution_count": 373,
     "metadata": {},
     "output_type": "execute_result"
    }
   ],
   "source": [
    "### Количество найденных населенных пунктов\n",
    "len(places_polygons)"
   ]
  },
  {
   "cell_type": "markdown",
   "id": "1fc24407-ec4a-4712-9289-e9d52b377b65",
   "metadata": {},
   "source": [
    "## Очистим наименование от скобок и кавычек"
   ]
  },
  {
   "cell_type": "code",
   "execution_count": 374,
   "id": "aba180d5-1d39-4304-91a0-cf2d06656adc",
   "metadata": {},
   "outputs": [],
   "source": [
    "places_polygons[\"город\"] = places_polygons[\"город\"].apply(\n",
    "    lambda x: str(x).strip(\"[]\").strip(\"'\").strip('\"')\n",
    ")"
   ]
  },
  {
   "cell_type": "code",
   "execution_count": 375,
   "id": "b430946a-3ab5-4c8f-b763-684fa324b7ec",
   "metadata": {},
   "outputs": [],
   "source": [
    "places_polygons = places_polygons.reset_index()"
   ]
  },
  {
   "cell_type": "code",
   "execution_count": 376,
   "id": "4f921530-a27c-4550-a1df-562afe6533db",
   "metadata": {},
   "outputs": [],
   "source": [
    "places_polygons.drop(columns={\"index\"}, inplace=True)"
   ]
  },
  {
   "cell_type": "code",
   "execution_count": 377,
   "id": "45ace846-badd-4d09-8300-0963edbf9b75",
   "metadata": {},
   "outputs": [
    {
     "data": {
      "text/plain": [
       "1359"
      ]
     },
     "execution_count": 377,
     "metadata": {},
     "output_type": "execute_result"
    }
   ],
   "source": [
    "len(places_polygons)"
   ]
  },
  {
   "cell_type": "code",
   "execution_count": 378,
   "id": "b8bb190d-a1bb-4267-b7a6-0d84c1a89ea6",
   "metadata": {},
   "outputs": [
    {
     "data": {
      "text/html": [
       "<div>\n",
       "<style scoped>\n",
       "    .dataframe tbody tr th:only-of-type {\n",
       "        vertical-align: middle;\n",
       "    }\n",
       "\n",
       "    .dataframe tbody tr th {\n",
       "        vertical-align: top;\n",
       "    }\n",
       "\n",
       "    .dataframe thead th {\n",
       "        text-align: right;\n",
       "    }\n",
       "</style>\n",
       "<table border=\"1\" class=\"dataframe\">\n",
       "  <thead>\n",
       "    <tr style=\"text-align: right;\">\n",
       "      <th></th>\n",
       "      <th>tags</th>\n",
       "      <th>город</th>\n",
       "      <th>place</th>\n",
       "    </tr>\n",
       "  </thead>\n",
       "  <tbody>\n",
       "    <tr>\n",
       "      <th>0</th>\n",
       "      <td>{ \"visible\": false, \"landuse\": \"residential\", \"name\": \"мкрн Цветочний\", \"name:ru\": \"мкрн Цветочный\", \"name:uk\": \"мкрн Цветочний\" }</td>\n",
       "      <td>мкрн Цветочный</td>\n",
       "      <td>suburb</td>\n",
       "    </tr>\n",
       "    <tr>\n",
       "      <th>1</th>\n",
       "      <td>{ \"visible\": false, \"landuse\": \"residential\", \"name\": \"Друге Калінкіно\", \"name:ru\": \"Второе Калинкино\", \"name:uk\": \"Друге Калінкіно\" }</td>\n",
       "      <td>Второе Калинкино</td>\n",
       "      <td>suburb</td>\n",
       "    </tr>\n",
       "  </tbody>\n",
       "</table>\n",
       "</div>"
      ],
      "text/plain": [
       "                                                                                                                                     tags  \\\n",
       "0      { \"visible\": false, \"landuse\": \"residential\", \"name\": \"мкрн Цветочний\", \"name:ru\": \"мкрн Цветочный\", \"name:uk\": \"мкрн Цветочний\" }   \n",
       "1  { \"visible\": false, \"landuse\": \"residential\", \"name\": \"Друге Калінкіно\", \"name:ru\": \"Второе Калинкино\", \"name:uk\": \"Друге Калінкіно\" }   \n",
       "\n",
       "              город   place  \n",
       "0    мкрн Цветочный  suburb  \n",
       "1  Второе Калинкино  suburb  "
      ]
     },
     "execution_count": 378,
     "metadata": {},
     "output_type": "execute_result"
    }
   ],
   "source": [
    "places_polygons[[\"tags\", \"город\", \"place\"]].head(2)"
   ]
  },
  {
   "cell_type": "markdown",
   "id": "81868e49-3231-4229-9067-2b457bc8b93a",
   "metadata": {},
   "source": [
    "# Найдем население населенных пунктов"
   ]
  },
  {
   "cell_type": "code",
   "execution_count": 379,
   "id": "0cad5651-e4ef-4dd1-b72c-48c1a7ea4ebd",
   "metadata": {},
   "outputs": [],
   "source": [
    "places_polygons[\"население\"] = places_polygons.tags.apply(\n",
    "    lambda x: str(re.findall(r'\"population\": \"(.*?)\"', str(x)))\n",
    ")"
   ]
  },
  {
   "cell_type": "code",
   "execution_count": 380,
   "id": "89413961-95be-4a40-8c4f-b601abf7e42c",
   "metadata": {},
   "outputs": [
    {
     "data": {
      "text/plain": [
       "1359"
      ]
     },
     "execution_count": 380,
     "metadata": {},
     "output_type": "execute_result"
    }
   ],
   "source": [
    "### Количество населенных пунктов с указанным населением\n",
    "len(places_polygons[places_polygons[\"население\"] != \"\"])"
   ]
  },
  {
   "cell_type": "code",
   "execution_count": 381,
   "id": "245f836b-6aa3-4a29-8215-37023052d343",
   "metadata": {},
   "outputs": [
    {
     "data": {
      "text/html": [
       "<div>\n",
       "<style scoped>\n",
       "    .dataframe tbody tr th:only-of-type {\n",
       "        vertical-align: middle;\n",
       "    }\n",
       "\n",
       "    .dataframe tbody tr th {\n",
       "        vertical-align: top;\n",
       "    }\n",
       "\n",
       "    .dataframe thead th {\n",
       "        text-align: right;\n",
       "    }\n",
       "</style>\n",
       "<table border=\"1\" class=\"dataframe\">\n",
       "  <thead>\n",
       "    <tr style=\"text-align: right;\">\n",
       "      <th></th>\n",
       "      <th>tags</th>\n",
       "      <th>город</th>\n",
       "      <th>place</th>\n",
       "      <th>население</th>\n",
       "    </tr>\n",
       "  </thead>\n",
       "  <tbody>\n",
       "    <tr>\n",
       "      <th>0</th>\n",
       "      <td>{ \"visible\": false, \"landuse\": \"residential\", \"name\": \"мкрн Цветочний\", \"name:ru\": \"мкрн Цветочный\", \"name:uk\": \"мкрн Цветочний\" }</td>\n",
       "      <td>мкрн Цветочный</td>\n",
       "      <td>suburb</td>\n",
       "      <td>[]</td>\n",
       "    </tr>\n",
       "    <tr>\n",
       "      <th>1</th>\n",
       "      <td>{ \"visible\": false, \"landuse\": \"residential\", \"name\": \"Друге Калінкіно\", \"name:ru\": \"Второе Калинкино\", \"name:uk\": \"Друге Калінкіно\" }</td>\n",
       "      <td>Второе Калинкино</td>\n",
       "      <td>suburb</td>\n",
       "      <td>[]</td>\n",
       "    </tr>\n",
       "  </tbody>\n",
       "</table>\n",
       "</div>"
      ],
      "text/plain": [
       "                                                                                                                                     tags  \\\n",
       "0      { \"visible\": false, \"landuse\": \"residential\", \"name\": \"мкрн Цветочний\", \"name:ru\": \"мкрн Цветочный\", \"name:uk\": \"мкрн Цветочний\" }   \n",
       "1  { \"visible\": false, \"landuse\": \"residential\", \"name\": \"Друге Калінкіно\", \"name:ru\": \"Второе Калинкино\", \"name:uk\": \"Друге Калінкіно\" }   \n",
       "\n",
       "              город   place население  \n",
       "0    мкрн Цветочный  suburb        []  \n",
       "1  Второе Калинкино  suburb        []  "
      ]
     },
     "execution_count": 381,
     "metadata": {},
     "output_type": "execute_result"
    }
   ],
   "source": [
    "places_polygons[[\"tags\", \"город\", \"place\", \"население\"]].head(2)"
   ]
  },
  {
   "cell_type": "markdown",
   "id": "5b24a034-b811-4272-ac67-a4357e28870f",
   "metadata": {},
   "source": [
    "# Переведем населенные пункты на русский с ai gpt"
   ]
  },
  {
   "cell_type": "markdown",
   "id": "d67c0c71-4377-4d27-8276-165744afb80a",
   "metadata": {},
   "source": [
    "## 1. Сохраняем в эксель"
   ]
  },
  {
   "cell_type": "code",
   "execution_count": 382,
   "id": "77b009a8-1cdb-4c1d-94d7-b8ada38b8415",
   "metadata": {},
   "outputs": [],
   "source": [
    "### Сохраняем в эксель и по 200 строк передаем на перевод\n",
    "places_polygons[\"город\"].to_excel(f\"src/перевод_города_{filename}.xlsx\")"
   ]
  },
  {
   "cell_type": "markdown",
   "id": "b59d4f1f-57fa-459b-a0d2-cf25fcddfd03",
   "metadata": {},
   "source": [
    "## 2. Считываем файл с русскими названиями"
   ]
  },
  {
   "cell_type": "code",
   "execution_count": 388,
   "id": "1ed8ea23-27c2-46d3-a05f-be8dc9069aab",
   "metadata": {},
   "outputs": [],
   "source": [
    "ru_names = pd.read_excel(f\"src/перевод_города_{filename}.xlsx\", dtype=\"str\")"
   ]
  },
  {
   "cell_type": "code",
   "execution_count": 389,
   "id": "4784e8c1-9d42-4e80-8e06-104d2442577c",
   "metadata": {},
   "outputs": [],
   "source": [
    "ru_names.drop(columns={\"Unnamed: 0\"}, inplace=True)"
   ]
  },
  {
   "cell_type": "markdown",
   "id": "4da4dc4b-3f8e-4af4-893e-3b25ace7feef",
   "metadata": {},
   "source": [
    "## 3. Объединим укр и рус"
   ]
  },
  {
   "cell_type": "code",
   "execution_count": 390,
   "id": "c0977a51-67af-4087-9ab7-b654f4e0223a",
   "metadata": {},
   "outputs": [],
   "source": [
    "merge_places = pd.merge(places_polygons, ru_names, left_index=True, right_index=True)"
   ]
  },
  {
   "cell_type": "code",
   "execution_count": 391,
   "id": "cf34f777-d7b2-4d2c-bd6f-9aa19d46c1b0",
   "metadata": {},
   "outputs": [
    {
     "data": {
      "text/html": [
       "<div>\n",
       "<style scoped>\n",
       "    .dataframe tbody tr th:only-of-type {\n",
       "        vertical-align: middle;\n",
       "    }\n",
       "\n",
       "    .dataframe tbody tr th {\n",
       "        vertical-align: top;\n",
       "    }\n",
       "\n",
       "    .dataframe thead th {\n",
       "        text-align: right;\n",
       "    }\n",
       "</style>\n",
       "<table border=\"1\" class=\"dataframe\">\n",
       "  <thead>\n",
       "    <tr style=\"text-align: right;\">\n",
       "      <th></th>\n",
       "      <th>tags</th>\n",
       "      <th>город_x</th>\n",
       "      <th>ru</th>\n",
       "    </tr>\n",
       "  </thead>\n",
       "  <tbody>\n",
       "    <tr>\n",
       "      <th>1233</th>\n",
       "      <td>{ \"name\": \"Качкарське\", \"name:de\": \"Katschkarske\", \"name:en\": \"Kachkarske\", \"name:ko\": \"카치카르스케\", \"name:prefix\": \"село\", \"name:ru\": \"Качкарское\", \"name:uk\": \"Качкарське\", \"population\": \"351\", \"postal_code\": \"87661\", \"type\": \"multipolygon\" }</td>\n",
       "      <td>Качкарское</td>\n",
       "      <td>Качкарское</td>\n",
       "    </tr>\n",
       "    <tr>\n",
       "      <th>334</th>\n",
       "      <td>{ \"name\": \"Федорівка Друга\", \"name:en\": \"Fedorivka Druha\", \"name:ko\": \"페도리우카 드루하\", \"name:prefix\": \"село\", \"name:ru\": \"Фёдоровка Вторая\", \"name:uk\": \"Федорівка Друга\", \"population\": \"84\", \"postal_code\": \"84531\", \"type\": \"multipolygon\" }</td>\n",
       "      <td>Фёдоровка Вторая</td>\n",
       "      <td>Фёдоровка Вторая</td>\n",
       "    </tr>\n",
       "    <tr>\n",
       "      <th>481</th>\n",
       "      <td>{ \"boundary\": \"place\", \"name\": \"Виноградне\", \"name:en\": \"Vynohradne\", \"name:ru\": \"Виноградное\", \"name:uk\": \"Виноградне\", \"old_name:prefix\": \"село\", \"population\": \"1738\", \"postal_code\": \"87642\", \"type\": \"boundary\", \"wikidata\": \"Q4111684\", \"wikipedia\": \"uk:Виноградне (Маріуполь)\" }</td>\n",
       "      <td>Виноградное</td>\n",
       "      <td>Виноградное</td>\n",
       "    </tr>\n",
       "    <tr>\n",
       "      <th>1126</th>\n",
       "      <td>{ \"name\": \"Платонівка\", \"name:en\": \"Platonivka\", \"name:ko\": \"플라토니우카\", \"name:prefix\": \"село\", \"name:ru\": \"Платоновка\", \"name:uk\": \"Платонівка\", \"population\": \"42\", \"postal_code\": \"84521\", \"type\": \"multipolygon\" }</td>\n",
       "      <td>Платоновка</td>\n",
       "      <td>Платоновка</td>\n",
       "    </tr>\n",
       "    <tr>\n",
       "      <th>291</th>\n",
       "      <td>{ \"admin_level\": \"9\", \"boundary\": \"administrative\", \"name\": \"Глущенкове\", \"name:prefix\": \"село\", \"name:uk\": \"Глущенкове\", \"type\": \"boundary\" }</td>\n",
       "      <td>Глущенкове</td>\n",
       "      <td>Глущенково</td>\n",
       "    </tr>\n",
       "  </tbody>\n",
       "</table>\n",
       "</div>"
      ],
      "text/plain": [
       "                                                                                                                                                                                                                                                                                          tags  \\\n",
       "1233                                           { \"name\": \"Качкарське\", \"name:de\": \"Katschkarske\", \"name:en\": \"Kachkarske\", \"name:ko\": \"카치카르스케\", \"name:prefix\": \"село\", \"name:ru\": \"Качкарское\", \"name:uk\": \"Качкарське\", \"population\": \"351\", \"postal_code\": \"87661\", \"type\": \"multipolygon\" }   \n",
       "334                                                { \"name\": \"Федорівка Друга\", \"name:en\": \"Fedorivka Druha\", \"name:ko\": \"페도리우카 드루하\", \"name:prefix\": \"село\", \"name:ru\": \"Фёдоровка Вторая\", \"name:uk\": \"Федорівка Друга\", \"population\": \"84\", \"postal_code\": \"84531\", \"type\": \"multipolygon\" }   \n",
       "481   { \"boundary\": \"place\", \"name\": \"Виноградне\", \"name:en\": \"Vynohradne\", \"name:ru\": \"Виноградное\", \"name:uk\": \"Виноградне\", \"old_name:prefix\": \"село\", \"population\": \"1738\", \"postal_code\": \"87642\", \"type\": \"boundary\", \"wikidata\": \"Q4111684\", \"wikipedia\": \"uk:Виноградне (Маріуполь)\" }   \n",
       "1126                                                                       { \"name\": \"Платонівка\", \"name:en\": \"Platonivka\", \"name:ko\": \"플라토니우카\", \"name:prefix\": \"село\", \"name:ru\": \"Платоновка\", \"name:uk\": \"Платонівка\", \"population\": \"42\", \"postal_code\": \"84521\", \"type\": \"multipolygon\" }   \n",
       "291                                                                                                                                             { \"admin_level\": \"9\", \"boundary\": \"administrative\", \"name\": \"Глущенкове\", \"name:prefix\": \"село\", \"name:uk\": \"Глущенкове\", \"type\": \"boundary\" }   \n",
       "\n",
       "               город_x                ru  \n",
       "1233        Качкарское        Качкарское  \n",
       "334   Фёдоровка Вторая  Фёдоровка Вторая  \n",
       "481        Виноградное       Виноградное  \n",
       "1126        Платоновка        Платоновка  \n",
       "291         Глущенкове        Глущенково  "
      ]
     },
     "execution_count": 391,
     "metadata": {},
     "output_type": "execute_result"
    }
   ],
   "source": [
    "merge_places[[\"tags\", \"город_x\", \"ru\"]].sample(5)"
   ]
  },
  {
   "cell_type": "markdown",
   "id": "54f85e5f-0583-4057-889b-cfa36575a68b",
   "metadata": {},
   "source": [
    "# Финальная обработка"
   ]
  },
  {
   "cell_type": "markdown",
   "id": "52add1ac-515e-48cd-b1d4-6adc2c09e43d",
   "metadata": {},
   "source": [
    "## 1. Присвоим регион"
   ]
  },
  {
   "cell_type": "code",
   "execution_count": 393,
   "id": "a40c4c52-c4e5-47b6-854d-eae43035d702",
   "metadata": {},
   "outputs": [],
   "source": [
    "region_name = \"Донецкая область\""
   ]
  },
  {
   "cell_type": "code",
   "execution_count": 394,
   "id": "5d90924d-f8a0-4404-931e-0b5082808012",
   "metadata": {},
   "outputs": [],
   "source": [
    "merge_places[\"регион\"] = region_name"
   ]
  },
  {
   "cell_type": "markdown",
   "id": "bb5dc766-c3e0-408c-b795-c5dfa8de65d4",
   "metadata": {},
   "source": [
    "## 2. Выбираем нужные колонки"
   ]
  },
  {
   "cell_type": "code",
   "execution_count": 395,
   "id": "d967551f-d023-4393-b381-061f4fbb68a4",
   "metadata": {},
   "outputs": [],
   "source": [
    "save_columns = [\"регион\", \"ru\", \"geometry\"]"
   ]
  },
  {
   "cell_type": "markdown",
   "id": "19ca9dc6-5015-41ef-9e8b-ee0f28d4e311",
   "metadata": {},
   "source": [
    "## 3. Переименуем колонки "
   ]
  },
  {
   "cell_type": "code",
   "execution_count": 396,
   "id": "b91c20ae-c190-4abb-926f-b4bd997772b6",
   "metadata": {},
   "outputs": [],
   "source": [
    "result = merge_places[save_columns]"
   ]
  },
  {
   "cell_type": "code",
   "execution_count": 397,
   "id": "7261b4a6-5ef1-4521-b9a3-79a9145a34bc",
   "metadata": {},
   "outputs": [
    {
     "name": "stderr",
     "output_type": "stream",
     "text": [
      "C:\\Users\\Honor\\AppData\\Local\\Temp\\ipykernel_25508\\3382848421.py:1: SettingWithCopyWarning: \n",
      "A value is trying to be set on a copy of a slice from a DataFrame\n",
      "\n",
      "See the caveats in the documentation: https://pandas.pydata.org/pandas-docs/stable/user_guide/indexing.html#returning-a-view-versus-a-copy\n",
      "  result.rename(columns={\"ru\": \"город\", \"place\": \"тип\"}, inplace=True)\n"
     ]
    }
   ],
   "source": [
    "result.rename(columns={\"ru\": \"город\", \"place\": \"тип\"}, inplace=True)"
   ]
  },
  {
   "cell_type": "code",
   "execution_count": 398,
   "id": "4fee91fe-8939-4300-874d-4ae3a8cab56b",
   "metadata": {},
   "outputs": [
    {
     "data": {
      "text/plain": [
       "1359"
      ]
     },
     "execution_count": 398,
     "metadata": {},
     "output_type": "execute_result"
    }
   ],
   "source": [
    "len(result)"
   ]
  },
  {
   "cell_type": "code",
   "execution_count": 399,
   "id": "0ea4e86a-f638-4c8d-ae8a-00fe66dce00b",
   "metadata": {},
   "outputs": [
    {
     "name": "stderr",
     "output_type": "stream",
     "text": [
      "INFO:pyogrio._io:Created 1,359 records\n"
     ]
    }
   ],
   "source": [
    "# Опционально: сохраняем результат в файл\n",
    "result.to_file(\n",
    "    f\"src/geojson/населенные_пункты_новые_регионы/{region_name}.geojson\",\n",
    "    driver=\"GeoJSON\",\n",
    ")"
   ]
  },
  {
   "cell_type": "code",
   "execution_count": 400,
   "id": "620e618d-df88-4b68-b962-8ec90be8f2f5",
   "metadata": {},
   "outputs": [
    {
     "data": {
      "text/html": [
       "<div>\n",
       "<style scoped>\n",
       "    .dataframe tbody tr th:only-of-type {\n",
       "        vertical-align: middle;\n",
       "    }\n",
       "\n",
       "    .dataframe tbody tr th {\n",
       "        vertical-align: top;\n",
       "    }\n",
       "\n",
       "    .dataframe thead th {\n",
       "        text-align: right;\n",
       "    }\n",
       "</style>\n",
       "<table border=\"1\" class=\"dataframe\">\n",
       "  <thead>\n",
       "    <tr style=\"text-align: right;\">\n",
       "      <th></th>\n",
       "      <th>регион</th>\n",
       "      <th>город</th>\n",
       "      <th>geometry</th>\n",
       "    </tr>\n",
       "  </thead>\n",
       "  <tbody>\n",
       "    <tr>\n",
       "      <th>0</th>\n",
       "      <td>Донецкая область</td>\n",
       "      <td>мкрн Цветочный</td>\n",
       "      <td>POLYGON ((37.91227 47.99062, 37.91167 47.98898, 37.91191 47.98854, 37.91302 47.98655, 37.91302 47.98603, 37.91307 47.98604, 37.92223 47.98742, 37.92235 47.98744, 37.92033 47.99209, 37.91653 47.9914, 37.91227 47.99062))</td>\n",
       "    </tr>\n",
       "    <tr>\n",
       "      <th>1</th>\n",
       "      <td>Донецкая область</td>\n",
       "      <td>Второе Калинкино</td>\n",
       "      <td>POLYGON ((37.88344 47.99715, 37.88391 47.99664, 37.88413 47.99643, 37.88439 47.99624, 37.88488 47.99598, 37.88624 47.99561, 37.88769 47.99551, 37.889 47.99543, 37.89099 47.99539, 37.89248 47.99534, 37.89318 47.99529, 37.89465 47.99535, 37.89573 47.99554, 37.89645 47.99581, 37.89767 47.99615, 37.89878 47.99665, 37.8989 47.99668, 37.8984 47.99722, 37.89627 47.9966, 37.89598 47.99759, 37.89906 47.99856, 37.90004 47.99888, 37.90166 47.9996, 37.90306 48.00039, 37.90304 48.00073, 37.90245 48.00101, 37.89886 48.00034, 37.89859 48.00327, 37.89806 48.00326, 37.89735 48.00317, 37.89654 48.00415, 37.89564 48.00422, 37.89684 48.00277, 37.89344 48.00127, 37.8922 48.00091, 37.89191 48.00144, 37.89132 48.00187, 37.89076 48.00154, 37.88956 48.00024, 37.88927 48.00012, 37.88908 47.99986, 37.88928 47.99958, 37.88913 47.99932, 37.88908 47.99896, 37.8891 47.99839, 37.8838 47.9974, 37.88348 47.9973, 37.88344 47.99715))</td>\n",
       "    </tr>\n",
       "  </tbody>\n",
       "</table>\n",
       "</div>"
      ],
      "text/plain": [
       "             регион             город  \\\n",
       "0  Донецкая область    мкрн Цветочный   \n",
       "1  Донецкая область  Второе Калинкино   \n",
       "\n",
       "                                                                                                                                                                                                                                                                                                                                                                                                                                                                                                                                                                                                                                                                                                                                                                                                                                                                                                                                          geometry  \n",
       "0                                                                                                                                                                                                                                                                                                                                                                                                                                                                                                                                                                                                                                                                                                                       POLYGON ((37.91227 47.99062, 37.91167 47.98898, 37.91191 47.98854, 37.91302 47.98655, 37.91302 47.98603, 37.91307 47.98604, 37.92223 47.98742, 37.92235 47.98744, 37.92033 47.99209, 37.91653 47.9914, 37.91227 47.99062))  \n",
       "1  POLYGON ((37.88344 47.99715, 37.88391 47.99664, 37.88413 47.99643, 37.88439 47.99624, 37.88488 47.99598, 37.88624 47.99561, 37.88769 47.99551, 37.889 47.99543, 37.89099 47.99539, 37.89248 47.99534, 37.89318 47.99529, 37.89465 47.99535, 37.89573 47.99554, 37.89645 47.99581, 37.89767 47.99615, 37.89878 47.99665, 37.8989 47.99668, 37.8984 47.99722, 37.89627 47.9966, 37.89598 47.99759, 37.89906 47.99856, 37.90004 47.99888, 37.90166 47.9996, 37.90306 48.00039, 37.90304 48.00073, 37.90245 48.00101, 37.89886 48.00034, 37.89859 48.00327, 37.89806 48.00326, 37.89735 48.00317, 37.89654 48.00415, 37.89564 48.00422, 37.89684 48.00277, 37.89344 48.00127, 37.8922 48.00091, 37.89191 48.00144, 37.89132 48.00187, 37.89076 48.00154, 37.88956 48.00024, 37.88927 48.00012, 37.88908 47.99986, 37.88928 47.99958, 37.88913 47.99932, 37.88908 47.99896, 37.8891 47.99839, 37.8838 47.9974, 37.88348 47.9973, 37.88344 47.99715))  "
      ]
     },
     "execution_count": 400,
     "metadata": {},
     "output_type": "execute_result"
    }
   ],
   "source": [
    "result.head(2)"
   ]
  },
  {
   "cell_type": "code",
   "execution_count": 401,
   "id": "56254b49-f4c9-4c97-b124-5de4c0f21345",
   "metadata": {},
   "outputs": [
    {
     "data": {
      "text/plain": [
       "<Axes: >"
      ]
     },
     "execution_count": 401,
     "metadata": {},
     "output_type": "execute_result"
    },
    {
     "data": {
      "image/png": "[encoded data removed]",
      "text/plain": [
       "<Figure size 640x480 with 1 Axes>"
      ]
     },
     "metadata": {},
     "output_type": "display_data"
    }
   ],
   "source": [
    "result.plot()"
   ]
  },
  {
   "cell_type": "markdown",
   "id": "126238c9-4cd8-45e1-b64a-76efb9348660",
   "metadata": {},
   "source": [
    "# Проверка geojson файлов новых регионов"
   ]
  },
  {
   "cell_type": "code",
   "execution_count": 10,
   "id": "54fa52d9-a101-4fb1-abf5-169903f07681",
   "metadata": {},
   "outputs": [],
   "source": [
    "new_regions_list = []"
   ]
  },
  {
   "cell_type": "markdown",
   "id": "b86fa9b2-1ae5-4ab3-9d84-8b2deaa678f1",
   "metadata": {},
   "source": [
    "|Регион|Населенные пункты|\n",
    "|:---|:---|\n",
    "|Донецкая область|1359|\n",
    "|Луганская область|457|\n",
    "|Запорожская область|945|\n",
    "|Херсонская область|537|"
   ]
  },
  {
   "cell_type": "code",
   "execution_count": 21,
   "id": "7987e0a3-17be-4870-abd7-a3f6d2166242",
   "metadata": {},
   "outputs": [],
   "source": [
    "filename = \"Херсонская область.geojson\""
   ]
  },
  {
   "cell_type": "code",
   "execution_count": 22,
   "id": "95e2bcb0-d9a7-4fd1-8cd2-176f2b74b7d5",
   "metadata": {},
   "outputs": [],
   "source": [
    "gdata = gpd.read_file(\n",
    "    os.path.join(\"src/geojson/населенные_пункты_новые_регионы\", filename)\n",
    ")"
   ]
  },
  {
   "cell_type": "code",
   "execution_count": 23,
   "id": "770c2ad1-9476-4b5c-9d5c-9ed271c9a67a",
   "metadata": {
    "scrolled": true
   },
   "outputs": [
    {
     "name": "stdout",
     "output_type": "stream",
     "text": [
      "537\n"
     ]
    },
    {
     "data": {
      "text/html": [
       "<div>\n",
       "<style scoped>\n",
       "    .dataframe tbody tr th:only-of-type {\n",
       "        vertical-align: middle;\n",
       "    }\n",
       "\n",
       "    .dataframe tbody tr th {\n",
       "        vertical-align: top;\n",
       "    }\n",
       "\n",
       "    .dataframe thead th {\n",
       "        text-align: right;\n",
       "    }\n",
       "</style>\n",
       "<table border=\"1\" class=\"dataframe\">\n",
       "  <thead>\n",
       "    <tr style=\"text-align: right;\">\n",
       "      <th></th>\n",
       "      <th>регион</th>\n",
       "      <th>город</th>\n",
       "      <th>geometry</th>\n",
       "    </tr>\n",
       "  </thead>\n",
       "  <tbody>\n",
       "    <tr>\n",
       "      <th>0</th>\n",
       "      <td>Херсонская область</td>\n",
       "      <td>Доброполье</td>\n",
       "      <td>POLYGON ((32.56673 46.23615, 32.57514 46.23714...</td>\n",
       "    </tr>\n",
       "    <tr>\n",
       "      <th>1</th>\n",
       "      <td>Херсонская область</td>\n",
       "      <td>Киевка</td>\n",
       "      <td>POLYGON ((32.52115 46.21833, 32.526 46.21885, ...</td>\n",
       "    </tr>\n",
       "  </tbody>\n",
       "</table>\n",
       "</div>"
      ],
      "text/plain": [
       "               регион       город  \\\n",
       "0  Херсонская область  Доброполье   \n",
       "1  Херсонская область      Киевка   \n",
       "\n",
       "                                            geometry  \n",
       "0  POLYGON ((32.56673 46.23615, 32.57514 46.23714...  \n",
       "1  POLYGON ((32.52115 46.21833, 32.526 46.21885, ...  "
      ]
     },
     "execution_count": 23,
     "metadata": {},
     "output_type": "execute_result"
    }
   ],
   "source": [
    "print(len(gdata))\n",
    "gdata.head(2)"
   ]
  },
  {
   "cell_type": "code",
   "execution_count": 24,
   "id": "3d083df5-1ee8-464e-a115-b886e1a58aec",
   "metadata": {},
   "outputs": [],
   "source": [
    "new_regions_list.append(gdata)"
   ]
  },
  {
   "cell_type": "code",
   "execution_count": 26,
   "id": "8604c5dc-4604-4d3d-821c-dfe1b5204aef",
   "metadata": {},
   "outputs": [
    {
     "data": {
      "text/plain": [
       "4"
      ]
     },
     "execution_count": 26,
     "metadata": {},
     "output_type": "execute_result"
    }
   ],
   "source": [
    "len(new_regions_list)"
   ]
  },
  {
   "cell_type": "code",
   "execution_count": 28,
   "id": "f33601f2-15f0-460f-ae33-330f12f2c2ae",
   "metadata": {},
   "outputs": [],
   "source": [
    "new_regions = pd.concat(new_regions_list)"
   ]
  },
  {
   "cell_type": "code",
   "execution_count": 32,
   "id": "bd21bb6c-0d26-4b20-ae1d-2dbe96cf5403",
   "metadata": {},
   "outputs": [],
   "source": [
    "new_regions = gpd.GeoDataFrame(new_regions, geometry=\"geometry\", crs=\"EPSG:4326\")"
   ]
  },
  {
   "cell_type": "code",
   "execution_count": 39,
   "id": "5b944be8-e484-49af-881a-694362b9e50b",
   "metadata": {},
   "outputs": [
    {
     "data": {
      "text/plain": [
       "<Axes: >"
      ]
     },
     "execution_count": 39,
     "metadata": {},
     "output_type": "execute_result"
    },
    {
     "data": {
      "image/png": "[encoded data removed]",
      "text/plain": [
       "<Figure size 640x480 with 1 Axes>"
      ]
     },
     "metadata": {},
     "output_type": "display_data"
    }
   ],
   "source": [
    "new_regions.plot()"
   ]
  },
  {
   "cell_type": "code",
   "execution_count": 40,
   "id": "20daca51-e055-4947-9f26-272ab5f794d8",
   "metadata": {},
   "outputs": [
    {
     "name": "stderr",
     "output_type": "stream",
     "text": [
      "INFO:pyogrio._io:Created 3,298 records\n"
     ]
    }
   ],
   "source": [
    "new_regions.to_file(\"src/geojson/готовые/новые_регионы_рф.geojson\", driver=\"GeoJSON\")"
   ]
  },
  {
   "cell_type": "code",
   "execution_count": 51,
   "id": "90de8322-518e-4f76-a7a6-61e564d28adc",
   "metadata": {},
   "outputs": [
    {
     "data": {
      "text/plain": [
       "['Дальневосточный_федеральный_округ.geojson',\n",
       " 'Калининград.geojson',\n",
       " 'Крымский_федеральный_округ.geojson',\n",
       " 'новые_регионы_рф.geojson',\n",
       " 'Приволжский_федеральный_округ.geojson',\n",
       " 'Северо_Западный_федеральный_округ.geojson',\n",
       " 'Северо_Кавказский_федеральный_округ.geojson',\n",
       " 'Сибирский_федеральный_округ.geojson',\n",
       " 'Уральский_федеральный_округ.geojson',\n",
       " 'Центральный_федеральный_округ.geojson',\n",
       " 'Южный_федеральный_округ.geojson']"
      ]
     },
     "execution_count": 51,
     "metadata": {},
     "output_type": "execute_result"
    }
   ],
   "source": [
    "list_gdf = os.listdir(\"src/geojson/\")\n",
    "list_gdf.remove(\"готовые\")\n",
    "list_gdf.remove(\"населенные_пункты_новые_регионы\")\n",
    "list_gdf"
   ]
  },
  {
   "cell_type": "markdown",
   "id": "660ed61d-74c2-46f2-bdf1-0fb09cdeba19",
   "metadata": {},
   "source": [
    "# Обаботаем оставшиеся файлы. Приведем к виду:   \n",
    "|регион|населенный_пункт|geometry|  \n",
    "|:--|:--|:--|"
   ]
  },
  {
   "cell_type": "code",
   "execution_count": 5,
   "id": "18896948-3f56-4d52-8391-1abb19192c78",
   "metadata": {},
   "outputs": [],
   "source": [
    "data = gpd.read_file(\"src/geojson/новые_регионы_рф.geojson\")"
   ]
  },
  {
   "cell_type": "code",
   "execution_count": 13,
   "id": "c92d2701-76d4-4598-a135-8781d36e5187",
   "metadata": {},
   "outputs": [
    {
     "data": {
      "text/html": [
       "<div>\n",
       "<style scoped>\n",
       "    .dataframe tbody tr th:only-of-type {\n",
       "        vertical-align: middle;\n",
       "    }\n",
       "\n",
       "    .dataframe tbody tr th {\n",
       "        vertical-align: top;\n",
       "    }\n",
       "\n",
       "    .dataframe thead th {\n",
       "        text-align: right;\n",
       "    }\n",
       "</style>\n",
       "<table border=\"1\" class=\"dataframe\">\n",
       "  <thead>\n",
       "    <tr style=\"text-align: right;\">\n",
       "      <th></th>\n",
       "      <th>округ</th>\n",
       "      <th>регион</th>\n",
       "      <th>населенный_пункт</th>\n",
       "      <th>geometry</th>\n",
       "    </tr>\n",
       "  </thead>\n",
       "  <tbody>\n",
       "    <tr>\n",
       "      <th>0</th>\n",
       "      <td>Новые регионы РФ</td>\n",
       "      <td>Донецкая область</td>\n",
       "      <td>мкрн Цветочный</td>\n",
       "      <td>POLYGON ((37.91227 47.99062, 37.91167 47.98898...</td>\n",
       "    </tr>\n",
       "    <tr>\n",
       "      <th>1</th>\n",
       "      <td>Новые регионы РФ</td>\n",
       "      <td>Донецкая область</td>\n",
       "      <td>Второе Калинкино</td>\n",
       "      <td>POLYGON ((37.88344 47.99715, 37.88391 47.99664...</td>\n",
       "    </tr>\n",
       "  </tbody>\n",
       "</table>\n",
       "</div>"
      ],
      "text/plain": [
       "              округ            регион  населенный_пункт  \\\n",
       "0  Новые регионы РФ  Донецкая область    мкрн Цветочный   \n",
       "1  Новые регионы РФ  Донецкая область  Второе Калинкино   \n",
       "\n",
       "                                            geometry  \n",
       "0  POLYGON ((37.91227 47.99062, 37.91167 47.98898...  \n",
       "1  POLYGON ((37.88344 47.99715, 37.88391 47.99664...  "
      ]
     },
     "execution_count": 13,
     "metadata": {},
     "output_type": "execute_result"
    }
   ],
   "source": [
    "data.head(2)"
   ]
  },
  {
   "cell_type": "code",
   "execution_count": 11,
   "id": "164b2420-629e-4448-b0c2-2410f46b7303",
   "metadata": {},
   "outputs": [
    {
     "data": {
      "text/plain": [
       "Index(['регион', 'населенный_пункт', 'geometry', 'округ'], dtype='object')"
      ]
     },
     "execution_count": 11,
     "metadata": {},
     "output_type": "execute_result"
    }
   ],
   "source": [
    "data.columns"
   ]
  },
  {
   "cell_type": "code",
   "execution_count": 7,
   "id": "11624153-4579-4261-bd58-de766a1a1c07",
   "metadata": {},
   "outputs": [],
   "source": [
    "data.rename(columns={\"город\": \"населенный_пункт\"}, inplace=True)"
   ]
  },
  {
   "cell_type": "code",
   "execution_count": 8,
   "id": "44163b3a-c739-4fa4-b58e-881e0a4e70e6",
   "metadata": {},
   "outputs": [],
   "source": [
    "data[\"округ\"] = \"Новые регионы РФ\""
   ]
  },
  {
   "cell_type": "code",
   "execution_count": 12,
   "id": "08b3fdbd-bcf9-4d0e-b781-4ee83076635e",
   "metadata": {},
   "outputs": [],
   "source": [
    "data = data[[\"округ\", \"регион\", \"населенный_пункт\", \"geometry\"]]"
   ]
  },
  {
   "cell_type": "code",
   "execution_count": 14,
   "id": "f7967898-a9c1-45e5-887d-ee41b15cbff5",
   "metadata": {},
   "outputs": [
    {
     "name": "stderr",
     "output_type": "stream",
     "text": [
      "INFO:pyogrio._io:Created 3,298 records\n"
     ]
    }
   ],
   "source": [
    "data.to_file(\"src/geojson/готовые/новые_регионы_рф.geojson\", driver=\"GeoJSON\")"
   ]
  },
  {
   "cell_type": "code",
   "execution_count": null,
   "id": "7d52bf42-3cd4-42bc-a698-6267ce7ef66a",
   "metadata": {},
   "outputs": [],
   "source": []
  },
  {
   "cell_type": "code",
   "execution_count": null,
   "id": "ae9d595c-f83c-4004-b8e0-a0d488463a2c",
   "metadata": {},
   "outputs": [],
   "source": []
  },
  {
   "cell_type": "markdown",
   "id": "8af5325a-dfca-48f4-bc76-6bd0dfe0e2b5",
   "metadata": {},
   "source": [
    "# РФ"
   ]
  },
  {
   "cell_type": "code",
   "execution_count": 118,
   "id": "320d0104-a3df-4101-a9c0-0f2ae7df6e87",
   "metadata": {},
   "outputs": [],
   "source": [
    "data = gpd.read_file(\"src/geojson/Центральный_федеральный_округ.geojson\")"
   ]
  },
  {
   "cell_type": "code",
   "execution_count": 119,
   "id": "39dbc132-e8e9-42b9-b33a-6e5362b0caf1",
   "metadata": {},
   "outputs": [],
   "source": [
    "data.rename(columns={\"name\": \"населенный_пункт\"}, inplace=True)"
   ]
  },
  {
   "cell_type": "code",
   "execution_count": 120,
   "id": "70b9fefd-d9b2-4030-a230-290bf0402aa2",
   "metadata": {},
   "outputs": [],
   "source": [
    "data[\"округ\"] = \"Центральный федеральный округ\""
   ]
  },
  {
   "cell_type": "code",
   "execution_count": 121,
   "id": "e242952c-dfd4-45dc-b51d-2da9d244e102",
   "metadata": {},
   "outputs": [],
   "source": [
    "data = data[[\"округ\", \"населенный_пункт\", \"geometry\"]]"
   ]
  },
  {
   "cell_type": "code",
   "execution_count": 122,
   "id": "b907e36f-c9de-4c7c-ad3a-c8ee941b66be",
   "metadata": {},
   "outputs": [
    {
     "data": {
      "text/html": [
       "<div>\n",
       "<style scoped>\n",
       "    .dataframe tbody tr th:only-of-type {\n",
       "        vertical-align: middle;\n",
       "    }\n",
       "\n",
       "    .dataframe tbody tr th {\n",
       "        vertical-align: top;\n",
       "    }\n",
       "\n",
       "    .dataframe thead th {\n",
       "        text-align: right;\n",
       "    }\n",
       "</style>\n",
       "<table border=\"1\" class=\"dataframe\">\n",
       "  <thead>\n",
       "    <tr style=\"text-align: right;\">\n",
       "      <th></th>\n",
       "      <th>округ</th>\n",
       "      <th>населенный_пункт</th>\n",
       "      <th>geometry</th>\n",
       "    </tr>\n",
       "  </thead>\n",
       "  <tbody>\n",
       "    <tr>\n",
       "      <th>0</th>\n",
       "      <td>Центральный федеральный округ</td>\n",
       "      <td>Петровское</td>\n",
       "      <td>POLYGON ((39.24971 57.00233, 39.25096 57.00613...</td>\n",
       "    </tr>\n",
       "    <tr>\n",
       "      <th>1</th>\n",
       "      <td>Центральный федеральный округ</td>\n",
       "      <td>Борисоглебский</td>\n",
       "      <td>POLYGON ((39.11849 57.24997, 39.12855 57.25556...</td>\n",
       "    </tr>\n",
       "  </tbody>\n",
       "</table>\n",
       "</div>"
      ],
      "text/plain": [
       "                           округ населенный_пункт  \\\n",
       "0  Центральный федеральный округ       Петровское   \n",
       "1  Центральный федеральный округ   Борисоглебский   \n",
       "\n",
       "                                            geometry  \n",
       "0  POLYGON ((39.24971 57.00233, 39.25096 57.00613...  \n",
       "1  POLYGON ((39.11849 57.24997, 39.12855 57.25556...  "
      ]
     },
     "execution_count": 122,
     "metadata": {},
     "output_type": "execute_result"
    }
   ],
   "source": [
    "data.head(2)"
   ]
  },
  {
   "cell_type": "code",
   "execution_count": 123,
   "id": "6dfcc2ec-899a-4a4b-8f24-c1c6cf903d9c",
   "metadata": {},
   "outputs": [
    {
     "data": {
      "text/plain": [
       "True"
      ]
     },
     "execution_count": 123,
     "metadata": {},
     "output_type": "execute_result"
    }
   ],
   "source": [
    "data.crs == \"EPSG:4326\""
   ]
  },
  {
   "cell_type": "code",
   "execution_count": 124,
   "id": "b41add1f-da95-4997-becc-b807486c16de",
   "metadata": {},
   "outputs": [
    {
     "data": {
      "text/plain": [
       "41783"
      ]
     },
     "execution_count": 124,
     "metadata": {},
     "output_type": "execute_result"
    }
   ],
   "source": [
    "len(data)"
   ]
  },
  {
   "cell_type": "code",
   "execution_count": 125,
   "id": "ec864d08-7ade-470f-9b36-7521a462b0a0",
   "metadata": {},
   "outputs": [
    {
     "name": "stderr",
     "output_type": "stream",
     "text": [
      "INFO:pyogrio._io:Created 41,783 records\n"
     ]
    }
   ],
   "source": [
    "data.to_file(\n",
    "    \"src/geojson/готовые/Центральный_федеральный_округ.geojson\", driver=\"GeoJSON\"\n",
    ")"
   ]
  },
  {
   "cell_type": "code",
   "execution_count": null,
   "id": "7f4cc737-b910-40f7-b219-00f1e8bcee58",
   "metadata": {},
   "outputs": [],
   "source": []
  }
 ],
 "metadata": {
  "kernelspec": {
   "display_name": "Python 3 (ipykernel)",
   "language": "python",
   "name": "python3"
  },
  "language_info": {
   "codemirror_mode": {
    "name": "ipython",
    "version": 3
   },
   "file_extension": ".py",
   "mimetype": "text/x-python",
   "name": "python",
   "nbconvert_exporter": "python",
   "pygments_lexer": "ipython3",
   "version": "3.12.0"
  }
 },
 "nbformat": 4,
 "nbformat_minor": 5
}
