{
 "cells": [
  {
   "cell_type": "code",
   "execution_count": 1,
   "id": "f57dec6a-1ff2-4251-9fcf-ea5187387f34",
   "metadata": {},
   "outputs": [],
   "source": [
    "import geopandas as gpd\n",
    "import pandas as pd\n",
    "import jupyter_black\n",
    "import logging\n",
    "import re\n",
    "import os"
   ]
  },
  {
   "cell_type": "code",
   "execution_count": 2,
   "id": "75db4bd7-0040-4728-91e6-9e6307a2d2a0",
   "metadata": {},
   "outputs": [
    {
     "data": {
      "text/html": [
       "\n",
       "                <script type=\"application/javascript\" id=\"jupyter_black\">\n",
       "                (function() {\n",
       "                    if (window.IPython === undefined) {\n",
       "                        return\n",
       "                    }\n",
       "                    var msg = \"WARNING: it looks like you might have loaded \" +\n",
       "                        \"jupyter_black in a non-lab notebook with \" +\n",
       "                        \"`is_lab=True`. Please double check, and if \" +\n",
       "                        \"loading with `%load_ext` please review the README!\"\n",
       "                    console.log(msg)\n",
       "                    alert(msg)\n",
       "                })()\n",
       "                </script>\n",
       "                "
      ],
      "text/plain": [
       "<IPython.core.display.HTML object>"
      ]
     },
     "metadata": {},
     "output_type": "display_data"
    }
   ],
   "source": [
    "jupyter_black.load()\n",
    "logging.getLogger().setLevel(logging.INFO)"
   ]
  },
  {
   "cell_type": "markdown",
   "id": "53435c1d-82ea-4618-9daa-ef0dcf8d1388",
   "metadata": {},
   "source": [
    "# Поиск населенный пункт - регион"
   ]
  },
  {
   "cell_type": "code",
   "execution_count": 25,
   "id": "83177a60-34e4-4431-bf49-4a45dee8e03c",
   "metadata": {},
   "outputs": [
    {
     "name": "stdout",
     "output_type": "stream",
     "text": [
      "Empty DataFrame\n",
      "Columns: [Region, City]\n",
      "Index: []\n"
     ]
    }
   ],
   "source": [
    "import pandas as pd\n",
    "from pyrosm import OSM, get_data\n",
    "\n",
    "# Загружаем данные из OSM PBF файла\n",
    "osm = OSM(\"C:/Users/Honor/Downloads/crimean-fed-district-latest.osm.pbf\")\n",
    "# Получаем все точки интереса (POIs) из OSM файла\n",
    "pois = osm.get_pois()\n",
    "\n",
    "# Извлекаем нужные данные (наименование региона и населенного пункта)\n",
    "data = []\n",
    "for idx, poi in pois.iterrows():\n",
    "    if \"addr:region\" in poi and \"addr:city\" in poi:\n",
    "        region = poi[\"addr:region\"]\n",
    "        city = poi[\"addr:city\"]\n",
    "        data.append([region, city])\n",
    "\n",
    "# Создаем датафрейм с данными\n",
    "df = pd.DataFrame(data, columns=[\"Region\", \"City\"])\n",
    "\n",
    "# Сохраняем датафрейм в файл (если нужно)\n",
    "# df.to_csv(\"regions_and_cities.csv\", index=False)\n",
    "\n",
    "# Выводим первые несколько строк датафрейма для проверки\n",
    "print(df.head())"
   ]
  },
  {
   "cell_type": "code",
   "execution_count": null,
   "id": "2f43de44-4a9d-40ea-8c5b-5c99b518a00e",
   "metadata": {},
   "outputs": [],
   "source": []
  },
  {
   "cell_type": "code",
   "execution_count": 40,
   "id": "9fe0d55e-ee18-4add-9f5b-698164d744d4",
   "metadata": {},
   "outputs": [],
   "source": [
    "boundaries = osm.get_boundaries()"
   ]
  },
  {
   "cell_type": "code",
   "execution_count": 41,
   "id": "81e53590-abbc-4579-84a6-d565674b9c5b",
   "metadata": {},
   "outputs": [
    {
     "data": {
      "text/plain": [
       "Index(['name', 'visible', 'admin_level', 'boundary', 'id', 'timestamp',\n",
       "       'version', 'geometry', 'tags', 'osm_type', 'addr:country',\n",
       "       'addr:postcode', 'ref', 'website', 'postal_code', 'border_type',\n",
       "       'changeset'],\n",
       "      dtype='object')"
      ]
     },
     "execution_count": 41,
     "metadata": {},
     "output_type": "execute_result"
    }
   ],
   "source": [
    "boundaries.columns"
   ]
  },
  {
   "cell_type": "code",
   "execution_count": 47,
   "id": "fb22d513-4ae8-4c6a-8b0d-fc9bee06bf21",
   "metadata": {},
   "outputs": [
    {
     "data": {
      "text/html": [
       "<div>\n",
       "<style scoped>\n",
       "    .dataframe tbody tr th:only-of-type {\n",
       "        vertical-align: middle;\n",
       "    }\n",
       "\n",
       "    .dataframe tbody tr th {\n",
       "        vertical-align: top;\n",
       "    }\n",
       "\n",
       "    .dataframe thead th {\n",
       "        text-align: right;\n",
       "    }\n",
       "</style>\n",
       "<table border=\"1\" class=\"dataframe\">\n",
       "  <thead>\n",
       "    <tr style=\"text-align: right;\">\n",
       "      <th></th>\n",
       "      <th>name</th>\n",
       "      <th>visible</th>\n",
       "      <th>admin_level</th>\n",
       "      <th>boundary</th>\n",
       "      <th>id</th>\n",
       "      <th>timestamp</th>\n",
       "      <th>version</th>\n",
       "      <th>geometry</th>\n",
       "      <th>tags</th>\n",
       "      <th>osm_type</th>\n",
       "      <th>addr:country</th>\n",
       "      <th>addr:postcode</th>\n",
       "      <th>ref</th>\n",
       "      <th>website</th>\n",
       "      <th>postal_code</th>\n",
       "      <th>border_type</th>\n",
       "      <th>changeset</th>\n",
       "    </tr>\n",
       "  </thead>\n",
       "  <tbody>\n",
       "    <tr>\n",
       "      <th>7</th>\n",
       "      <td>Южный федеральный округ</td>\n",
       "      <td>NaN</td>\n",
       "      <td>3</td>\n",
       "      <td>administrative</td>\n",
       "      <td>3649845</td>\n",
       "      <td>1722332321</td>\n",
       "      <td>518</td>\n",
       "      <td>MULTIPOLYGON (((37.26877 44.5845, 37.2607 44.5...</td>\n",
       "      <td>{\"name:ar\":\"\\u0645\\u0646\\u0637\\u0642\\u0629 \\u0...</td>\n",
       "      <td>relation</td>\n",
       "      <td>RU</td>\n",
       "      <td>None</td>\n",
       "      <td>None</td>\n",
       "      <td>None</td>\n",
       "      <td>None</td>\n",
       "      <td>None</td>\n",
       "      <td>0.0</td>\n",
       "    </tr>\n",
       "  </tbody>\n",
       "</table>\n",
       "</div>"
      ],
      "text/plain": [
       "                      name visible admin_level        boundary       id  \\\n",
       "7  Южный федеральный округ     NaN           3  administrative  3649845   \n",
       "\n",
       "    timestamp  version                                           geometry  \\\n",
       "7  1722332321      518  MULTIPOLYGON (((37.26877 44.5845, 37.2607 44.5...   \n",
       "\n",
       "                                                tags  osm_type addr:country  \\\n",
       "7  {\"name:ar\":\"\\u0645\\u0646\\u0637\\u0642\\u0629 \\u0...  relation           RU   \n",
       "\n",
       "  addr:postcode   ref website postal_code border_type  changeset  \n",
       "7          None  None    None        None        None        0.0  "
      ]
     },
     "execution_count": 47,
     "metadata": {},
     "output_type": "execute_result"
    }
   ],
   "source": [
    "boundaries[boundaries[\"admin_level\"] == \"3\"]"
   ]
  },
  {
   "cell_type": "code",
   "execution_count": null,
   "id": "8037c3d4-4b6c-4af8-9d97-25f8f1ec84ca",
   "metadata": {},
   "outputs": [],
   "source": []
  },
  {
   "cell_type": "code",
   "execution_count": 53,
   "id": "a7d38006-050c-449d-a470-bf242e525a17",
   "metadata": {},
   "outputs": [
    {
     "name": "stderr",
     "output_type": "stream",
     "text": [
      "C:\\Users\\Honor\\AppData\\Local\\Programs\\Python\\Python312\\Lib\\site-packages\\pyrosm\\pyrosm.py:767: UserWarning: Could not find any OSM data for given area.\n",
      "  gdf = get_user_defined_data(\n"
     ]
    }
   ],
   "source": [
    "from pyrosm import OSM\n",
    "import geopandas as gpd\n",
    "\n",
    "filename = \"donetsk_oblast-latest\"\n",
    "# Укажите путь к файлу PBF\n",
    "pbf_path = \"C:/Users/Honor/Downloads/crimean-fed-district-latest.osm.pbf\"\n",
    "\n",
    "# Загружаем данные OSM\n",
    "osm = OSM(pbf_path)\n",
    "\n",
    "# Извлекаем полигоны населенных пунктов (города, деревни и т.д.)\n",
    "places = osm.get_data_by_custom_criteria(\n",
    "    custom_filter={\"region\": True},\n",
    "    filter_type=\"keep\",\n",
    ")"
   ]
  },
  {
   "cell_type": "code",
   "execution_count": 57,
   "id": "b7c48e2a-3dd7-483f-adba-fce994169987",
   "metadata": {},
   "outputs": [],
   "source": [
    "places"
   ]
  },
  {
   "cell_type": "code",
   "execution_count": null,
   "id": "4cbb6149-a0a8-4789-a4b0-a447cfc3f1ac",
   "metadata": {},
   "outputs": [],
   "source": [
    "# Фильтруем только полигоны\n",
    "places_polygons = places[places.geometry.type == \"Polygon\"]\n",
    "\n",
    "# Опционально: сохраняем результат в файл\n",
    "places_polygons.to_file(f\"{filename}.geojson\", driver=\"GeoJSON\")"
   ]
  },
  {
   "cell_type": "code",
   "execution_count": null,
   "id": "967ff5c1-4778-41f7-aed2-78884f7ddf89",
   "metadata": {},
   "outputs": [],
   "source": []
  },
  {
   "cell_type": "code",
   "execution_count": null,
   "id": "5d964874-a21d-4fd5-838f-3df8a852b1f1",
   "metadata": {},
   "outputs": [],
   "source": []
  },
  {
   "cell_type": "code",
   "execution_count": null,
   "id": "b402d735-30c5-4e11-8f83-8972d373d245",
   "metadata": {},
   "outputs": [],
   "source": []
  },
  {
   "cell_type": "code",
   "execution_count": null,
   "id": "d8fe3fa1-5359-497b-9158-89e66f0b2c41",
   "metadata": {},
   "outputs": [],
   "source": [
    "import osmnx as ox\n",
    "import pandas as pd\n",
    "import geopandas as gpd\n",
    "\n",
    "# Загружаем данные из файла .pbf\n",
    "gdf = ox.geometries_from_place(\"Russia\", tags={\"admin_level\": \"4\"})\n",
    "\n",
    "# Извлекаем наименование региона и населенного пункта\n",
    "# Предполагается, что name для admin_level=4 является названием региона\n",
    "# А для населенных пунктов - это города или села\n",
    "\n",
    "# Фильтруем регионы (admin_level=4)\n",
    "regions = gdf[gdf['admin_level'] == '4'][['name', 'geometry']]\n",
    "\n",
    "# Загружаем все населенные пункты (admin_level=8)\n",
    "places = ox.geometries_from_place(\"Russia\", tags={\"place\": True})\n",
    "places = places[['name', 'geometry']]\n",
    "\n",
    "# Преобразуем данные в DataFrame\n",
    "regions_df = pd.DataFrame(regions[['name']])\n",
    "places_df = pd.DataFrame(places[['name']])\n",
    "\n",
    "# Объединяем регионы и населенные пункты\n",
    "result_df = pd.concat([regions_df, places_df], axis=1)\n",
    "\n",
    "# Сохраняем результат в файл или выводим на экран\n",
    "result_df.to_csv(\"regions_places.csv\", index=False)\n",
    "print(result_df.head())"
   ]
  },
  {
   "cell_type": "code",
   "execution_count": 3,
   "id": "40ba4c7e-ac56-4e49-a00a-fcceff32ae4c",
   "metadata": {},
   "outputs": [
    {
     "name": "stderr",
     "output_type": "stream",
     "text": [
      "INFO:pyogrio._io:Created 1,048 records\n"
     ]
    }
   ],
   "source": [
    "from pyrosm import OSM\n",
    "import geopandas as gpd\n",
    "\n",
    "filename = \"crimean-fed-district-latest\"\n",
    "# Укажите путь к файлу PBF\n",
    "pbf_path = rf\"C:/Users/Honor/Downloads/{filename}.osm.pbf\"\n",
    "\n",
    "# Загружаем данные OSM\n",
    "osm = OSM(pbf_path)\n",
    "\n",
    "# Извлекаем полигоны населенных пунктов (города, деревни и т.д.)\n",
    "places = osm.get_data_by_custom_criteria(\n",
    "    custom_filter={\n",
    "        \"place\": [\"city\", \"town\", \"village\", \"hamlet\", \"locality\", \"suburb\"]\n",
    "    },\n",
    "    filter_type=\"keep\",\n",
    ")\n",
    "\n",
    "# Фильтруем только полигоны\n",
    "places_polygons = places[places.geometry.type == \"Polygon\"]\n",
    "\n",
    "# Опционально: сохраняем результат в файл\n",
    "places_polygons.to_file(f\"{filename}.geojson\", driver=\"GeoJSON\")"
   ]
  },
  {
   "cell_type": "code",
   "execution_count": 6,
   "id": "e442f120-8542-4daf-a886-e86bf105409d",
   "metadata": {},
   "outputs": [],
   "source": [
    "region = gpd.read_file(f\"{filename}.geojson\")"
   ]
  },
  {
   "cell_type": "code",
   "execution_count": 8,
   "id": "e4f09077-0014-4152-9613-9660a63ac2af",
   "metadata": {},
   "outputs": [
    {
     "data": {
      "text/html": [
       "<div>\n",
       "<style scoped>\n",
       "    .dataframe tbody tr th:only-of-type {\n",
       "        vertical-align: middle;\n",
       "    }\n",
       "\n",
       "    .dataframe tbody tr th {\n",
       "        vertical-align: top;\n",
       "    }\n",
       "\n",
       "    .dataframe thead th {\n",
       "        text-align: right;\n",
       "    }\n",
       "</style>\n",
       "<table border=\"1\" class=\"dataframe\">\n",
       "  <thead>\n",
       "    <tr style=\"text-align: right;\">\n",
       "      <th></th>\n",
       "      <th>version</th>\n",
       "      <th>visible</th>\n",
       "      <th>timestamp</th>\n",
       "      <th>tags</th>\n",
       "      <th>id</th>\n",
       "      <th>changeset</th>\n",
       "      <th>lon</th>\n",
       "      <th>lat</th>\n",
       "      <th>place</th>\n",
       "      <th>osm_type</th>\n",
       "      <th>geometry</th>\n",
       "    </tr>\n",
       "  </thead>\n",
       "  <tbody>\n",
       "    <tr>\n",
       "      <th>0</th>\n",
       "      <td>7</td>\n",
       "      <td>None</td>\n",
       "      <td>1720729731</td>\n",
       "      <td>{ \"visible\": false, \"name\": \"Егорово\", \"name:e...</td>\n",
       "      <td>30711501</td>\n",
       "      <td>NaN</td>\n",
       "      <td>None</td>\n",
       "      <td>None</td>\n",
       "      <td>village</td>\n",
       "      <td>way</td>\n",
       "      <td>POLYGON ((36.48503 45.38541, 36.48073 45.38464...</td>\n",
       "    </tr>\n",
       "    <tr>\n",
       "      <th>1</th>\n",
       "      <td>16</td>\n",
       "      <td>None</td>\n",
       "      <td>1680157447</td>\n",
       "      <td>{ \"visible\": false, \"name\": \"Станционное\", \"na...</td>\n",
       "      <td>30711507</td>\n",
       "      <td>NaN</td>\n",
       "      <td>None</td>\n",
       "      <td>None</td>\n",
       "      <td>village</td>\n",
       "      <td>way</td>\n",
       "      <td>POLYGON ((36.03743 45.3534, 36.03265 45.35399,...</td>\n",
       "    </tr>\n",
       "  </tbody>\n",
       "</table>\n",
       "</div>"
      ],
      "text/plain": [
       "   version visible   timestamp  \\\n",
       "0        7    None  1720729731   \n",
       "1       16    None  1680157447   \n",
       "\n",
       "                                                tags        id  changeset  \\\n",
       "0  { \"visible\": false, \"name\": \"Егорово\", \"name:e...  30711501        NaN   \n",
       "1  { \"visible\": false, \"name\": \"Станционное\", \"na...  30711507        NaN   \n",
       "\n",
       "    lon   lat    place osm_type  \\\n",
       "0  None  None  village      way   \n",
       "1  None  None  village      way   \n",
       "\n",
       "                                            geometry  \n",
       "0  POLYGON ((36.48503 45.38541, 36.48073 45.38464...  \n",
       "1  POLYGON ((36.03743 45.3534, 36.03265 45.35399,...  "
      ]
     },
     "execution_count": 8,
     "metadata": {},
     "output_type": "execute_result"
    }
   ],
   "source": [
    "region.head(2)"
   ]
  },
  {
   "cell_type": "code",
   "execution_count": null,
   "id": "c324f284-62b3-4e7a-b828-cb02391aeaa1",
   "metadata": {},
   "outputs": [],
   "source": [
    "region[region.tags.str.contains(\"Крым\")]"
   ]
  },
  {
   "cell_type": "code",
   "execution_count": null,
   "id": "2c6841f1-5b00-4a52-af44-8480d24de916",
   "metadata": {},
   "outputs": [],
   "source": []
  },
  {
   "cell_type": "code",
   "execution_count": null,
   "id": "cc449d9d-8001-48f5-bdb1-7c97348e969a",
   "metadata": {},
   "outputs": [],
   "source": []
  },
  {
   "cell_type": "code",
   "execution_count": null,
   "id": "b44f9660-a330-4aa1-92fc-9b97d9d29352",
   "metadata": {},
   "outputs": [],
   "source": [
    "    def way(self, w):\n",
    "        tags = w.tags\n",
    "        if 'boundary' in tags and tags['boundary'] == 'administrative':\n",
    "            if 'name' in tags and 'admin_level' in tags:\n",
    "                name = tags['name']\n",
    "                admin_level = tags['admin_level']\n",
    "\n",
    "                if admin_level == '4':  # Уровень региона (обычно admin_level = 4 для регионов)\n",
    "                    region_name = name\n",
    "\n",
    "                    # Получаем геометрию и сохраняем её как WKT\n",
    "                    geom_wkt = w.geom.wkt\n",
    "                    self.data.append({\n",
    "                        'region': region_name,\n",
    "                        'geometry': geom_wkt\n",
    "                    })\n",
    "\n",
    "        if 'place' in tags and tags['place'] in ['city', 'town', 'village']:\n",
    "            if 'name' in tags:\n",
    "                place_name = tags['name']\n",
    "\n",
    "                # Получаем геометрию и сохраняем её как WKT\n",
    "                geom_wkt = w.geom.wkt\n",
    "                self.data.append({\n",
    "                    'city': place_name,\n",
    "                    'geometry': geom_wkt\n",
    "                })\n",
    "\n",
    "    def save_to_file(self, filename):\n",
    "        with open(filename, 'w', encoding='utf-8') as f:\n",
    "            for item in self.data:\n",
    "                if 'region' in item:\n",
    "                    f.write(f\"Регион: {item['region']}, Геометрия: {item['geometry']}\\n\")\n",
    "                elif 'city' in item:\n",
    "                    f.write(f\"Населенный пункт: {item['city']}, Геометрия: {item['geometry']}\\n\")\n",
    "\n",
    "# Инициализация обработчика\n",
    "handler = OSMHandler()\n",
    "\n",
    "# Путь к файлу PBF\n",
    "pbf_file = \"C:/Users/Honor/Downloads/crimean-fed-district-latest.osm.pbf\"\n",
    "\n",
    "# Обработка файла\n",
    "handler.apply_file(pbf_file)\n",
    "print(handler)\n",
    "# Сохранение результата в файл\n",
    "# handler.save_to_file('output.txt')\n",
    "\n",
    "print(\"Обработка завершена. Результат сохранен в 'output.txt'\")"
   ]
  },
  {
   "cell_type": "code",
   "execution_count": null,
   "id": "46702ae0-82d8-453f-92c3-743a6eac5f4a",
   "metadata": {},
   "outputs": [],
   "source": [
    "handler"
   ]
  },
  {
   "cell_type": "code",
   "execution_count": null,
   "id": "b92d3f58-9b3d-43bd-b806-f4f329c28727",
   "metadata": {},
   "outputs": [],
   "source": []
  }
 ],
 "metadata": {
  "kernelspec": {
   "display_name": "Python 3 (ipykernel)",
   "language": "python",
   "name": "python3"
  },
  "language_info": {
   "codemirror_mode": {
    "name": "ipython",
    "version": 3
   },
   "file_extension": ".py",
   "mimetype": "text/x-python",
   "name": "python",
   "nbconvert_exporter": "python",
   "pygments_lexer": "ipython3",
   "version": "3.12.0"
  }
 },
 "nbformat": 4,
 "nbformat_minor": 5
}
