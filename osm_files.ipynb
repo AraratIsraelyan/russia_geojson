{
 "cells": [
  {
   "cell_type": "raw",
   "id": "a2d01657-2ace-4f1b-b848-b829f1402af9",
   "metadata": {},
   "source": [
    "\"\"\"\n",
    "Создание geojson файла населенных пунктов России\n",
    "\"\"\""
   ]
  },
  {
   "cell_type": "markdown",
   "id": "7df70db6-a371-4108-8e36-0a04c54047a8",
   "metadata": {},
   "source": [
    "# Установка и импорт зависимостей"
   ]
  },
  {
   "cell_type": "code",
   "execution_count": null,
   "id": "20923c0e-1f9a-4199-989e-bbbb141be7ff",
   "metadata": {},
   "outputs": [],
   "source": [
    "pip install -r requirements.txt"
   ]
  },
  {
   "cell_type": "code",
   "execution_count": 3,
   "id": "6b5e1ff0-595a-4d0d-87e5-077ce4aff045",
   "metadata": {},
   "outputs": [],
   "source": [
    "import pyarrow.parquet as pq\n",
    "import geopandas as gpd\n",
    "import pandas as pd\n",
    "import jupyter_black\n",
    "import logging\n",
    "import re\n",
    "import os"
   ]
  },
  {
   "cell_type": "code",
   "execution_count": 4,
   "id": "3bb761d4-52f6-4d92-ba23-800cbde5116c",
   "metadata": {},
   "outputs": [
    {
     "data": {
      "text/html": [
       "\n",
       "                <script type=\"application/javascript\" id=\"jupyter_black\">\n",
       "                (function() {\n",
       "                    if (window.IPython === undefined) {\n",
       "                        return\n",
       "                    }\n",
       "                    var msg = \"WARNING: it looks like you might have loaded \" +\n",
       "                        \"jupyter_black in a non-lab notebook with \" +\n",
       "                        \"`is_lab=True`. Please double check, and if \" +\n",
       "                        \"loading with `%load_ext` please review the README!\"\n",
       "                    console.log(msg)\n",
       "                    alert(msg)\n",
       "                })()\n",
       "                </script>\n",
       "                "
      ],
      "text/plain": [
       "<IPython.core.display.HTML object>"
      ]
     },
     "metadata": {},
     "output_type": "display_data"
    }
   ],
   "source": [
    "jupyter_black.load()\n",
    "logging.getLogger().setLevel(logging.INFO)"
   ]
  },
  {
   "cell_type": "code",
   "execution_count": 5,
   "id": "467817df-2a98-43a4-87ab-69c679954e63",
   "metadata": {},
   "outputs": [],
   "source": [
    "pd.set_option(\"display.max_columns\", None)\n",
    "pd.set_option(\"display.max_colwidth\", None)"
   ]
  },
  {
   "cell_type": "markdown",
   "id": "560dfede-b658-4866-81b1-c0479817ed7a",
   "metadata": {},
   "source": [
    "# Этап 1.\n",
    "1. С сайта OSM GEOFABRICK downloads <link>https://download.geofabrik.de/russia.html</link> скачиваем .shp файлы территориальных округов РФ.\n",
    "2. Распаковываем в папке src/OSM_Geofabric.\n",
    "3. С помощью функции **merge_shapefiles** объединяем .shp файлы содержащие геометрию **POLYGON** в один единый файл, сохраняем его."
   ]
  },
  {
   "cell_type": "markdown",
   "id": "4d8e7827-cf58-43b4-88ac-bd940393c0e3",
   "metadata": {},
   "source": [
    "## Объединяем данные территории в один большой shapefile"
   ]
  },
  {
   "cell_type": "code",
   "execution_count": 6,
   "id": "738342c1-375f-4622-9e65-edcf1c90d629",
   "metadata": {},
   "outputs": [
    {
     "name": "stderr",
     "output_type": "stream",
     "text": [
      "C:\\Users\\Honor\\AppData\\Local\\Programs\\Python\\Python312\\Lib\\site-packages\\pyogrio\\raw.py:709: RuntimeWarning: 2GB file size limit reached for src/union_shapefiles/Украина\\Украина.dbf. Going on, but might cause compatibility issues with third party software\n",
      "  ogr_write(\n"
     ]
    }
   ],
   "source": [
    "def merge_shapefiles(input_folder, output_file):\n",
    "    \"\"\"\n",
    "    Читает все Shape-файлы из указанной папки, фильтрует по типу геометрии и объединяет их в один файл.\n",
    "\n",
    "    Параметры:\n",
    "    - input_folder (str): Путь к папке, содержащей Shape-файлы.\n",
    "    - output_file (str): Имя выходного файла для сохранения объединенного Shape-файла.\n",
    "    \"\"\"\n",
    "    # Получаем список всех Shape-файлов в указанной папке\n",
    "    shapefiles = [\n",
    "        os.path.join(input_folder, file)\n",
    "        for file in os.listdir(input_folder)\n",
    "        if file.endswith(\".shp\")\n",
    "    ]\n",
    "\n",
    "    # Инициализируем список для хранения GeoDataFrames одного типа\n",
    "    merged_gdf = None\n",
    "    geometry_type = None\n",
    "\n",
    "    for shapefile in shapefiles:\n",
    "        gdf = gpd.read_file(shapefile)\n",
    "\n",
    "        # Если это первый файл, сохраняем тип геометрии\n",
    "        if merged_gdf is None:\n",
    "            merged_gdf = gdf\n",
    "            geometry_type = gdf.geometry.geom_type.iloc[0]\n",
    "        else:\n",
    "            # Проверяем тип геометрии и добавляем только подходящие GeoDataFrame\n",
    "            if gdf.geometry.geom_type.iloc[0] == geometry_type:\n",
    "                merged_gdf = gpd.GeoDataFrame(\n",
    "                    pd.concat([merged_gdf, gdf], ignore_index=True)\n",
    "                )\n",
    "            else:\n",
    "                logging.warning(\n",
    "                    f\"Пропущен файл {shapefile[18:]}: тип геометрии {gdf.geometry.geom_type.iloc[0]} не совпадает с {geometry_type}\"\n",
    "                )\n",
    "\n",
    "    # Сохраняем объединенный Shape-файл, если есть данные\n",
    "    if merged_gdf is not None:\n",
    "        merged_gdf.to_file(output_file)\n",
    "        logging.info(f\"Объединенные Shape-файлы сохранены в {output_file}\")\n",
    "    else:\n",
    "        logging.error(\"Нет данных для объединения.\")\n",
    "\n",
    "\n",
    "# Пример использования функции\n",
    "input_folder = \"src/OSM_Geofabric/Украина\"  # Путь к папке с Shape-файлами\n",
    "output_file = (\n",
    "    \"src/union_shapefiles/Украина\"  # Путь и имя для сохранения объединенного файла\n",
    ")\n",
    "\n",
    "merge_shapefiles(input_folder, output_file)"
   ]
  },
  {
   "cell_type": "markdown",
   "id": "420641eb-a06f-40df-b5a6-1dd6ffc3c4fe",
   "metadata": {},
   "source": [
    "# Этап 2\n",
    "1. Считываем \"большой\" .shp файл\n",
    "2. Отбираем строки со следующими населенными пунктами: city, town, village, hamlet, suburb\n",
    "3. Сохраняем как GeoDataFrame"
   ]
  },
  {
   "cell_type": "code",
   "execution_count": 12,
   "id": "d9b2afe6-f794-49a6-a0bb-06f0e71030a0",
   "metadata": {},
   "outputs": [],
   "source": [
    "region = \"Северо_Кавказский_федеральный_округ\""
   ]
  },
  {
   "cell_type": "code",
   "execution_count": 6,
   "id": "dae73568-b19c-4a81-90eb-f28127e1b112",
   "metadata": {},
   "outputs": [],
   "source": [
    "data = gpd.read_file(f\"src/union_shapefiles/{region}/{region}.shp\")"
   ]
  },
  {
   "cell_type": "code",
   "execution_count": 8,
   "id": "03c5abde-d765-409f-aeb7-42650975184d",
   "metadata": {},
   "outputs": [
    {
     "data": {
      "text/html": [
       "<div>\n",
       "<style scoped>\n",
       "    .dataframe tbody tr th:only-of-type {\n",
       "        vertical-align: middle;\n",
       "    }\n",
       "\n",
       "    .dataframe tbody tr th {\n",
       "        vertical-align: top;\n",
       "    }\n",
       "\n",
       "    .dataframe thead th {\n",
       "        text-align: right;\n",
       "    }\n",
       "</style>\n",
       "<table border=\"1\" class=\"dataframe\">\n",
       "  <thead>\n",
       "    <tr style=\"text-align: right;\">\n",
       "      <th></th>\n",
       "      <th>osm_id</th>\n",
       "      <th>code</th>\n",
       "      <th>fclass</th>\n",
       "      <th>name</th>\n",
       "      <th>type</th>\n",
       "      <th>population</th>\n",
       "      <th>geometry</th>\n",
       "    </tr>\n",
       "  </thead>\n",
       "  <tbody>\n",
       "    <tr>\n",
       "      <th>0</th>\n",
       "      <td>40426402</td>\n",
       "      <td>1500</td>\n",
       "      <td>building</td>\n",
       "      <td>БТА</td>\n",
       "      <td>None</td>\n",
       "      <td>NaN</td>\n",
       "      <td>POLYGON ((41.4404 43.64667, 41.44041 43.64675,...</td>\n",
       "    </tr>\n",
       "    <tr>\n",
       "      <th>1</th>\n",
       "      <td>43317748</td>\n",
       "      <td>1500</td>\n",
       "      <td>building</td>\n",
       "      <td>None</td>\n",
       "      <td>None</td>\n",
       "      <td>NaN</td>\n",
       "      <td>POLYGON ((40.79185 43.58217, 40.792 43.58228, ...</td>\n",
       "    </tr>\n",
       "  </tbody>\n",
       "</table>\n",
       "</div>"
      ],
      "text/plain": [
       "     osm_id  code    fclass  name  type  population  \\\n",
       "0  40426402  1500  building   БТА  None         NaN   \n",
       "1  43317748  1500  building  None  None         NaN   \n",
       "\n",
       "                                            geometry  \n",
       "0  POLYGON ((41.4404 43.64667, 41.44041 43.64675,...  \n",
       "1  POLYGON ((40.79185 43.58217, 40.792 43.58228, ...  "
      ]
     },
     "execution_count": 8,
     "metadata": {},
     "output_type": "execute_result"
    }
   ],
   "source": [
    "data.head(2)"
   ]
  },
  {
   "cell_type": "code",
   "execution_count": 9,
   "id": "756e8062-ab3f-4b9c-ba2b-093754116bf7",
   "metadata": {},
   "outputs": [],
   "source": [
    "geo_df = data[\n",
    "    (\n",
    "        data[\"fclass\"].isin(\n",
    "            [\n",
    "                \"city\",  # город\n",
    "                \"town\",  # небольшой город\n",
    "                \"village\",  # деревни\n",
    "                \"hamlet\",  # поселки\n",
    "                \"suburb\",  # пригород снт\n",
    "                \"locality\",  # поселения\n",
    "            ]\n",
    "        )\n",
    "    )\n",
    "    & (data[\"name\"].notna())\n",
    "]"
   ]
  },
  {
   "cell_type": "code",
   "execution_count": 10,
   "id": "d82c222b-b398-42b4-b5b1-ed2e9a4f2ff1",
   "metadata": {},
   "outputs": [],
   "source": [
    "geo_gdf = gpd.GeoDataFrame(geo_df, geometry=\"geometry\")"
   ]
  },
  {
   "cell_type": "code",
   "execution_count": null,
   "id": "df4eb266-30d3-4bd3-a8fb-1e833698f28c",
   "metadata": {},
   "outputs": [],
   "source": [
    "geo_df.to_file(f\"src/geojson/{region}.geojson\", driver=\"GeoJSON\")"
   ]
  },
  {
   "cell_type": "markdown",
   "id": "0e6b84ac-b618-40ec-866b-057b74306d63",
   "metadata": {},
   "source": [
    "## Обработка .shp файлов Украины"
   ]
  },
  {
   "cell_type": "code",
   "execution_count": 128,
   "id": "019a13ed-6484-4ae1-a472-afcd26dfd06a",
   "metadata": {},
   "outputs": [
    {
     "data": {
      "text/html": [
       "<div>\n",
       "<style scoped>\n",
       "    .dataframe tbody tr th:only-of-type {\n",
       "        vertical-align: middle;\n",
       "    }\n",
       "\n",
       "    .dataframe tbody tr th {\n",
       "        vertical-align: top;\n",
       "    }\n",
       "\n",
       "    .dataframe thead th {\n",
       "        text-align: right;\n",
       "    }\n",
       "</style>\n",
       "<table border=\"1\" class=\"dataframe\">\n",
       "  <thead>\n",
       "    <tr style=\"text-align: right;\">\n",
       "      <th></th>\n",
       "      <th>osm_id</th>\n",
       "      <th>code</th>\n",
       "      <th>fclass</th>\n",
       "      <th>name</th>\n",
       "      <th>type</th>\n",
       "      <th>population</th>\n",
       "      <th>geometry</th>\n",
       "    </tr>\n",
       "  </thead>\n",
       "  <tbody>\n",
       "    <tr>\n",
       "      <th>0</th>\n",
       "      <td>4338650</td>\n",
       "      <td>1500</td>\n",
       "      <td>building</td>\n",
       "      <td>None</td>\n",
       "      <td>construction</td>\n",
       "      <td>NaN</td>\n",
       "      <td>POLYGON ((30.46599 50.374, 30.46734 50.3749, 30.46852 50.37417, 30.4678 50.37373, 30.46715 50.37331, 30.46599 50.374))</td>\n",
       "    </tr>\n",
       "    <tr>\n",
       "      <th>1</th>\n",
       "      <td>4528325</td>\n",
       "      <td>1500</td>\n",
       "      <td>building</td>\n",
       "      <td>None</td>\n",
       "      <td>None</td>\n",
       "      <td>NaN</td>\n",
       "      <td>POLYGON ((35.41496 45.32753, 35.41501 45.32758, 35.41508 45.32755, 35.41503 45.32749, 35.41496 45.32753))</td>\n",
       "    </tr>\n",
       "    <tr>\n",
       "      <th>2</th>\n",
       "      <td>4528616</td>\n",
       "      <td>1500</td>\n",
       "      <td>building</td>\n",
       "      <td>None</td>\n",
       "      <td>None</td>\n",
       "      <td>NaN</td>\n",
       "      <td>POLYGON ((35.41507 45.32777, 35.41517 45.32786, 35.41521 45.32784, 35.41511 45.32775, 35.41507 45.32777))</td>\n",
       "    </tr>\n",
       "    <tr>\n",
       "      <th>3</th>\n",
       "      <td>4528933</td>\n",
       "      <td>1500</td>\n",
       "      <td>building</td>\n",
       "      <td>None</td>\n",
       "      <td>None</td>\n",
       "      <td>NaN</td>\n",
       "      <td>POLYGON ((35.41229 45.33092, 35.41231 45.33094, 35.41237 45.3309, 35.41234 45.33088, 35.41229 45.33092))</td>\n",
       "    </tr>\n",
       "    <tr>\n",
       "      <th>4</th>\n",
       "      <td>4529198</td>\n",
       "      <td>1500</td>\n",
       "      <td>building</td>\n",
       "      <td>None</td>\n",
       "      <td>None</td>\n",
       "      <td>NaN</td>\n",
       "      <td>POLYGON ((33.71984 44.40865, 33.72014 44.40877, 33.7202 44.4087, 33.7199 44.40858, 33.71984 44.40865))</td>\n",
       "    </tr>\n",
       "    <tr>\n",
       "      <th>5</th>\n",
       "      <td>4773441</td>\n",
       "      <td>1500</td>\n",
       "      <td>building</td>\n",
       "      <td>Міжнародний аеропорт «Львів» ім. Данила Галицького</td>\n",
       "      <td>None</td>\n",
       "      <td>NaN</td>\n",
       "      <td>POLYGON ((23.95813 49.81394, 23.95819 49.81397, 23.95851 49.81377, 23.9587 49.81389, 23.95923 49.81423, 23.95925 49.81421, 23.95949 49.81405, 23.96042 49.81344, 23.96064 49.8133, 23.96073 49.81324, 23.96054 49.81312, 23.96229 49.81197, 23.96211 49.81185, 23.96175 49.81209, 23.9616 49.81199, 23.96121 49.81174, 23.96116 49.81177, 23.96156 49.81202, 23.96171 49.81212, 23.96092 49.81264, 23.96077 49.81254, 23.96038 49.81229, 23.96033 49.81232, 23.96073 49.81257, 23.96088 49.81267, 23.96062 49.81283, 23.96023 49.81258, 23.95996 49.81275, 23.95992 49.81273, 23.9598 49.81281, 23.95964 49.81271, 23.95959 49.81268, 23.95957 49.81269, 23.95962 49.81273, 23.95978 49.81283, 23.95939 49.81308, 23.95924 49.81298, 23.95919 49.81295, 23.95917 49.81296, 23.95922 49.81299, 23.95938 49.81309, 23.95895 49.81337, 23.9588 49.81327, 23.95875 49.81324, 23.95873 49.81325, 23.95878 49.81328, 23.95894 49.81338, 23.95852 49.81366, 23.95837 49.81356, 23.95832 49.81353, 23.9583 49.81354, 23.95835 49.81357, 23.9585 49.81367, 23.95843 49.81372, 23.95844 49.81373, 23.95813 49.81394))</td>\n",
       "    </tr>\n",
       "    <tr>\n",
       "      <th>6</th>\n",
       "      <td>23118657</td>\n",
       "      <td>1500</td>\n",
       "      <td>building</td>\n",
       "      <td>None</td>\n",
       "      <td>apartments</td>\n",
       "      <td>NaN</td>\n",
       "      <td>POLYGON ((30.62538 50.43625, 30.62555 50.43629, 30.62591 50.4357, 30.62574 50.43566, 30.62538 50.43625))</td>\n",
       "    </tr>\n",
       "    <tr>\n",
       "      <th>7</th>\n",
       "      <td>23151565</td>\n",
       "      <td>1500</td>\n",
       "      <td>building</td>\n",
       "      <td>None</td>\n",
       "      <td>apartments</td>\n",
       "      <td>NaN</td>\n",
       "      <td>POLYGON ((30.62585 50.43546, 30.62601 50.4355, 30.62636 50.43491, 30.6262 50.43487, 30.62585 50.43546))</td>\n",
       "    </tr>\n",
       "    <tr>\n",
       "      <th>8</th>\n",
       "      <td>23151566</td>\n",
       "      <td>1500</td>\n",
       "      <td>building</td>\n",
       "      <td>ЖРЕО-417</td>\n",
       "      <td>apartments</td>\n",
       "      <td>NaN</td>\n",
       "      <td>POLYGON ((30.62573 50.43636, 30.62629 50.4365, 30.62635 50.4364, 30.62579 50.43626, 30.62573 50.43636))</td>\n",
       "    </tr>\n",
       "    <tr>\n",
       "      <th>9</th>\n",
       "      <td>23151569</td>\n",
       "      <td>1500</td>\n",
       "      <td>building</td>\n",
       "      <td>None</td>\n",
       "      <td>apartments</td>\n",
       "      <td>NaN</td>\n",
       "      <td>POLYGON ((30.6265 50.43652, 30.62667 50.43656, 30.62714 50.43578, 30.62697 50.43574, 30.6265 50.43652))</td>\n",
       "    </tr>\n",
       "    <tr>\n",
       "      <th>10</th>\n",
       "      <td>23151570</td>\n",
       "      <td>1500</td>\n",
       "      <td>building</td>\n",
       "      <td>None</td>\n",
       "      <td>apartments</td>\n",
       "      <td>NaN</td>\n",
       "      <td>POLYGON ((30.6263 50.43582, 30.62648 50.43586, 30.62698 50.43504, 30.6268 50.435, 30.6263 50.43582))</td>\n",
       "    </tr>\n",
       "    <tr>\n",
       "      <th>11</th>\n",
       "      <td>23151577</td>\n",
       "      <td>1500</td>\n",
       "      <td>building</td>\n",
       "      <td>None</td>\n",
       "      <td>apartments</td>\n",
       "      <td>NaN</td>\n",
       "      <td>POLYGON ((30.62767 50.43619, 30.6279 50.4365, 30.62808 50.43645, 30.62785 50.43613, 30.62767 50.43619))</td>\n",
       "    </tr>\n",
       "    <tr>\n",
       "      <th>12</th>\n",
       "      <td>23151578</td>\n",
       "      <td>1500</td>\n",
       "      <td>building</td>\n",
       "      <td>None</td>\n",
       "      <td>apartments</td>\n",
       "      <td>NaN</td>\n",
       "      <td>POLYGON ((30.62804 50.43695, 30.629 50.43719, 30.62908 50.43705, 30.62812 50.43681, 30.62804 50.43695))</td>\n",
       "    </tr>\n",
       "    <tr>\n",
       "      <th>13</th>\n",
       "      <td>23151579</td>\n",
       "      <td>1500</td>\n",
       "      <td>building</td>\n",
       "      <td>None</td>\n",
       "      <td>apartments</td>\n",
       "      <td>NaN</td>\n",
       "      <td>POLYGON ((30.62917 50.4372, 30.6293 50.43724, 30.6294 50.43726, 30.62948 50.43728, 30.62957 50.43715, 30.62973 50.43688, 30.62989 50.43661, 30.63017 50.43616, 30.63035 50.43586, 30.63004 50.43578, 30.62997 50.43589, 30.63011 50.43593, 30.62938 50.43711, 30.62925 50.43708, 30.62917 50.4372))</td>\n",
       "    </tr>\n",
       "    <tr>\n",
       "      <th>14</th>\n",
       "      <td>23151580</td>\n",
       "      <td>1500</td>\n",
       "      <td>building</td>\n",
       "      <td>None</td>\n",
       "      <td>apartments</td>\n",
       "      <td>NaN</td>\n",
       "      <td>POLYGON ((30.62511 50.4378, 30.62527 50.43784, 30.62576 50.43704, 30.6256 50.437, 30.62511 50.4378))</td>\n",
       "    </tr>\n",
       "    <tr>\n",
       "      <th>15</th>\n",
       "      <td>23151581</td>\n",
       "      <td>1500</td>\n",
       "      <td>building</td>\n",
       "      <td>None</td>\n",
       "      <td>apartments</td>\n",
       "      <td>NaN</td>\n",
       "      <td>POLYGON ((30.62529 50.43854, 30.62546 50.43859, 30.62595 50.43776, 30.62578 50.43772, 30.62529 50.43854))</td>\n",
       "    </tr>\n",
       "    <tr>\n",
       "      <th>16</th>\n",
       "      <td>23151582</td>\n",
       "      <td>1500</td>\n",
       "      <td>building</td>\n",
       "      <td>None</td>\n",
       "      <td>apartments</td>\n",
       "      <td>NaN</td>\n",
       "      <td>POLYGON ((30.62448 50.43835, 30.62514 50.43851, 30.6252 50.43841, 30.62454 50.43825, 30.62448 50.43835))</td>\n",
       "    </tr>\n",
       "    <tr>\n",
       "      <th>17</th>\n",
       "      <td>23151584</td>\n",
       "      <td>1500</td>\n",
       "      <td>building</td>\n",
       "      <td>None</td>\n",
       "      <td>apartments</td>\n",
       "      <td>NaN</td>\n",
       "      <td>POLYGON ((30.62415 50.43826, 30.62433 50.4383, 30.62469 50.4377, 30.62452 50.43765, 30.62415 50.43826))</td>\n",
       "    </tr>\n",
       "    <tr>\n",
       "      <th>18</th>\n",
       "      <td>23151585</td>\n",
       "      <td>1500</td>\n",
       "      <td>building</td>\n",
       "      <td>None</td>\n",
       "      <td>apartments</td>\n",
       "      <td>NaN</td>\n",
       "      <td>POLYGON ((30.62463 50.43752, 30.6248 50.43756, 30.62519 50.43689, 30.62502 50.43685, 30.62463 50.43752))</td>\n",
       "    </tr>\n",
       "    <tr>\n",
       "      <th>19</th>\n",
       "      <td>23151586</td>\n",
       "      <td>1500</td>\n",
       "      <td>building</td>\n",
       "      <td>None</td>\n",
       "      <td>apartments</td>\n",
       "      <td>NaN</td>\n",
       "      <td>POLYGON ((30.62804 50.43921, 30.6281 50.43923, 30.62817 50.43924, 30.62831 50.43928, 30.62842 50.4391, 30.6285 50.43897, 30.6286 50.4388, 30.62868 50.43867, 30.62885 50.43838, 30.62889 50.43832, 30.62916 50.43786, 30.62888 50.43779, 30.62881 50.4379, 30.62896 50.43794, 30.62894 50.43797, 30.6289 50.43796, 30.62822 50.4391, 30.62827 50.43911, 30.62825 50.43914, 30.6281 50.43911, 30.62804 50.43921))</td>\n",
       "    </tr>\n",
       "  </tbody>\n",
       "</table>\n",
       "</div>"
      ],
      "text/plain": [
       "      osm_id  code    fclass  \\\n",
       "0    4338650  1500  building   \n",
       "1    4528325  1500  building   \n",
       "2    4528616  1500  building   \n",
       "3    4528933  1500  building   \n",
       "4    4529198  1500  building   \n",
       "5    4773441  1500  building   \n",
       "6   23118657  1500  building   \n",
       "7   23151565  1500  building   \n",
       "8   23151566  1500  building   \n",
       "9   23151569  1500  building   \n",
       "10  23151570  1500  building   \n",
       "11  23151577  1500  building   \n",
       "12  23151578  1500  building   \n",
       "13  23151579  1500  building   \n",
       "14  23151580  1500  building   \n",
       "15  23151581  1500  building   \n",
       "16  23151582  1500  building   \n",
       "17  23151584  1500  building   \n",
       "18  23151585  1500  building   \n",
       "19  23151586  1500  building   \n",
       "\n",
       "                                                  name          type  \\\n",
       "0                                                 None  construction   \n",
       "1                                                 None          None   \n",
       "2                                                 None          None   \n",
       "3                                                 None          None   \n",
       "4                                                 None          None   \n",
       "5   Міжнародний аеропорт «Львів» ім. Данила Галицького          None   \n",
       "6                                                 None    apartments   \n",
       "7                                                 None    apartments   \n",
       "8                                             ЖРЕО-417    apartments   \n",
       "9                                                 None    apartments   \n",
       "10                                                None    apartments   \n",
       "11                                                None    apartments   \n",
       "12                                                None    apartments   \n",
       "13                                                None    apartments   \n",
       "14                                                None    apartments   \n",
       "15                                                None    apartments   \n",
       "16                                                None    apartments   \n",
       "17                                                None    apartments   \n",
       "18                                                None    apartments   \n",
       "19                                                None    apartments   \n",
       "\n",
       "    population  \\\n",
       "0          NaN   \n",
       "1          NaN   \n",
       "2          NaN   \n",
       "3          NaN   \n",
       "4          NaN   \n",
       "5          NaN   \n",
       "6          NaN   \n",
       "7          NaN   \n",
       "8          NaN   \n",
       "9          NaN   \n",
       "10         NaN   \n",
       "11         NaN   \n",
       "12         NaN   \n",
       "13         NaN   \n",
       "14         NaN   \n",
       "15         NaN   \n",
       "16         NaN   \n",
       "17         NaN   \n",
       "18         NaN   \n",
       "19         NaN   \n",
       "\n",
       "                                                                                                                                                                                                                                                                                                                                                                                                                                                                                                                                                                                                                                                                                                                                                                                                                                                                                                                                                                                                                                                                                                       geometry  \n",
       "0                                                                                                                                                                                                                                                                                                                                                                                                                                                                                                                                                                                                                                                                                                                                                                                                                                                                                                                                                                                        POLYGON ((30.46599 50.374, 30.46734 50.3749, 30.46852 50.37417, 30.4678 50.37373, 30.46715 50.37331, 30.46599 50.374))  \n",
       "1                                                                                                                                                                                                                                                                                                                                                                                                                                                                                                                                                                                                                                                                                                                                                                                                                                                                                                                                                                                                     POLYGON ((35.41496 45.32753, 35.41501 45.32758, 35.41508 45.32755, 35.41503 45.32749, 35.41496 45.32753))  \n",
       "2                                                                                                                                                                                                                                                                                                                                                                                                                                                                                                                                                                                                                                                                                                                                                                                                                                                                                                                                                                                                     POLYGON ((35.41507 45.32777, 35.41517 45.32786, 35.41521 45.32784, 35.41511 45.32775, 35.41507 45.32777))  \n",
       "3                                                                                                                                                                                                                                                                                                                                                                                                                                                                                                                                                                                                                                                                                                                                                                                                                                                                                                                                                                                                      POLYGON ((35.41229 45.33092, 35.41231 45.33094, 35.41237 45.3309, 35.41234 45.33088, 35.41229 45.33092))  \n",
       "4                                                                                                                                                                                                                                                                                                                                                                                                                                                                                                                                                                                                                                                                                                                                                                                                                                                                                                                                                                                                        POLYGON ((33.71984 44.40865, 33.72014 44.40877, 33.7202 44.4087, 33.7199 44.40858, 33.71984 44.40865))  \n",
       "5   POLYGON ((23.95813 49.81394, 23.95819 49.81397, 23.95851 49.81377, 23.9587 49.81389, 23.95923 49.81423, 23.95925 49.81421, 23.95949 49.81405, 23.96042 49.81344, 23.96064 49.8133, 23.96073 49.81324, 23.96054 49.81312, 23.96229 49.81197, 23.96211 49.81185, 23.96175 49.81209, 23.9616 49.81199, 23.96121 49.81174, 23.96116 49.81177, 23.96156 49.81202, 23.96171 49.81212, 23.96092 49.81264, 23.96077 49.81254, 23.96038 49.81229, 23.96033 49.81232, 23.96073 49.81257, 23.96088 49.81267, 23.96062 49.81283, 23.96023 49.81258, 23.95996 49.81275, 23.95992 49.81273, 23.9598 49.81281, 23.95964 49.81271, 23.95959 49.81268, 23.95957 49.81269, 23.95962 49.81273, 23.95978 49.81283, 23.95939 49.81308, 23.95924 49.81298, 23.95919 49.81295, 23.95917 49.81296, 23.95922 49.81299, 23.95938 49.81309, 23.95895 49.81337, 23.9588 49.81327, 23.95875 49.81324, 23.95873 49.81325, 23.95878 49.81328, 23.95894 49.81338, 23.95852 49.81366, 23.95837 49.81356, 23.95832 49.81353, 23.9583 49.81354, 23.95835 49.81357, 23.9585 49.81367, 23.95843 49.81372, 23.95844 49.81373, 23.95813 49.81394))  \n",
       "6                                                                                                                                                                                                                                                                                                                                                                                                                                                                                                                                                                                                                                                                                                                                                                                                                                                                                                                                                                                                      POLYGON ((30.62538 50.43625, 30.62555 50.43629, 30.62591 50.4357, 30.62574 50.43566, 30.62538 50.43625))  \n",
       "7                                                                                                                                                                                                                                                                                                                                                                                                                                                                                                                                                                                                                                                                                                                                                                                                                                                                                                                                                                                                       POLYGON ((30.62585 50.43546, 30.62601 50.4355, 30.62636 50.43491, 30.6262 50.43487, 30.62585 50.43546))  \n",
       "8                                                                                                                                                                                                                                                                                                                                                                                                                                                                                                                                                                                                                                                                                                                                                                                                                                                                                                                                                                                                       POLYGON ((30.62573 50.43636, 30.62629 50.4365, 30.62635 50.4364, 30.62579 50.43626, 30.62573 50.43636))  \n",
       "9                                                                                                                                                                                                                                                                                                                                                                                                                                                                                                                                                                                                                                                                                                                                                                                                                                                                                                                                                                                                       POLYGON ((30.6265 50.43652, 30.62667 50.43656, 30.62714 50.43578, 30.62697 50.43574, 30.6265 50.43652))  \n",
       "10                                                                                                                                                                                                                                                                                                                                                                                                                                                                                                                                                                                                                                                                                                                                                                                                                                                                                                                                                                                                         POLYGON ((30.6263 50.43582, 30.62648 50.43586, 30.62698 50.43504, 30.6268 50.435, 30.6263 50.43582))  \n",
       "11                                                                                                                                                                                                                                                                                                                                                                                                                                                                                                                                                                                                                                                                                                                                                                                                                                                                                                                                                                                                      POLYGON ((30.62767 50.43619, 30.6279 50.4365, 30.62808 50.43645, 30.62785 50.43613, 30.62767 50.43619))  \n",
       "12                                                                                                                                                                                                                                                                                                                                                                                                                                                                                                                                                                                                                                                                                                                                                                                                                                                                                                                                                                                                      POLYGON ((30.62804 50.43695, 30.629 50.43719, 30.62908 50.43705, 30.62812 50.43681, 30.62804 50.43695))  \n",
       "13                                                                                                                                                                                                                                                                                                                                                                                                                                                                                                                                                                                                                                                                                                                                                                                                          POLYGON ((30.62917 50.4372, 30.6293 50.43724, 30.6294 50.43726, 30.62948 50.43728, 30.62957 50.43715, 30.62973 50.43688, 30.62989 50.43661, 30.63017 50.43616, 30.63035 50.43586, 30.63004 50.43578, 30.62997 50.43589, 30.63011 50.43593, 30.62938 50.43711, 30.62925 50.43708, 30.62917 50.4372))  \n",
       "14                                                                                                                                                                                                                                                                                                                                                                                                                                                                                                                                                                                                                                                                                                                                                                                                                                                                                                                                                                                                         POLYGON ((30.62511 50.4378, 30.62527 50.43784, 30.62576 50.43704, 30.6256 50.437, 30.62511 50.4378))  \n",
       "15                                                                                                                                                                                                                                                                                                                                                                                                                                                                                                                                                                                                                                                                                                                                                                                                                                                                                                                                                                                                    POLYGON ((30.62529 50.43854, 30.62546 50.43859, 30.62595 50.43776, 30.62578 50.43772, 30.62529 50.43854))  \n",
       "16                                                                                                                                                                                                                                                                                                                                                                                                                                                                                                                                                                                                                                                                                                                                                                                                                                                                                                                                                                                                     POLYGON ((30.62448 50.43835, 30.62514 50.43851, 30.6252 50.43841, 30.62454 50.43825, 30.62448 50.43835))  \n",
       "17                                                                                                                                                                                                                                                                                                                                                                                                                                                                                                                                                                                                                                                                                                                                                                                                                                                                                                                                                                                                      POLYGON ((30.62415 50.43826, 30.62433 50.4383, 30.62469 50.4377, 30.62452 50.43765, 30.62415 50.43826))  \n",
       "18                                                                                                                                                                                                                                                                                                                                                                                                                                                                                                                                                                                                                                                                                                                                                                                                                                                                                                                                                                                                     POLYGON ((30.62463 50.43752, 30.6248 50.43756, 30.62519 50.43689, 30.62502 50.43685, 30.62463 50.43752))  \n",
       "19                                                                                                                                                                                                                                                                                                                                                                                                                                                                                                                                                                                                                                                                                             POLYGON ((30.62804 50.43921, 30.6281 50.43923, 30.62817 50.43924, 30.62831 50.43928, 30.62842 50.4391, 30.6285 50.43897, 30.6286 50.4388, 30.62868 50.43867, 30.62885 50.43838, 30.62889 50.43832, 30.62916 50.43786, 30.62888 50.43779, 30.62881 50.4379, 30.62896 50.43794, 30.62894 50.43797, 30.6289 50.43796, 30.62822 50.4391, 30.62827 50.43911, 30.62825 50.43914, 30.6281 50.43911, 30.62804 50.43921))  "
      ]
     },
     "execution_count": 128,
     "metadata": {},
     "output_type": "execute_result"
    }
   ],
   "source": [
    "data.head(20)"
   ]
  },
  {
   "cell_type": "markdown",
   "id": "eaf3f6a1-b18a-477a-86de-615ed1080da8",
   "metadata": {},
   "source": [
    "# Этап 3.\n",
    "## Функция пространственного объединения геолокации и полигонов"
   ]
  },
  {
   "cell_type": "code",
   "execution_count": 119,
   "id": "55a0eb53-9526-4a71-919d-66882a7c0b69",
   "metadata": {},
   "outputs": [],
   "source": [
    "import geopandas as gpd\n",
    "import pandas as pd\n",
    "from shapely.geometry import Point\n",
    "\n",
    "\n",
    "def spatial_join_with_location(df, polygons_gdf):\n",
    "    \"\"\"\n",
    "    Пространственное объединение датафрейма с геолокацией человека и полигонов.\n",
    "\n",
    "    Параметры:\n",
    "    - df: DataFrame с колонками ['username', 'client', 'latitude', 'longitude']\n",
    "    - polygons_gdf: GeoDataFrame с полигонами, к которым нужно привязать геолокации.\n",
    "\n",
    "    Возвращает:\n",
    "    - GeoDataFrame с результатом пространственного объединения.\n",
    "    \"\"\"\n",
    "    # Преобразуем точки в геометрический формат Point\n",
    "    df[\"geometry\"] = df.apply(\n",
    "        lambda row: Point(row[\"longitude\"], row[\"latitude\"]), axis=1\n",
    "    )\n",
    "\n",
    "    # Преобразуем DataFrame в GeoDataFrame\n",
    "    gdf = gpd.GeoDataFrame(df, geometry=\"geometry\")\n",
    "\n",
    "    # Установим систему координат (например, WGS84)\n",
    "    gdf.set_crs(epsg=4326, inplace=True)\n",
    "\n",
    "    # Выполняем пространственное объединение\n",
    "    result_gdf = gpd.sjoin(gdf, polygons_gdf, how=\"left\")\n",
    "\n",
    "    return result_gdf\n",
    "\n",
    "\n",
    "# Пример данных с геолокацией пользователя\n",
    "data = {\n",
    "    \"epk_id\": [\"1\"],\n",
    "    \"fio\": [\"Вася Олейник\"],\n",
    "    \"latitude\": [54.633186],\n",
    "    \"longitude\": [20.908047],\n",
    "}\n",
    "df = pd.DataFrame(data)\n",
    "\n",
    "# Пример GeoDataFrame с полигонами (например, города или области)\n",
    "# Полигональные данные могут быть загружены из файлов типа Shapefile или GeoJSON\n",
    "# polygons_gdf = gpd.read_file('path_to_polygon_shapefile.shp')\n",
    "\n",
    "# Пример использования функции (нужно загрузить реальные полигональные данные)\n",
    "result = spatial_join_with_location(df, geo_gdf)\n",
    "\n",
    "# print(result)"
   ]
  },
  {
   "cell_type": "code",
   "execution_count": 120,
   "id": "63da7568-d554-4a68-94d4-7ca4e222efea",
   "metadata": {},
   "outputs": [
    {
     "data": {
      "text/html": [
       "<div>\n",
       "<style scoped>\n",
       "    .dataframe tbody tr th:only-of-type {\n",
       "        vertical-align: middle;\n",
       "    }\n",
       "\n",
       "    .dataframe tbody tr th {\n",
       "        vertical-align: top;\n",
       "    }\n",
       "\n",
       "    .dataframe thead th {\n",
       "        text-align: right;\n",
       "    }\n",
       "</style>\n",
       "<table border=\"1\" class=\"dataframe\">\n",
       "  <thead>\n",
       "    <tr style=\"text-align: right;\">\n",
       "      <th></th>\n",
       "      <th>epk_id</th>\n",
       "      <th>fio</th>\n",
       "      <th>latitude</th>\n",
       "      <th>longitude</th>\n",
       "      <th>geometry</th>\n",
       "      <th>index_right</th>\n",
       "      <th>osm_id</th>\n",
       "      <th>fclass</th>\n",
       "      <th>name</th>\n",
       "      <th>population</th>\n",
       "    </tr>\n",
       "  </thead>\n",
       "  <tbody>\n",
       "    <tr>\n",
       "      <th>0</th>\n",
       "      <td>1</td>\n",
       "      <td>Вася Олейник</td>\n",
       "      <td>54.633186</td>\n",
       "      <td>20.908047</td>\n",
       "      <td>POINT (20.90805 54.63319)</td>\n",
       "      <td>331</td>\n",
       "      <td>974610084</td>\n",
       "      <td>village</td>\n",
       "      <td>Озерки</td>\n",
       "      <td>0.0</td>\n",
       "    </tr>\n",
       "    <tr>\n",
       "      <th>0</th>\n",
       "      <td>1</td>\n",
       "      <td>Вася Олейник</td>\n",
       "      <td>54.633186</td>\n",
       "      <td>20.908047</td>\n",
       "      <td>POINT (20.90805 54.63319)</td>\n",
       "      <td>12887</td>\n",
       "      <td>974610084</td>\n",
       "      <td>village</td>\n",
       "      <td>Озерки</td>\n",
       "      <td>0.0</td>\n",
       "    </tr>\n",
       "  </tbody>\n",
       "</table>\n",
       "</div>"
      ],
      "text/plain": [
       "  epk_id           fio   latitude  longitude                   geometry  \\\n",
       "0      1  Вася Олейник  54.633186  20.908047  POINT (20.90805 54.63319)   \n",
       "0      1  Вася Олейник  54.633186  20.908047  POINT (20.90805 54.63319)   \n",
       "\n",
       "   index_right     osm_id   fclass    name  population  \n",
       "0          331  974610084  village  Озерки         0.0  \n",
       "0        12887  974610084  village  Озерки         0.0  "
      ]
     },
     "execution_count": 120,
     "metadata": {},
     "output_type": "execute_result"
    }
   ],
   "source": [
    "result"
   ]
  },
  {
   "cell_type": "code",
   "execution_count": 13,
   "id": "12d732cb-73c5-4960-b9ad-db54d6757e2c",
   "metadata": {},
   "outputs": [],
   "source": [
    "### СПИСОК ВСЕХ ГЕОДАТАФРЕЙМОВ\n",
    "gdf_names_list = [\n",
    "    \"Дальневосточный_федеральный_округ\",\n",
    "    \"Калининград\",\n",
    "    \"Крымский_федеральный_округ\",\n",
    "    \"Приволжский_федеральный_округ\",\n",
    "    \"Северо_Западный_федеральный_округ\",\n",
    "    \"Северо_Кавказский_федеральный_округ\",\n",
    "    \"Сибирский_федеральный_округ\",\n",
    "    \"Уральский_федеральный_округ\",\n",
    "    \"Центральный_федеральный_округ\",\n",
    "    \"Южный_федеральный_округ\",\n",
    "]"
   ]
  },
  {
   "cell_type": "code",
   "execution_count": 14,
   "id": "ba422702-53b0-4782-94f1-fdc2fa2e0821",
   "metadata": {},
   "outputs": [],
   "source": [
    "geodataframes_list = []"
   ]
  },
  {
   "cell_type": "code",
   "execution_count": 15,
   "id": "7b7a92f5-3b90-4930-b898-9c73b1a249d8",
   "metadata": {},
   "outputs": [],
   "source": [
    "for region in gdf_names_list:\n",
    "    filename = f\"src/geojson/{region}.geojson\"\n",
    "    gdf = gpd.read_file(filename)\n",
    "    geodataframes_list.append(gdf)"
   ]
  },
  {
   "cell_type": "code",
   "execution_count": 16,
   "id": "5b731e2e-976a-4203-ad04-266a5ef46178",
   "metadata": {},
   "outputs": [],
   "source": [
    "regions_df = pd.concat(geodataframes_list)"
   ]
  },
  {
   "cell_type": "code",
   "execution_count": 24,
   "id": "aef3f179-966f-453a-a80f-3ab56861afa6",
   "metadata": {},
   "outputs": [
    {
     "data": {
      "text/plain": [
       "114706"
      ]
     },
     "execution_count": 24,
     "metadata": {},
     "output_type": "execute_result"
    }
   ],
   "source": [
    "len(regions_df)"
   ]
  },
  {
   "cell_type": "code",
   "execution_count": 17,
   "id": "ad9b16cf-4ea6-447a-9b4b-db94aa8a1773",
   "metadata": {},
   "outputs": [],
   "source": [
    "geo_gdf = gpd.GeoDataFrame(regions_df, geometry=\"geometry\")"
   ]
  },
  {
   "cell_type": "code",
   "execution_count": 18,
   "id": "a10a6ae3-7952-442e-aa90-2f1c56a2a298",
   "metadata": {},
   "outputs": [],
   "source": [
    "geo_gdf.drop(columns={\"code\", \"type\"}, inplace=True)"
   ]
  },
  {
   "cell_type": "code",
   "execution_count": 19,
   "id": "f8d3797b-8cc5-46ac-93c3-15dfe29a4080",
   "metadata": {},
   "outputs": [
    {
     "data": {
      "text/html": [
       "<div>\n",
       "<style scoped>\n",
       "    .dataframe tbody tr th:only-of-type {\n",
       "        vertical-align: middle;\n",
       "    }\n",
       "\n",
       "    .dataframe tbody tr th {\n",
       "        vertical-align: top;\n",
       "    }\n",
       "\n",
       "    .dataframe thead th {\n",
       "        text-align: right;\n",
       "    }\n",
       "</style>\n",
       "<table border=\"1\" class=\"dataframe\">\n",
       "  <thead>\n",
       "    <tr style=\"text-align: right;\">\n",
       "      <th></th>\n",
       "      <th>osm_id</th>\n",
       "      <th>fclass</th>\n",
       "      <th>name</th>\n",
       "      <th>population</th>\n",
       "      <th>geometry</th>\n",
       "    </tr>\n",
       "  </thead>\n",
       "  <tbody>\n",
       "    <tr>\n",
       "      <th>0</th>\n",
       "      <td>31149575</td>\n",
       "      <td>village</td>\n",
       "      <td>Джалинда</td>\n",
       "      <td>0.0</td>\n",
       "      <td>POLYGON ((123.88461 53.48263, 123.88518 53.48351, 123.89273 53.48566, 123.88815 53.48733, 123.88758 53.48934, 123.88475 53.49317, 123.88628 53.49365, 123.88796 53.49219, 123.8918 53.4928, 123.88971 53.49429, 123.89142 53.49466, 123.899 53.49539, 123.89954 53.4954, 123.9057 53.49177, 123.89986 53.48712, 123.90457 53.48454, 123.90914 53.48733, 123.91722 53.48899, 123.91788 53.48596, 123.91934 53.48312, 123.90899 53.47627, 123.9137 53.47393, 123.90996 53.46922, 123.90133 53.47328, 123.89947 53.47401, 123.89815 53.47457, 123.89723 53.47513, 123.8965 53.47574, 123.89565 53.47632, 123.89381 53.47745, 123.89184 53.47889, 123.89141 53.47935, 123.88825 53.4809, 123.88461 53.48263))</td>\n",
       "    </tr>\n",
       "    <tr>\n",
       "      <th>1</th>\n",
       "      <td>38308069</td>\n",
       "      <td>village</td>\n",
       "      <td>Екатерино-Никольское</td>\n",
       "      <td>0.0</td>\n",
       "      <td>POLYGON ((130.95869 47.76428, 130.96006 47.76705, 130.96298 47.76636, 130.96676 47.76498, 130.96968 47.76105, 130.9695 47.75909, 130.97088 47.75586, 130.97277 47.75321, 130.97036 47.75274, 130.96693 47.75113, 130.96641 47.7494, 130.96882 47.74882, 130.97689 47.74743, 130.97671 47.7449, 130.97483 47.74351, 130.97294 47.74051, 130.96933 47.7397, 130.96813 47.73624, 130.96367 47.73497, 130.96109 47.73843, 130.95938 47.7449, 130.95886 47.75067, 130.95886 47.75805, 130.95869 47.76428))</td>\n",
       "    </tr>\n",
       "  </tbody>\n",
       "</table>\n",
       "</div>"
      ],
      "text/plain": [
       "     osm_id   fclass                  name  population  \\\n",
       "0  31149575  village              Джалинда         0.0   \n",
       "1  38308069  village  Екатерино-Никольское         0.0   \n",
       "\n",
       "                                                                                                                                                                                                                                                                                                                                                                                                                                                                                                                                                                                                                                                                                                    geometry  \n",
       "0  POLYGON ((123.88461 53.48263, 123.88518 53.48351, 123.89273 53.48566, 123.88815 53.48733, 123.88758 53.48934, 123.88475 53.49317, 123.88628 53.49365, 123.88796 53.49219, 123.8918 53.4928, 123.88971 53.49429, 123.89142 53.49466, 123.899 53.49539, 123.89954 53.4954, 123.9057 53.49177, 123.89986 53.48712, 123.90457 53.48454, 123.90914 53.48733, 123.91722 53.48899, 123.91788 53.48596, 123.91934 53.48312, 123.90899 53.47627, 123.9137 53.47393, 123.90996 53.46922, 123.90133 53.47328, 123.89947 53.47401, 123.89815 53.47457, 123.89723 53.47513, 123.8965 53.47574, 123.89565 53.47632, 123.89381 53.47745, 123.89184 53.47889, 123.89141 53.47935, 123.88825 53.4809, 123.88461 53.48263))  \n",
       "1                                                                                                                                                                                                      POLYGON ((130.95869 47.76428, 130.96006 47.76705, 130.96298 47.76636, 130.96676 47.76498, 130.96968 47.76105, 130.9695 47.75909, 130.97088 47.75586, 130.97277 47.75321, 130.97036 47.75274, 130.96693 47.75113, 130.96641 47.7494, 130.96882 47.74882, 130.97689 47.74743, 130.97671 47.7449, 130.97483 47.74351, 130.97294 47.74051, 130.96933 47.7397, 130.96813 47.73624, 130.96367 47.73497, 130.96109 47.73843, 130.95938 47.7449, 130.95886 47.75067, 130.95886 47.75805, 130.95869 47.76428))  "
      ]
     },
     "execution_count": 19,
     "metadata": {},
     "output_type": "execute_result"
    }
   ],
   "source": [
    "geo_gdf.head(2)"
   ]
  },
  {
   "cell_type": "code",
   "execution_count": 26,
   "id": "4bd0cfb8-61b4-4a97-8d11-16360d054276",
   "metadata": {},
   "outputs": [
    {
     "data": {
      "text/html": [
       "<div>\n",
       "<style scoped>\n",
       "    .dataframe tbody tr th:only-of-type {\n",
       "        vertical-align: middle;\n",
       "    }\n",
       "\n",
       "    .dataframe tbody tr th {\n",
       "        vertical-align: top;\n",
       "    }\n",
       "\n",
       "    .dataframe thead th {\n",
       "        text-align: right;\n",
       "    }\n",
       "</style>\n",
       "<table border=\"1\" class=\"dataframe\">\n",
       "  <thead>\n",
       "    <tr style=\"text-align: right;\">\n",
       "      <th></th>\n",
       "      <th>osm_id</th>\n",
       "      <th>fclass</th>\n",
       "      <th>name</th>\n",
       "      <th>population</th>\n",
       "      <th>geometry</th>\n",
       "    </tr>\n",
       "  </thead>\n",
       "  <tbody>\n",
       "    <tr>\n",
       "      <th>2290</th>\n",
       "      <td>6712557</td>\n",
       "      <td>city</td>\n",
       "      <td>Ставрополь</td>\n",
       "      <td>0.0</td>\n",
       "      <td>POLYGON ((41.85438 45.0091, 41.85814 45.01744, 41.8606 45.01968, 41.86076 45.02161, 41.86575 45.02386, 41.87161 45.02529, 41.87336 45.02715, 41.87369 45.02735, 41.87658 45.02638, 41.87683 45.02669, 41.87691 45.02686, 41.87682 45.02799, 41.87581 45.02834, 41.87341 45.02988, 41.87413 45.02999, 41.87461 45.03021, 41.87503 45.03048, 41.87615 45.03121, 41.87779 45.02995, 41.87942 45.03113, 41.88228 45.03112, 41.89538 45.02972, 41.89893 45.03689, 41.89852 45.03975, 41.89849 45.03999, 41.89788 45.0442, 41.89459 45.04881, 41.89538 45.05095, 41.89695 45.05369, 41.89711 45.05405, 41.89715 45.05529, 41.89922 45.05704, 41.89886 45.05765, 41.89821 45.05818, 41.89667 45.05872, 41.9007 45.06065, 41.90181 45.06128, 41.90222 45.06272, 41.90252 45.06296, 41.90317 45.06358, 41.90526 45.06471, 41.90866 45.06487, 41.90869 45.06502, 41.91 45.06507, 41.91161 45.06405, 41.91414 45.06449, 41.91349 45.0661, 41.91419 45.06781, 41.91705 45.06877, 41.92004 45.06867, 41.9234 45.07096, 41.92139 45.07197, 41.92633 45.08068, 41.9273 45.08227, 41.9271 45.08322, 41.92772 45.08784, 41.92452 45.09332, 41.91961 45.09623, 41.93165 45.09747, 41.94881 45.09928, 41.94868 45.10003, 41.94879 45.10132, 41.95353 45.10858, 41.95426 45.10972, 41.95636 45.11302, 41.96416 45.11039, 41.96442 45.11072, 41.96671 45.10997, 41.96763 45.11133, 41.96751 45.11214, 41.96721 45.11265, 41.96776 45.11279, 41.96798 45.11249, 41.97079 45.10812, 41.97182 45.10546, 41.97185 45.1054, 41.97707 45.10608, 41.97925 45.10633, 41.98238 45.10655, 41.98278 45.10366, 41.9849 45.0994, 41.98205 45.09536, 41.98385 45.0944, 41.98754 45.0949, 41.98831 45.09263, 41.98697 45.09103, 41.98377 45.0899, 41.9796 45.08896, 41.97416 45.08823, 41.97127 45.08747, 41.9719 45.08487, 41.97548 45.08346, 41.97675 45.08074, 41.98306 45.08097, 41.9891 45.08097, 41.99071 45.08082, 41.99353 45.07885, 41.99353 45.07846, 41.99352 45.07835, 41.99353 45.07831, 41.99352 45.0782, 41.99354 45.07707, 41.99422 45.07703, 41.99442 45.07627, 41.99663 45.07622, 41.99682 45.07673, 41.99781 45.07716, 41.99866 45.07654, 41.9991 45.07629, 42.00107 45.0757, 42.00124 45.07922, 42.00186 45.07969, 42.0025 45.08015, 42.00253 45.08101, 42.00207 45.08132, 42.00242 45.08322, 42.00268 45.08464, 42.00504 45.0845, 42.00708 45.08437, 42.01693 45.08599, 42.01695 45.0858, 42.01737 45.08217, 42.02516 45.08296, 42.02431 45.08474, 42.03573 45.08666, 42.03559 45.08834, 42.0356 45.09006, 42.03964 45.08957, 42.04117 45.08926, 42.04347 45.0885, 42.04424 45.08812, 42.04462 45.08791, 42.0461 45.08684, 42.05097 45.08656, 42.05521 45.08463, 42.05227 45.0821, 42.05098 45.08119, 42.05076 45.08085, 42.05007 45.08012, 42.04921 45.07904, 42.04681 45.07645, 42.04581 45.07557, 42.04371 45.07328, 42.04855 45.05831, 42.07069 45.05728, 42.07076 45.05638, 42.07099 45.05321, 42.04192 45.05335, 42.05635 45.03756, 42.04152 45.0258, 41.99488 45.00586, 41.98427 44.99942, 41.98079 44.99838, 41.98039 44.99826, 41.97271 44.99594, 41.9709 44.99594, 41.96771 44.99593, 41.96737 44.99584, 41.96532 44.99541, 41.94826 44.99163, 41.96717 44.98762, 41.9668 44.98697, 41.96736 44.98668, 41.96495 44.98229, 41.9645 44.98202, 41.96421 44.98167, 41.96356 44.98193, 41.96314 44.98103, 41.97878 44.97559, 41.9778 44.9744, 41.97782 44.97337, 41.97621 44.97374, 41.97529 44.9747, 41.97324 44.97512, 41.97165 44.97488, 41.97183 44.974, 41.97095 44.97399, 41.96862 44.97429, 41.96621 44.97493, 41.9664 44.97555, 41.96326 44.97542, 41.963 44.9747, 41.96245 44.97457, 41.96246 44.97402, 41.9624 44.97341, 41.96529 44.97147, 41.96452 44.97042, 41.9605 44.97258, 41.95998 44.97297, 41.95959 44.97389, 41.95824 44.97726, 41.95726 44.97725, 41.95402 44.97643, 41.9533 44.97386, 41.95107 44.96987, 41.94744 44.97184, 41.95277 44.97627, 41.9527 44.9775, 41.95123 44.97701, 41.95054 44.97703, 41.94806 44.97819, 41.94756 44.97743, 41.94671 44.97775, 41.94718 44.97867, 41.94518 44.9791, 41.94155 44.97986, 41.9395 44.97993, 41.93863 44.9792, 41.93726 44.97934, 41.93598 44.97932, 41.93578 44.97919, 41.93392 44.97911, 41.93241 44.97867, 41.93131 44.97879, 41.93051 44.97838, 41.92357 44.9813, 41.92173 44.98096, 41.91977 44.98037, 41.91846 44.97386, 41.91915 44.97306, 41.92001 44.97169, 41.92001 44.97031, 41.92063 44.96852, 41.91158 44.97028, 41.89713 44.97401, 41.89068 44.97569, 41.89627 44.97865, 41.89851 44.97995, 41.9 44.99171, 41.91171 44.9921, 41.91168 44.99282, 41.91593 44.99264, 41.91711 44.9926, 41.92104 44.99295, 41.92127 44.99356, 41.91456 44.99485, 41.91412 44.99523, 41.91368 44.99526, 41.91054 44.99519, 41.90907 44.99582, 41.90727 44.99689, 41.90809 44.99744, 41.90558 44.9989, 41.90323 44.9997, 41.90095 45.00024, 41.8994 44.99968, 41.8992 44.99826, 41.8964 44.99953, 41.89421 45.00202, 41.8703 45.00971, 41.85438 45.0091))</td>\n",
       "    </tr>\n",
       "  </tbody>\n",
       "</table>\n",
       "</div>"
      ],
      "text/plain": [
       "       osm_id fclass        name  population  \\\n",
       "2290  6712557   city  Ставрополь         0.0   \n",
       "\n",
       "                                                                                                                                                                                                                                                                                                                                                                                                                                                                                                                                                                                                                                                                                                                                                                                                                                                                                                                                                                                                                                                                                                                                                                                                                                                                                                                                                                                                                                                                                                                                                                                                                                                                                                                                                                                                                                                                                                                                                                                                                                                                                                                                                                                                                                                                                                                                                                                                                                                                                                                                                                                                                                                                                                                                                                                                                                                                                                                                                                                                                                                                                                                                                                                                                                                                                                                                                                                                                                                                                                                                                                                                                                                                                                                                                                                                                                                                                                                                                                                                                                                                                                                                                                                                                                                                                                                                                                                                                                                                                                                                                                                                                                                                                                                                                                                                                                                                                                        geometry  \n",
       "2290  POLYGON ((41.85438 45.0091, 41.85814 45.01744, 41.8606 45.01968, 41.86076 45.02161, 41.86575 45.02386, 41.87161 45.02529, 41.87336 45.02715, 41.87369 45.02735, 41.87658 45.02638, 41.87683 45.02669, 41.87691 45.02686, 41.87682 45.02799, 41.87581 45.02834, 41.87341 45.02988, 41.87413 45.02999, 41.87461 45.03021, 41.87503 45.03048, 41.87615 45.03121, 41.87779 45.02995, 41.87942 45.03113, 41.88228 45.03112, 41.89538 45.02972, 41.89893 45.03689, 41.89852 45.03975, 41.89849 45.03999, 41.89788 45.0442, 41.89459 45.04881, 41.89538 45.05095, 41.89695 45.05369, 41.89711 45.05405, 41.89715 45.05529, 41.89922 45.05704, 41.89886 45.05765, 41.89821 45.05818, 41.89667 45.05872, 41.9007 45.06065, 41.90181 45.06128, 41.90222 45.06272, 41.90252 45.06296, 41.90317 45.06358, 41.90526 45.06471, 41.90866 45.06487, 41.90869 45.06502, 41.91 45.06507, 41.91161 45.06405, 41.91414 45.06449, 41.91349 45.0661, 41.91419 45.06781, 41.91705 45.06877, 41.92004 45.06867, 41.9234 45.07096, 41.92139 45.07197, 41.92633 45.08068, 41.9273 45.08227, 41.9271 45.08322, 41.92772 45.08784, 41.92452 45.09332, 41.91961 45.09623, 41.93165 45.09747, 41.94881 45.09928, 41.94868 45.10003, 41.94879 45.10132, 41.95353 45.10858, 41.95426 45.10972, 41.95636 45.11302, 41.96416 45.11039, 41.96442 45.11072, 41.96671 45.10997, 41.96763 45.11133, 41.96751 45.11214, 41.96721 45.11265, 41.96776 45.11279, 41.96798 45.11249, 41.97079 45.10812, 41.97182 45.10546, 41.97185 45.1054, 41.97707 45.10608, 41.97925 45.10633, 41.98238 45.10655, 41.98278 45.10366, 41.9849 45.0994, 41.98205 45.09536, 41.98385 45.0944, 41.98754 45.0949, 41.98831 45.09263, 41.98697 45.09103, 41.98377 45.0899, 41.9796 45.08896, 41.97416 45.08823, 41.97127 45.08747, 41.9719 45.08487, 41.97548 45.08346, 41.97675 45.08074, 41.98306 45.08097, 41.9891 45.08097, 41.99071 45.08082, 41.99353 45.07885, 41.99353 45.07846, 41.99352 45.07835, 41.99353 45.07831, 41.99352 45.0782, 41.99354 45.07707, 41.99422 45.07703, 41.99442 45.07627, 41.99663 45.07622, 41.99682 45.07673, 41.99781 45.07716, 41.99866 45.07654, 41.9991 45.07629, 42.00107 45.0757, 42.00124 45.07922, 42.00186 45.07969, 42.0025 45.08015, 42.00253 45.08101, 42.00207 45.08132, 42.00242 45.08322, 42.00268 45.08464, 42.00504 45.0845, 42.00708 45.08437, 42.01693 45.08599, 42.01695 45.0858, 42.01737 45.08217, 42.02516 45.08296, 42.02431 45.08474, 42.03573 45.08666, 42.03559 45.08834, 42.0356 45.09006, 42.03964 45.08957, 42.04117 45.08926, 42.04347 45.0885, 42.04424 45.08812, 42.04462 45.08791, 42.0461 45.08684, 42.05097 45.08656, 42.05521 45.08463, 42.05227 45.0821, 42.05098 45.08119, 42.05076 45.08085, 42.05007 45.08012, 42.04921 45.07904, 42.04681 45.07645, 42.04581 45.07557, 42.04371 45.07328, 42.04855 45.05831, 42.07069 45.05728, 42.07076 45.05638, 42.07099 45.05321, 42.04192 45.05335, 42.05635 45.03756, 42.04152 45.0258, 41.99488 45.00586, 41.98427 44.99942, 41.98079 44.99838, 41.98039 44.99826, 41.97271 44.99594, 41.9709 44.99594, 41.96771 44.99593, 41.96737 44.99584, 41.96532 44.99541, 41.94826 44.99163, 41.96717 44.98762, 41.9668 44.98697, 41.96736 44.98668, 41.96495 44.98229, 41.9645 44.98202, 41.96421 44.98167, 41.96356 44.98193, 41.96314 44.98103, 41.97878 44.97559, 41.9778 44.9744, 41.97782 44.97337, 41.97621 44.97374, 41.97529 44.9747, 41.97324 44.97512, 41.97165 44.97488, 41.97183 44.974, 41.97095 44.97399, 41.96862 44.97429, 41.96621 44.97493, 41.9664 44.97555, 41.96326 44.97542, 41.963 44.9747, 41.96245 44.97457, 41.96246 44.97402, 41.9624 44.97341, 41.96529 44.97147, 41.96452 44.97042, 41.9605 44.97258, 41.95998 44.97297, 41.95959 44.97389, 41.95824 44.97726, 41.95726 44.97725, 41.95402 44.97643, 41.9533 44.97386, 41.95107 44.96987, 41.94744 44.97184, 41.95277 44.97627, 41.9527 44.9775, 41.95123 44.97701, 41.95054 44.97703, 41.94806 44.97819, 41.94756 44.97743, 41.94671 44.97775, 41.94718 44.97867, 41.94518 44.9791, 41.94155 44.97986, 41.9395 44.97993, 41.93863 44.9792, 41.93726 44.97934, 41.93598 44.97932, 41.93578 44.97919, 41.93392 44.97911, 41.93241 44.97867, 41.93131 44.97879, 41.93051 44.97838, 41.92357 44.9813, 41.92173 44.98096, 41.91977 44.98037, 41.91846 44.97386, 41.91915 44.97306, 41.92001 44.97169, 41.92001 44.97031, 41.92063 44.96852, 41.91158 44.97028, 41.89713 44.97401, 41.89068 44.97569, 41.89627 44.97865, 41.89851 44.97995, 41.9 44.99171, 41.91171 44.9921, 41.91168 44.99282, 41.91593 44.99264, 41.91711 44.9926, 41.92104 44.99295, 41.92127 44.99356, 41.91456 44.99485, 41.91412 44.99523, 41.91368 44.99526, 41.91054 44.99519, 41.90907 44.99582, 41.90727 44.99689, 41.90809 44.99744, 41.90558 44.9989, 41.90323 44.9997, 41.90095 45.00024, 41.8994 44.99968, 41.8992 44.99826, 41.8964 44.99953, 41.89421 45.00202, 41.8703 45.00971, 41.85438 45.0091))  "
      ]
     },
     "execution_count": 26,
     "metadata": {},
     "output_type": "execute_result"
    }
   ],
   "source": [
    "geo_gdf[geo_gdf.name == \"Ставрополь\"]"
   ]
  },
  {
   "cell_type": "code",
   "execution_count": 124,
   "id": "ffa01390-b1b5-4013-82ba-31e24a9c82ca",
   "metadata": {},
   "outputs": [
    {
     "data": {
      "text/plain": [
       "<Axes: >"
      ]
     },
     "execution_count": 124,
     "metadata": {},
     "output_type": "execute_result"
    },
    {
     "data": {
      "image/png": "[encoded data removed]",
      "text/plain": [
       "<Figure size 640x480 with 1 Axes>"
      ]
     },
     "metadata": {},
     "output_type": "display_data"
    }
   ],
   "source": [
    "geo_gdf.plot()"
   ]
  },
  {
   "cell_type": "markdown",
   "id": "47e7a5e6-890e-4d17-bd0e-e8bd1107b6f0",
   "metadata": {},
   "source": [
    "# Нарисовать объединение точки с полигоном"
   ]
  },
  {
   "cell_type": "code",
   "execution_count": 47,
   "id": "ea5868c7-a0ac-4877-8b0c-a4454698ff6d",
   "metadata": {},
   "outputs": [],
   "source": [
    "import matplotlib.pyplot as plt\n",
    "from shapely.geometry import Point"
   ]
  },
  {
   "cell_type": "code",
   "execution_count": 58,
   "id": "ae3314bf-97aa-49c3-aae2-4f628f694a65",
   "metadata": {},
   "outputs": [],
   "source": [
    "# Пример создания GeoDataFrame с полигоном (замените этот код вашим GeoDataFrame)\n",
    "polygon = geo_gdf[geo_gdf.name == \"Ставрополь\"]"
   ]
  },
  {
   "cell_type": "code",
   "execution_count": 62,
   "id": "362758fe-d96e-4509-8d6e-bf77e1f74c2d",
   "metadata": {},
   "outputs": [
    {
     "data": {
      "text/plain": [
       "<Axes: >"
      ]
     },
     "execution_count": 62,
     "metadata": {},
     "output_type": "execute_result"
    },
    {
     "data": {
      "image/png": "[encoded data removed]",
      "text/plain": [
       "<Figure size 640x480 with 1 Axes>"
      ]
     },
     "metadata": {},
     "output_type": "display_data"
    }
   ],
   "source": [
    "polygon.plot()"
   ]
  },
  {
   "cell_type": "code",
   "execution_count": 105,
   "id": "9da4a302-2397-4f08-8b7d-2b0fdb388327",
   "metadata": {},
   "outputs": [],
   "source": [
    "# Создаем точку (пример: точка внутри полигона)\n",
    "points = [\n",
    "    Point(41.954969, 45.038849),\n",
    "    Point(41.978939, 45.035405),\n",
    "    Point(41.957829, 45.016347),\n",
    "    Point(41.917783, 45.005327),\n",
    "    Point(41.941120, 45.074587),\n",
    "    Point(42.038719, 45.032804),\n",
    "    Point(42.05, 44.98),\n",
    "]"
   ]
  },
  {
   "cell_type": "code",
   "execution_count": 106,
   "id": "fc9dff9f-7667-482e-941f-1789ae0cfb7e",
   "metadata": {},
   "outputs": [],
   "source": [
    "# Преобразуем точку в GeoDataFrame\n",
    "gdf_point = gpd.GeoDataFrame(geometry=points)"
   ]
  },
  {
   "cell_type": "code",
   "execution_count": 121,
   "id": "9e35c044-0203-4e4a-9099-371b0a767050",
   "metadata": {},
   "outputs": [
    {
     "data": {
      "image/png": "[encoded data removed]",
      "text/plain": [
       "<Figure size 640x480 with 1 Axes>"
      ]
     },
     "metadata": {},
     "output_type": "display_data"
    }
   ],
   "source": [
    "# Рисуем полигон Ставрополя\n",
    "ax = polygon.plot(color=\"lightblue\", edgecolor=\"black\")\n",
    "\n",
    "# Рисуем все точки кроме последней\n",
    "gdf_point.iloc[:-1].plot(ax=ax, color=\"black\", marker=\"o\", markersize=15)\n",
    "\n",
    "# Рисуем последнюю точку отдельно, выделяя ее черным цветом и большим размером\n",
    "gdf_point.iloc[-1:].plot(ax=ax, color=\"red\", marker=\"o\", markersize=50)\n",
    "\n",
    "# Добавляем заголовок и подписи осей\n",
    "# plt.title(\"Пример: Объединение точек с полигоном г. Ставрополь\", fontsize=12)\n",
    "plt.xlabel(\"Долгота\", fontsize=12)\n",
    "plt.ylabel(\"Широта\", fontsize=12)\n",
    "\n",
    "\n",
    "# Показать график\n",
    "plt.show()\n",
    "# plt.savefig(\"foo.png\")"
   ]
  },
  {
   "cell_type": "code",
   "execution_count": null,
   "id": "37949831-ec8d-4061-920c-5814a8a21a7b",
   "metadata": {},
   "outputs": [],
   "source": []
  },
  {
   "cell_type": "code",
   "execution_count": null,
   "id": "d8a7af16-76f6-4d01-bf9a-268d47125213",
   "metadata": {},
   "outputs": [],
   "source": [
    "print(len(geo_gdf))"
   ]
  },
  {
   "cell_type": "code",
   "execution_count": null,
   "id": "512054ac-0687-4b35-9f0f-aedfda87e589",
   "metadata": {},
   "outputs": [],
   "source": [
    "logging.getLogger().setLevel(logging.CRITICAL)\n",
    "\n",
    "\n",
    "def save_geo_chunks(gdf, output_dir=\"geo_chunks\", min_file_size_mb=18, max_file_size_mb=18.2):\n",
    "    \"\"\"\n",
    "    Разбивает GeoDataFrame на части и сохраняет каждую часть в отдельный файл,\n",
    "    когда размер файла находится в пределах от min_file_size_mb до max_file_size_mb.\n",
    "    \n",
    "    :param gdf: GeoDataFrame, который нужно разбить\n",
    "    :param output_dir: Директория для сохранения файлов\n",
    "    :param min_file_size_mb: Минимальный размер файла в мегабайтах\n",
    "    :param max_file_size_mb: Максимальный размер файла в мегабайтах\n",
    "    \"\"\"\n",
    "    \n",
    "    # Создаем директорию для сохранения, если её нет\n",
    "    if not os.path.exists(output_dir):\n",
    "        os.makedirs(output_dir)\n",
    "\n",
    "    # Максимальный и минимальный размер файла в байтах\n",
    "    min_file_size_bytes = min_file_size_mb * 1024 * 1024\n",
    "    max_file_size_bytes = max_file_size_mb * 1024 * 1024\n",
    "\n",
    "    chunk = []\n",
    "    file_count = 1\n",
    "    rows_in_chunk = 0\n",
    "\n",
    "    for index, row in gdf.iterrows():\n",
    "        # Добавляем строку в текущий chunk\n",
    "        chunk.append(row)\n",
    "        rows_in_chunk += 1\n",
    "\n",
    "        # Проверяем, добавилось ли 100 строк\n",
    "        if rows_in_chunk >= 200:\n",
    "            # Создаем временный GeoDataFrame для расчета размера\n",
    "            temp_gdf = gpd.GeoDataFrame(chunk, columns=gdf.columns, crs=gdf.crs)\n",
    "\n",
    "            # Сохраняем временный файл для проверки размера\n",
    "            temp_file = os.path.join(output_dir, \"temp.geojson\")\n",
    "            temp_gdf.to_file(temp_file, driver=\"GeoJSON\")\n",
    "            current_size = os.path.getsize(temp_file)\n",
    "\n",
    "            # Проверяем, находится ли размер файла в пределах от 18 до 18.2 мегабайт\n",
    "            if min_file_size_bytes <= current_size <= max_file_size_bytes:\n",
    "                # Сохраняем текущий chunk в файл\n",
    "                output_file = os.path.join(output_dir, f\"chunk_{file_count}.geojson\")\n",
    "                temp_gdf.to_file(output_file, driver=\"GeoJSON\")\n",
    "                print(f\"Сохранен {output_file}, размером {os.path.getsize(output_file) / (1024 * 1024):.2f} MB\")\n",
    "\n",
    "                # Очищаем текущий chunk и начинаем новый\n",
    "                chunk = []\n",
    "                rows_in_chunk = 0\n",
    "                file_count += 1\n",
    "\n",
    "    # Сохраняем оставшийся chunk, если он существует\n",
    "    if chunk:\n",
    "        output_file = os.path.join(output_dir, f\"chunk_{file_count}.geojson\")\n",
    "        final_gdf = gpd.GeoDataFrame(chunk, columns=gdf.columns, crs=gdf.crs)\n",
    "        final_gdf.to_file(output_file, driver=\"GeoJSON\")\n",
    "        print(f\"Сохранен {output_file}, размером {os.path.getsize(output_file) / (1024 * 1024):.2f} MB\")\n",
    "\n",
    "    # Удаляем временный файл\n",
    "    if os.path.exists(temp_file):\n",
    "        os.remove(temp_file)\n",
    "\n",
    "# Пример использования:\n",
    "gdf = geo_gdf\n",
    "save_geo_chunks(gdf)"
   ]
  },
  {
   "cell_type": "code",
   "execution_count": null,
   "id": "95f0e550-ee49-4e32-bd10-bd07b96f9091",
   "metadata": {},
   "outputs": [],
   "source": []
  }
 ],
 "metadata": {
  "kernelspec": {
   "display_name": "Python 3 (ipykernel)",
   "language": "python",
   "name": "python3"
  },
  "language_info": {
   "codemirror_mode": {
    "name": "ipython",
    "version": 3
   },
   "file_extension": ".py",
   "mimetype": "text/x-python",
   "name": "python",
   "nbconvert_exporter": "python",
   "pygments_lexer": "ipython3",
   "version": "3.12.0"
  }
 },
 "nbformat": 4,
 "nbformat_minor": 5
}
