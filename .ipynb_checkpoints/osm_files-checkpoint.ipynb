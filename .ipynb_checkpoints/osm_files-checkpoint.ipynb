{
 "cells": [
  {
   "cell_type": "code",
   "execution_count": null,
   "id": "20923c0e-1f9a-4199-989e-bbbb141be7ff",
   "metadata": {},
   "outputs": [],
   "source": [
    "pip install -r requirements.txt"
   ]
  },
  {
   "cell_type": "code",
   "execution_count": 233,
   "id": "6b5e1ff0-595a-4d0d-87e5-077ce4aff045",
   "metadata": {},
   "outputs": [],
   "source": [
    "import pyarrow.parquet as pq\n",
    "import geopandas as gpd\n",
    "import pandas as pd\n",
    "import jupyter_black\n",
    "import re"
   ]
  },
  {
   "cell_type": "code",
   "execution_count": 28,
   "id": "3c0b2174-b015-42cb-9bc9-8f9415138e59",
   "metadata": {},
   "outputs": [
    {
     "data": {
      "text/html": [
       "\n",
       "                <script type=\"application/javascript\" id=\"jupyter_black\">\n",
       "                (function() {\n",
       "                    if (window.IPython === undefined) {\n",
       "                        return\n",
       "                    }\n",
       "                    var msg = \"WARNING: it looks like you might have loaded \" +\n",
       "                        \"jupyter_black in a non-lab notebook with \" +\n",
       "                        \"`is_lab=True`. Please double check, and if \" +\n",
       "                        \"loading with `%load_ext` please review the README!\"\n",
       "                    console.log(msg)\n",
       "                    alert(msg)\n",
       "                })()\n",
       "                </script>\n",
       "                "
      ],
      "text/plain": [
       "<IPython.core.display.HTML object>"
      ]
     },
     "metadata": {},
     "output_type": "display_data"
    }
   ],
   "source": [
    "jupyter_black.load()"
   ]
  },
  {
   "cell_type": "markdown",
   "id": "4d8e7827-cf58-43b4-88ac-bd940393c0e3",
   "metadata": {},
   "source": [
    "# Объединяем все данные в один большой shapefile"
   ]
  },
  {
   "cell_type": "code",
   "execution_count": null,
   "id": "738342c1-375f-4622-9e65-edcf1c90d629",
   "metadata": {},
   "outputs": [],
   "source": [
    "import geopandas as gpd\n",
    "import os\n",
    "\n",
    "\n",
    "def merge_shapefiles(input_folder, output_file):\n",
    "    \"\"\"\n",
    "    Читает все Shape-файлы из указанной папки, фильтрует по типу геометрии и объединяет их в один файл.\n",
    "\n",
    "    Параметры:\n",
    "    - input_folder (str): Путь к папке, содержащей Shape-файлы.\n",
    "    - output_file (str): Имя выходного файла для сохранения объединенного Shape-файла.\n",
    "    \"\"\"\n",
    "    # Получаем список всех Shape-файлов в указанной папке\n",
    "    shapefiles = [\n",
    "        os.path.join(input_folder, file)\n",
    "        for file in os.listdir(input_folder)\n",
    "        if file.endswith(\".shp\")\n",
    "    ]\n",
    "\n",
    "    # Инициализируем список для хранения GeoDataFrames одного типа\n",
    "    merged_gdf = None\n",
    "    geometry_type = None\n",
    "\n",
    "    for shapefile in shapefiles:\n",
    "        gdf = gpd.read_file(shapefile)\n",
    "\n",
    "        # Если это первый файл, сохраняем тип геометрии\n",
    "        if merged_gdf is None:\n",
    "            merged_gdf = gdf\n",
    "            geometry_type = gdf.geometry.geom_type.iloc[0]\n",
    "        else:\n",
    "            # Проверяем тип геометрии и добавляем только подходящие GeoDataFrame\n",
    "            if gdf.geometry.geom_type.iloc[0] == geometry_type:\n",
    "                merged_gdf = gpd.GeoDataFrame(\n",
    "                    pd.concat([merged_gdf, gdf], ignore_index=True)\n",
    "                )\n",
    "            else:\n",
    "                print(\n",
    "                    f\"Пропущен файл {shapefile}: тип геометрии {gdf.geometry.geom_type.iloc[0]} не совпадает с {geometry_type}\"\n",
    "                )\n",
    "\n",
    "    # Сохраняем объединенный Shape-файл, если есть данные\n",
    "    if merged_gdf is not None:\n",
    "        merged_gdf.to_file(output_file)\n",
    "        print(f\"Объединенные Shape-файлы сохранены в {output_file}\")\n",
    "    else:\n",
    "        print(\"Нет данных для объединения.\")\n",
    "\n",
    "\n",
    "# Пример использования функции\n",
    "input_folder = \"src/kaliningrad-latest-free/\"  # Путь к папке с Shape-файлами\n",
    "output_file = \"src/Kaliningrad/kaliningrad-latest.shp\"  # Путь и имя для сохранения объединенного файла\n",
    "\n",
    "merge_shapefiles(input_folder, output_file)"
   ]
  },
  {
   "cell_type": "markdown",
   "id": "420641eb-a06f-40df-b5a6-1dd6ffc3c4fe",
   "metadata": {},
   "source": [
    "# Считывание файла региона"
   ]
  },
  {
   "cell_type": "code",
   "execution_count": null,
   "id": "7934e166-74a5-4b80-ab3d-2804e952c17b",
   "metadata": {},
   "outputs": [],
   "source": [
    "data = gpd.read_file('src/north-caucasus-fed-district-latest.osm.pbf')"
   ]
  },
  {
   "cell_type": "code",
   "execution_count": 13,
   "id": "8a49c4c2-65d3-44d4-8c34-bf5c5f12f0c6",
   "metadata": {},
   "outputs": [],
   "source": [
    "pd.set_option(\"display.max_columns\", None)\n",
    "pd.set_option(\"display.max_colwidth\", None)"
   ]
  },
  {
   "cell_type": "code",
   "execution_count": 100,
   "id": "ff5fe10d-08ce-4c09-ae82-e42f43a6fa0a",
   "metadata": {},
   "outputs": [
    {
     "data": {
      "text/html": [
       "<div>\n",
       "<style scoped>\n",
       "    .dataframe tbody tr th:only-of-type {\n",
       "        vertical-align: middle;\n",
       "    }\n",
       "\n",
       "    .dataframe tbody tr th {\n",
       "        vertical-align: top;\n",
       "    }\n",
       "\n",
       "    .dataframe thead th {\n",
       "        text-align: right;\n",
       "    }\n",
       "</style>\n",
       "<table border=\"1\" class=\"dataframe\">\n",
       "  <thead>\n",
       "    <tr style=\"text-align: right;\">\n",
       "      <th></th>\n",
       "      <th>osm_id</th>\n",
       "      <th>name</th>\n",
       "      <th>barrier</th>\n",
       "      <th>highway</th>\n",
       "      <th>ref</th>\n",
       "      <th>address</th>\n",
       "      <th>is_in</th>\n",
       "      <th>place</th>\n",
       "      <th>man_made</th>\n",
       "      <th>other_tags</th>\n",
       "      <th>geometry</th>\n",
       "      <th>population</th>\n",
       "    </tr>\n",
       "  </thead>\n",
       "  <tbody>\n",
       "    <tr>\n",
       "      <th>0</th>\n",
       "      <td>34395335</td>\n",
       "      <td>Беслан</td>\n",
       "      <td>None</td>\n",
       "      <td>None</td>\n",
       "      <td>None</td>\n",
       "      <td>None</td>\n",
       "      <td>Северная Осетия, Россия</td>\n",
       "      <td>town</td>\n",
       "      <td>None</td>\n",
       "      <td>\"addr:country\"=&gt;\"RU\",\"addr:district\"=&gt;\"Правобережный район\",\"int_name\"=&gt;\"Beslan\",\"name:az\"=&gt;\"Beslan\",\"name:ca\"=&gt;\"Beslan\",\"name:ce\"=&gt;\"Беслан\",\"name:de\"=&gt;\"Beslan\",\"name:en\"=&gt;\"Beslan\",\"name:et\"=&gt;\"Beslan\",\"name:fr\"=&gt;\"Beslan\",\"name:hy\"=&gt;\"Բեսլան\",\"name:lt\"=&gt;\"Beslanas\",\"name:os\"=&gt;\"Беслæн\",\"name:ru\"=&gt;\"Беслан\",\"name:sv\"=&gt;\"Beslan\",\"name:tt\"=&gt;\"Беслан\",\"name:zh\"=&gt;\"别斯兰\",\"official_status\"=&gt;\"ru:город\",\"population\"=&gt;\"37063\",\"population:date\"=&gt;\"2015-01-01\",\"wikidata\"=&gt;\"Q105035\",\"wikipedia\"=&gt;\"ru:Беслан\"</td>\n",
       "      <td>POINT (44.53757 43.18756)</td>\n",
       "      <td>37063</td>\n",
       "    </tr>\n",
       "    <tr>\n",
       "      <th>1</th>\n",
       "      <td>34395338</td>\n",
       "      <td>Назрань</td>\n",
       "      <td>None</td>\n",
       "      <td>None</td>\n",
       "      <td>None</td>\n",
       "      <td>None</td>\n",
       "      <td>None</td>\n",
       "      <td>city</td>\n",
       "      <td>None</td>\n",
       "      <td>\"addr:country\"=&gt;\"RU\",\"addr:region\"=&gt;\"Ингушетия\",\"int_name\"=&gt;\"Nazran\",\"name:ar\"=&gt;\"نازران\",\"name:bg\"=&gt;\"Назран\",\"name:ca\"=&gt;\"Nazran\",\"name:ce\"=&gt;\"Несара\",\"name:de\"=&gt;\"Nasran\",\"name:el\"=&gt;\"Ναζράν\",\"name:en\"=&gt;\"Nazran\",\"name:es\"=&gt;\"Nazrán\",\"name:et\"=&gt;\"Nazran\",\"name:eu\"=&gt;\"Nazran\",\"name:fr\"=&gt;\"Nazran\",\"name:he\"=&gt;\"נזראן\",\"name:hr\"=&gt;\"Nazranj\",\"name:inh\"=&gt;\"Нана-Наьсаре\",\"name:ja\"=&gt;\"ナズラン\",\"name:ka\"=&gt;\"ნაზრანი\",\"name:lt\"=&gt;\"Nazranė\",\"name:ml\"=&gt;\"നസ്രാൻ\",\"name:pl\"=&gt;\"Nazrań\",\"name:ro\"=&gt;\"Nazran\",\"name:ru\"=&gt;\"Назрань\",\"name:sk\"=&gt;\"Nazraň\",\"name:sr\"=&gt;\"Назран\",\"name:tr\"=&gt;\"Nazran\",\"name:uk\"=&gt;\"Назрань\",\"name:xmf\"=&gt;\"ნაზრანი\",\"name:zh-Hans\"=&gt;\"纳兹兰\",\"name:zh-Hant\"=&gt;\"納茲蘭\",\"official_status\"=&gt;\"ru:город\",\"population\"=&gt;\"124169\",\"population:date\"=&gt;\"2021-01-01\",\"start_date\"=&gt;\"1781\",\"wikidata\"=&gt;\"Q163935\",\"wikipedia\"=&gt;\"ru:Назрань\"</td>\n",
       "      <td>POINT (44.75401 43.23208)</td>\n",
       "      <td>124169</td>\n",
       "    </tr>\n",
       "  </tbody>\n",
       "</table>\n",
       "</div>"
      ],
      "text/plain": [
       "     osm_id     name barrier highway   ref address                    is_in  \\\n",
       "0  34395335   Беслан    None    None  None    None  Северная Осетия, Россия   \n",
       "1  34395338  Назрань    None    None  None    None                     None   \n",
       "\n",
       "  place man_made  \\\n",
       "0  town     None   \n",
       "1  city     None   \n",
       "\n",
       "                                                                                                                                                                                                                                                                                                                                                                                                                                                                                                                                                                                                                                                                                                                                                                                                                      other_tags  \\\n",
       "0                                                                                                                                                                                                                                                                                                                     \"addr:country\"=>\"RU\",\"addr:district\"=>\"Правобережный район\",\"int_name\"=>\"Beslan\",\"name:az\"=>\"Beslan\",\"name:ca\"=>\"Beslan\",\"name:ce\"=>\"Беслан\",\"name:de\"=>\"Beslan\",\"name:en\"=>\"Beslan\",\"name:et\"=>\"Beslan\",\"name:fr\"=>\"Beslan\",\"name:hy\"=>\"Բեսլան\",\"name:lt\"=>\"Beslanas\",\"name:os\"=>\"Беслæн\",\"name:ru\"=>\"Беслан\",\"name:sv\"=>\"Beslan\",\"name:tt\"=>\"Беслан\",\"name:zh\"=>\"别斯兰\",\"official_status\"=>\"ru:город\",\"population\"=>\"37063\",\"population:date\"=>\"2015-01-01\",\"wikidata\"=>\"Q105035\",\"wikipedia\"=>\"ru:Беслан\"   \n",
       "1  \"addr:country\"=>\"RU\",\"addr:region\"=>\"Ингушетия\",\"int_name\"=>\"Nazran\",\"name:ar\"=>\"نازران\",\"name:bg\"=>\"Назран\",\"name:ca\"=>\"Nazran\",\"name:ce\"=>\"Несара\",\"name:de\"=>\"Nasran\",\"name:el\"=>\"Ναζράν\",\"name:en\"=>\"Nazran\",\"name:es\"=>\"Nazrán\",\"name:et\"=>\"Nazran\",\"name:eu\"=>\"Nazran\",\"name:fr\"=>\"Nazran\",\"name:he\"=>\"נזראן\",\"name:hr\"=>\"Nazranj\",\"name:inh\"=>\"Нана-Наьсаре\",\"name:ja\"=>\"ナズラン\",\"name:ka\"=>\"ნაზრანი\",\"name:lt\"=>\"Nazranė\",\"name:ml\"=>\"നസ്രാൻ\",\"name:pl\"=>\"Nazrań\",\"name:ro\"=>\"Nazran\",\"name:ru\"=>\"Назрань\",\"name:sk\"=>\"Nazraň\",\"name:sr\"=>\"Назран\",\"name:tr\"=>\"Nazran\",\"name:uk\"=>\"Назрань\",\"name:xmf\"=>\"ნაზრანი\",\"name:zh-Hans\"=>\"纳兹兰\",\"name:zh-Hant\"=>\"納茲蘭\",\"official_status\"=>\"ru:город\",\"population\"=>\"124169\",\"population:date\"=>\"2021-01-01\",\"start_date\"=>\"1781\",\"wikidata\"=>\"Q163935\",\"wikipedia\"=>\"ru:Назрань\"   \n",
       "\n",
       "                    geometry  population  \n",
       "0  POINT (44.53757 43.18756)       37063  \n",
       "1  POINT (44.75401 43.23208)      124169  "
      ]
     },
     "execution_count": 100,
     "metadata": {},
     "output_type": "execute_result"
    }
   ],
   "source": [
    "data.head(2)"
   ]
  },
  {
   "cell_type": "code",
   "execution_count": 96,
   "id": "2957ffd1-ce4a-45b0-b554-fd06d274e293",
   "metadata": {},
   "outputs": [],
   "source": [
    "def find_population(line: str):\n",
    "    pattern = r'\"population\"=>\"(.*?)\"'\n",
    "    population = re.findall(pattern, line)\n",
    "    if population and population[0] != \"\":\n",
    "        return int(population[0])\n",
    "    else:\n",
    "        return 0"
   ]
  },
  {
   "cell_type": "code",
   "execution_count": 98,
   "id": "c8cd3118-1b91-4c8f-873d-349b69b61dc8",
   "metadata": {},
   "outputs": [],
   "source": [
    "data[\"population\"] = data.other_tags.apply(lambda x: find_population(str(x)))"
   ]
  },
  {
   "cell_type": "code",
   "execution_count": 105,
   "id": "ffe3bff3-ba41-45d0-8aad-3ff010262d28",
   "metadata": {},
   "outputs": [
    {
     "data": {
      "text/plain": [
       "array(['town', 'city', 'village', None, 'locality', 'hamlet',\n",
       "       'neighbourhood', 'suburb', 'state', 'isolated_dwelling',\n",
       "       'allotments', 'farm', 'quarter', 'square', 'yard', 'plot'],\n",
       "      dtype=object)"
      ]
     },
     "execution_count": 105,
     "metadata": {},
     "output_type": "execute_result"
    }
   ],
   "source": [
    "data.place.unique()"
   ]
  },
  {
   "cell_type": "code",
   "execution_count": 109,
   "id": "6d540943-26ba-425d-aedd-45298aa760ac",
   "metadata": {},
   "outputs": [
    {
     "data": {
      "text/html": [
       "<div>\n",
       "<style scoped>\n",
       "    .dataframe tbody tr th:only-of-type {\n",
       "        vertical-align: middle;\n",
       "    }\n",
       "\n",
       "    .dataframe tbody tr th {\n",
       "        vertical-align: top;\n",
       "    }\n",
       "\n",
       "    .dataframe thead th {\n",
       "        text-align: right;\n",
       "    }\n",
       "</style>\n",
       "<table border=\"1\" class=\"dataframe\">\n",
       "  <thead>\n",
       "    <tr style=\"text-align: right;\">\n",
       "      <th></th>\n",
       "      <th>osm_id</th>\n",
       "      <th>name</th>\n",
       "      <th>barrier</th>\n",
       "      <th>highway</th>\n",
       "      <th>ref</th>\n",
       "      <th>address</th>\n",
       "      <th>is_in</th>\n",
       "      <th>place</th>\n",
       "      <th>man_made</th>\n",
       "      <th>other_tags</th>\n",
       "      <th>geometry</th>\n",
       "      <th>population</th>\n",
       "    </tr>\n",
       "  </thead>\n",
       "  <tbody>\n",
       "    <tr>\n",
       "      <th>0</th>\n",
       "      <td>34395335</td>\n",
       "      <td>Беслан</td>\n",
       "      <td>None</td>\n",
       "      <td>None</td>\n",
       "      <td>None</td>\n",
       "      <td>None</td>\n",
       "      <td>Северная Осетия, Россия</td>\n",
       "      <td>town</td>\n",
       "      <td>None</td>\n",
       "      <td>\"addr:country\"=&gt;\"RU\",\"addr:district\"=&gt;\"Правобережный район\",\"int_name\"=&gt;\"Beslan\",\"name:az\"=&gt;\"Beslan\",\"name:ca\"=&gt;\"Beslan\",\"name:ce\"=&gt;\"Беслан\",\"name:de\"=&gt;\"Beslan\",\"name:en\"=&gt;\"Beslan\",\"name:et\"=&gt;\"Beslan\",\"name:fr\"=&gt;\"Beslan\",\"name:hy\"=&gt;\"Բեսլան\",\"name:lt\"=&gt;\"Beslanas\",\"name:os\"=&gt;\"Беслæн\",\"name:ru\"=&gt;\"Беслан\",\"name:sv\"=&gt;\"Beslan\",\"name:tt\"=&gt;\"Беслан\",\"name:zh\"=&gt;\"别斯兰\",\"official_status\"=&gt;\"ru:город\",\"population\"=&gt;\"37063\",\"population:date\"=&gt;\"2015-01-01\",\"wikidata\"=&gt;\"Q105035\",\"wikipedia\"=&gt;\"ru:Беслан\"</td>\n",
       "      <td>POINT (44.53757 43.18756)</td>\n",
       "      <td>37063</td>\n",
       "    </tr>\n",
       "    <tr>\n",
       "      <th>1</th>\n",
       "      <td>34395338</td>\n",
       "      <td>Назрань</td>\n",
       "      <td>None</td>\n",
       "      <td>None</td>\n",
       "      <td>None</td>\n",
       "      <td>None</td>\n",
       "      <td>None</td>\n",
       "      <td>city</td>\n",
       "      <td>None</td>\n",
       "      <td>\"addr:country\"=&gt;\"RU\",\"addr:region\"=&gt;\"Ингушетия\",\"int_name\"=&gt;\"Nazran\",\"name:ar\"=&gt;\"نازران\",\"name:bg\"=&gt;\"Назран\",\"name:ca\"=&gt;\"Nazran\",\"name:ce\"=&gt;\"Несара\",\"name:de\"=&gt;\"Nasran\",\"name:el\"=&gt;\"Ναζράν\",\"name:en\"=&gt;\"Nazran\",\"name:es\"=&gt;\"Nazrán\",\"name:et\"=&gt;\"Nazran\",\"name:eu\"=&gt;\"Nazran\",\"name:fr\"=&gt;\"Nazran\",\"name:he\"=&gt;\"נזראן\",\"name:hr\"=&gt;\"Nazranj\",\"name:inh\"=&gt;\"Нана-Наьсаре\",\"name:ja\"=&gt;\"ナズラン\",\"name:ka\"=&gt;\"ნაზრანი\",\"name:lt\"=&gt;\"Nazranė\",\"name:ml\"=&gt;\"നസ്രാൻ\",\"name:pl\"=&gt;\"Nazrań\",\"name:ro\"=&gt;\"Nazran\",\"name:ru\"=&gt;\"Назрань\",\"name:sk\"=&gt;\"Nazraň\",\"name:sr\"=&gt;\"Назран\",\"name:tr\"=&gt;\"Nazran\",\"name:uk\"=&gt;\"Назрань\",\"name:xmf\"=&gt;\"ნაზრანი\",\"name:zh-Hans\"=&gt;\"纳兹兰\",\"name:zh-Hant\"=&gt;\"納茲蘭\",\"official_status\"=&gt;\"ru:город\",\"population\"=&gt;\"124169\",\"population:date\"=&gt;\"2021-01-01\",\"start_date\"=&gt;\"1781\",\"wikidata\"=&gt;\"Q163935\",\"wikipedia\"=&gt;\"ru:Назрань\"</td>\n",
       "      <td>POINT (44.75401 43.23208)</td>\n",
       "      <td>124169</td>\n",
       "    </tr>\n",
       "    <tr>\n",
       "      <th>2</th>\n",
       "      <td>34395341</td>\n",
       "      <td>Магас</td>\n",
       "      <td>None</td>\n",
       "      <td>None</td>\n",
       "      <td>None</td>\n",
       "      <td>None</td>\n",
       "      <td>None</td>\n",
       "      <td>town</td>\n",
       "      <td>None</td>\n",
       "      <td>\"addr:country\"=&gt;\"RU\",\"addr:district\"=&gt;\"городской округ Магас\",\"addr:region\"=&gt;\"Ингушетия\",\"admin_level\"=&gt;\"4\",\"int_name\"=&gt;\"Magas\",\"name:az\"=&gt;\"Maqas\",\"name:ca\"=&gt;\"Magàs\",\"name:ce\"=&gt;\"МагӀас\",\"name:de\"=&gt;\"Magas\",\"name:en\"=&gt;\"Magas\",\"name:et\"=&gt;\"Magass\",\"name:fr\"=&gt;\"Magas\",\"name:hr\"=&gt;\"Magas\",\"name:hu\"=&gt;\"Marac\",\"name:ka\"=&gt;\"მაგასი\",\"name:kbd\"=&gt;\"Мэгъэс\",\"name:lt\"=&gt;\"Magasas\",\"name:ru\"=&gt;\"Магас\",\"name:sk\"=&gt;\"Magas\",\"name:sl\"=&gt;\"Magas\",\"name:sr\"=&gt;\"Магас\",\"name:zh\"=&gt;\"马加斯\",\"name:zh-Hans\"=&gt;\"马加斯\",\"name:zh-Hant\"=&gt;\"馬加斯\",\"official_status\"=&gt;\"ru:город\",\"population\"=&gt;\"6880\",\"population:date\"=&gt;\"2016-01-01\",\"wikidata\"=&gt;\"Q5222\",\"wikipedia\"=&gt;\"ru:Магас\"</td>\n",
       "      <td>POINT (44.80482 43.16665)</td>\n",
       "      <td>6880</td>\n",
       "    </tr>\n",
       "    <tr>\n",
       "      <th>3</th>\n",
       "      <td>34395346</td>\n",
       "      <td>Тарское</td>\n",
       "      <td>None</td>\n",
       "      <td>None</td>\n",
       "      <td>None</td>\n",
       "      <td>None</td>\n",
       "      <td>None</td>\n",
       "      <td>village</td>\n",
       "      <td>None</td>\n",
       "      <td>\"addr:country\"=&gt;\"RU\",\"addr:district\"=&gt;\"Пригородный район\",\"int_name\"=&gt;\"Tarskoye\",\"name:ce\"=&gt;\"Ангушт\",\"name:de\"=&gt;\"Tarskoje\",\"name:en\"=&gt;\"Tarskoye\",\"name:inh\"=&gt;\"Ангушт\",\"name:os\"=&gt;\"Тарскæй\",\"name:ru\"=&gt;\"Тарское\",\"population\"=&gt;\"4371\",\"wikidata\"=&gt;\"Q4452146\",\"wikipedia\"=&gt;\"ru:Тарское\"</td>\n",
       "      <td>POINT (44.77362 42.96597)</td>\n",
       "      <td>4371</td>\n",
       "    </tr>\n",
       "    <tr>\n",
       "      <th>4</th>\n",
       "      <td>36714827</td>\n",
       "      <td>Ставрополь</td>\n",
       "      <td>None</td>\n",
       "      <td>None</td>\n",
       "      <td>None</td>\n",
       "      <td>None</td>\n",
       "      <td>None</td>\n",
       "      <td>city</td>\n",
       "      <td>None</td>\n",
       "      <td>\"addr:country\"=&gt;\"RU\",\"addr:district\"=&gt;\"городской округ Ставрополь\",\"addr:postcode\"=&gt;\"355000\",\"addr:region\"=&gt;\"Ставропольский край\",\"admin_level\"=&gt;\"4\",\"capital\"=&gt;\"4\",\"contact:email\"=&gt;\"ipriem@stavadm.ru\",\"contact:phone\"=&gt;\"+7 8652 264176\",\"contact:website\"=&gt;\"http://ставрополь.рф\",\"int_name\"=&gt;\"Stavropol\",\"is_in:country\"=&gt;\"Russia\",\"name:ar\"=&gt;\"ستافروبول\",\"name:az\"=&gt;\"Stavropol\",\"name:ca\"=&gt;\"Stàvropol\",\"name:de\"=&gt;\"Stawropol\",\"name:el\"=&gt;\"Σταυρούπολη\",\"name:en\"=&gt;\"Stavropol\",\"name:et\"=&gt;\"Stavropol\",\"name:eu\"=&gt;\"Stavropol\",\"name:fr\"=&gt;\"Stavropol\",\"name:hr\"=&gt;\"Stavropolj\",\"name:hsb\"=&gt;\"Stawropol\",\"name:hu\"=&gt;\"Stravlopol\",\"name:hy\"=&gt;\"Ստավրոպոլ\",\"name:ka\"=&gt;\"სტავროპოლი\",\"name:kbd\"=&gt;\"Шъэт-Къалэ\",\"name:ko\"=&gt;\"스타브로폴\",\"name:lt\"=&gt;\"Stavropolis\",\"name:ml\"=&gt;\"സ്റ്റാവ്രോപോൾ\",\"name:nl\"=&gt;\"Stavropol\",\"name:os\"=&gt;\"Стъарапол\",\"name:pl\"=&gt;\"Stawropol\",\"name:ro\"=&gt;\"Stavropol\",\"name:ru\"=&gt;\"Ставрополь\",\"name:sk\"=&gt;\"Stavropoľ\",\"name:sl\"=&gt;\"Stavropol\",\"name:sr\"=&gt;\"Ставропољ\",\"name:tr\"=&gt;\"Stavropol\",\"name:uk\"=&gt;\"Ставрополь\",\"name:zh\"=&gt;\"斯塔夫罗波尔\",\"name:zh-Hans\"=&gt;\"斯塔夫罗波尔\",\"name:zh-Hant\"=&gt;\"斯塔夫羅波爾\",\"official_status\"=&gt;\"ru:город\",\"old_name\"=&gt;\"Ставрополь-Кавказский; Ворошиловск;\",\"population\"=&gt;\"550147\",\"population:date\"=&gt;\"2023-01-01\",\"start_date\"=&gt;\"1777\",\"wikidata\"=&gt;\"Q5206\",\"wikipedia\"=&gt;\"ru:Ставрополь\"</td>\n",
       "      <td>POINT (41.96909 45.04332)</td>\n",
       "      <td>550147</td>\n",
       "    </tr>\n",
       "    <tr>\n",
       "      <th>...</th>\n",
       "      <td>...</td>\n",
       "      <td>...</td>\n",
       "      <td>...</td>\n",
       "      <td>...</td>\n",
       "      <td>...</td>\n",
       "      <td>...</td>\n",
       "      <td>...</td>\n",
       "      <td>...</td>\n",
       "      <td>...</td>\n",
       "      <td>...</td>\n",
       "      <td>...</td>\n",
       "      <td>...</td>\n",
       "    </tr>\n",
       "    <tr>\n",
       "      <th>139378</th>\n",
       "      <td>7506031649</td>\n",
       "      <td>Хапиль</td>\n",
       "      <td>None</td>\n",
       "      <td>None</td>\n",
       "      <td>None</td>\n",
       "      <td>None</td>\n",
       "      <td>None</td>\n",
       "      <td>village</td>\n",
       "      <td>None</td>\n",
       "      <td>\"wikidata\"=&gt;\"Q20924819\",\"wikipedia\"=&gt;\"ru:Хапиль\"</td>\n",
       "      <td>POINT (47.98123 41.98801)</td>\n",
       "      <td>0</td>\n",
       "    </tr>\n",
       "    <tr>\n",
       "      <th>143680</th>\n",
       "      <td>7939337934</td>\n",
       "      <td>Верхний Каранай</td>\n",
       "      <td>None</td>\n",
       "      <td>None</td>\n",
       "      <td>None</td>\n",
       "      <td>None</td>\n",
       "      <td>None</td>\n",
       "      <td>village</td>\n",
       "      <td>None</td>\n",
       "      <td>\"wikidata\"=&gt;\"Q13616256\",\"wikipedia\"=&gt;\"ru:Верхний Каранай\"</td>\n",
       "      <td>POINT (46.90487 42.82566)</td>\n",
       "      <td>0</td>\n",
       "    </tr>\n",
       "    <tr>\n",
       "      <th>165257</th>\n",
       "      <td>9720011403</td>\n",
       "      <td>Камышкутан</td>\n",
       "      <td>None</td>\n",
       "      <td>None</td>\n",
       "      <td>None</td>\n",
       "      <td>None</td>\n",
       "      <td>None</td>\n",
       "      <td>village</td>\n",
       "      <td>None</td>\n",
       "      <td>None</td>\n",
       "      <td>POINT (46.62162 43.49607)</td>\n",
       "      <td>0</td>\n",
       "    </tr>\n",
       "    <tr>\n",
       "      <th>172438</th>\n",
       "      <td>10281018880</td>\n",
       "      <td>Андрюшин</td>\n",
       "      <td>None</td>\n",
       "      <td>None</td>\n",
       "      <td>None</td>\n",
       "      <td>None</td>\n",
       "      <td>None</td>\n",
       "      <td>village</td>\n",
       "      <td>None</td>\n",
       "      <td>None</td>\n",
       "      <td>POINT (43.24974 45.70659)</td>\n",
       "      <td>0</td>\n",
       "    </tr>\n",
       "    <tr>\n",
       "      <th>189643</th>\n",
       "      <td>11364375709</td>\n",
       "      <td>Шамхал</td>\n",
       "      <td>None</td>\n",
       "      <td>None</td>\n",
       "      <td>None</td>\n",
       "      <td>None</td>\n",
       "      <td>None</td>\n",
       "      <td>village</td>\n",
       "      <td>None</td>\n",
       "      <td>None</td>\n",
       "      <td>POINT (47.33841 43.0616)</td>\n",
       "      <td>0</td>\n",
       "    </tr>\n",
       "  </tbody>\n",
       "</table>\n",
       "<p>2308 rows × 12 columns</p>\n",
       "</div>"
      ],
      "text/plain": [
       "             osm_id             name barrier highway   ref address  \\\n",
       "0          34395335           Беслан    None    None  None    None   \n",
       "1          34395338          Назрань    None    None  None    None   \n",
       "2          34395341            Магас    None    None  None    None   \n",
       "3          34395346          Тарское    None    None  None    None   \n",
       "4          36714827       Ставрополь    None    None  None    None   \n",
       "...             ...              ...     ...     ...   ...     ...   \n",
       "139378   7506031649           Хапиль    None    None  None    None   \n",
       "143680   7939337934  Верхний Каранай    None    None  None    None   \n",
       "165257   9720011403       Камышкутан    None    None  None    None   \n",
       "172438  10281018880         Андрюшин    None    None  None    None   \n",
       "189643  11364375709           Шамхал    None    None  None    None   \n",
       "\n",
       "                          is_in    place man_made  \\\n",
       "0       Северная Осетия, Россия     town     None   \n",
       "1                          None     city     None   \n",
       "2                          None     town     None   \n",
       "3                          None  village     None   \n",
       "4                          None     city     None   \n",
       "...                         ...      ...      ...   \n",
       "139378                     None  village     None   \n",
       "143680                     None  village     None   \n",
       "165257                     None  village     None   \n",
       "172438                     None  village     None   \n",
       "189643                     None  village     None   \n",
       "\n",
       "                                                                                                                                                                                                                                                                                                                                                                                                                                                                                                                                                                                                                                                                                                                                                                                                                                                                                                                                                                                                                                                                                                                                                                                                                                                                                                       other_tags  \\\n",
       "0                                                                                                                                                                                                                                                                                                                                                                                                                                                                                                                                                                                                                                                                                                                                                                                                      \"addr:country\"=>\"RU\",\"addr:district\"=>\"Правобережный район\",\"int_name\"=>\"Beslan\",\"name:az\"=>\"Beslan\",\"name:ca\"=>\"Beslan\",\"name:ce\"=>\"Беслан\",\"name:de\"=>\"Beslan\",\"name:en\"=>\"Beslan\",\"name:et\"=>\"Beslan\",\"name:fr\"=>\"Beslan\",\"name:hy\"=>\"Բեսլան\",\"name:lt\"=>\"Beslanas\",\"name:os\"=>\"Беслæн\",\"name:ru\"=>\"Беслан\",\"name:sv\"=>\"Beslan\",\"name:tt\"=>\"Беслан\",\"name:zh\"=>\"别斯兰\",\"official_status\"=>\"ru:город\",\"population\"=>\"37063\",\"population:date\"=>\"2015-01-01\",\"wikidata\"=>\"Q105035\",\"wikipedia\"=>\"ru:Беслан\"   \n",
       "1                                                                                                                                                                                                                                                                                                                                                                                                                                                                                   \"addr:country\"=>\"RU\",\"addr:region\"=>\"Ингушетия\",\"int_name\"=>\"Nazran\",\"name:ar\"=>\"نازران\",\"name:bg\"=>\"Назран\",\"name:ca\"=>\"Nazran\",\"name:ce\"=>\"Несара\",\"name:de\"=>\"Nasran\",\"name:el\"=>\"Ναζράν\",\"name:en\"=>\"Nazran\",\"name:es\"=>\"Nazrán\",\"name:et\"=>\"Nazran\",\"name:eu\"=>\"Nazran\",\"name:fr\"=>\"Nazran\",\"name:he\"=>\"נזראן\",\"name:hr\"=>\"Nazranj\",\"name:inh\"=>\"Нана-Наьсаре\",\"name:ja\"=>\"ナズラン\",\"name:ka\"=>\"ნაზრანი\",\"name:lt\"=>\"Nazranė\",\"name:ml\"=>\"നസ്രാൻ\",\"name:pl\"=>\"Nazrań\",\"name:ro\"=>\"Nazran\",\"name:ru\"=>\"Назрань\",\"name:sk\"=>\"Nazraň\",\"name:sr\"=>\"Назран\",\"name:tr\"=>\"Nazran\",\"name:uk\"=>\"Назрань\",\"name:xmf\"=>\"ნაზრანი\",\"name:zh-Hans\"=>\"纳兹兰\",\"name:zh-Hant\"=>\"納茲蘭\",\"official_status\"=>\"ru:город\",\"population\"=>\"124169\",\"population:date\"=>\"2021-01-01\",\"start_date\"=>\"1781\",\"wikidata\"=>\"Q163935\",\"wikipedia\"=>\"ru:Назрань\"   \n",
       "2                                                                                                                                                                                                                                                                                                                                                                                                                                                                                                                                                                                                                                                              \"addr:country\"=>\"RU\",\"addr:district\"=>\"городской округ Магас\",\"addr:region\"=>\"Ингушетия\",\"admin_level\"=>\"4\",\"int_name\"=>\"Magas\",\"name:az\"=>\"Maqas\",\"name:ca\"=>\"Magàs\",\"name:ce\"=>\"МагӀас\",\"name:de\"=>\"Magas\",\"name:en\"=>\"Magas\",\"name:et\"=>\"Magass\",\"name:fr\"=>\"Magas\",\"name:hr\"=>\"Magas\",\"name:hu\"=>\"Marac\",\"name:ka\"=>\"მაგასი\",\"name:kbd\"=>\"Мэгъэс\",\"name:lt\"=>\"Magasas\",\"name:ru\"=>\"Магас\",\"name:sk\"=>\"Magas\",\"name:sl\"=>\"Magas\",\"name:sr\"=>\"Магас\",\"name:zh\"=>\"马加斯\",\"name:zh-Hans\"=>\"马加斯\",\"name:zh-Hant\"=>\"馬加斯\",\"official_status\"=>\"ru:город\",\"population\"=>\"6880\",\"population:date\"=>\"2016-01-01\",\"wikidata\"=>\"Q5222\",\"wikipedia\"=>\"ru:Магас\"   \n",
       "3                                                                                                                                                                                                                                                                                                                                                                                                                                                                                                                                                                                                                                                                                                                                                                                                                                                                                                                                                                                                                           \"addr:country\"=>\"RU\",\"addr:district\"=>\"Пригородный район\",\"int_name\"=>\"Tarskoye\",\"name:ce\"=>\"Ангушт\",\"name:de\"=>\"Tarskoje\",\"name:en\"=>\"Tarskoye\",\"name:inh\"=>\"Ангушт\",\"name:os\"=>\"Тарскæй\",\"name:ru\"=>\"Тарское\",\"population\"=>\"4371\",\"wikidata\"=>\"Q4452146\",\"wikipedia\"=>\"ru:Тарское\"   \n",
       "4       \"addr:country\"=>\"RU\",\"addr:district\"=>\"городской округ Ставрополь\",\"addr:postcode\"=>\"355000\",\"addr:region\"=>\"Ставропольский край\",\"admin_level\"=>\"4\",\"capital\"=>\"4\",\"contact:email\"=>\"ipriem@stavadm.ru\",\"contact:phone\"=>\"+7 8652 264176\",\"contact:website\"=>\"http://ставрополь.рф\",\"int_name\"=>\"Stavropol\",\"is_in:country\"=>\"Russia\",\"name:ar\"=>\"ستافروبول\",\"name:az\"=>\"Stavropol\",\"name:ca\"=>\"Stàvropol\",\"name:de\"=>\"Stawropol\",\"name:el\"=>\"Σταυρούπολη\",\"name:en\"=>\"Stavropol\",\"name:et\"=>\"Stavropol\",\"name:eu\"=>\"Stavropol\",\"name:fr\"=>\"Stavropol\",\"name:hr\"=>\"Stavropolj\",\"name:hsb\"=>\"Stawropol\",\"name:hu\"=>\"Stravlopol\",\"name:hy\"=>\"Ստավրոպոլ\",\"name:ka\"=>\"სტავროპოლი\",\"name:kbd\"=>\"Шъэт-Къалэ\",\"name:ko\"=>\"스타브로폴\",\"name:lt\"=>\"Stavropolis\",\"name:ml\"=>\"സ്റ്റാവ്രോപോൾ\",\"name:nl\"=>\"Stavropol\",\"name:os\"=>\"Стъарапол\",\"name:pl\"=>\"Stawropol\",\"name:ro\"=>\"Stavropol\",\"name:ru\"=>\"Ставрополь\",\"name:sk\"=>\"Stavropoľ\",\"name:sl\"=>\"Stavropol\",\"name:sr\"=>\"Ставропољ\",\"name:tr\"=>\"Stavropol\",\"name:uk\"=>\"Ставрополь\",\"name:zh\"=>\"斯塔夫罗波尔\",\"name:zh-Hans\"=>\"斯塔夫罗波尔\",\"name:zh-Hant\"=>\"斯塔夫羅波爾\",\"official_status\"=>\"ru:город\",\"old_name\"=>\"Ставрополь-Кавказский; Ворошиловск;\",\"population\"=>\"550147\",\"population:date\"=>\"2023-01-01\",\"start_date\"=>\"1777\",\"wikidata\"=>\"Q5206\",\"wikipedia\"=>\"ru:Ставрополь\"   \n",
       "...                                                                                                                                                                                                                                                                                                                                                                                                                                                                                                                                                                                                                                                                                                                                                                                                                                                                                                                                                                                                                                                                                                                                                                                                                                                                                                           ...   \n",
       "139378                                                                                                                                                                                                                                                                                                                                                                                                                                                                                                                                                                                                                                                                                                                                                                                                                                                                                                                                                                                                                                                                                                                                                                                                                                                           \"wikidata\"=>\"Q20924819\",\"wikipedia\"=>\"ru:Хапиль\"   \n",
       "143680                                                                                                                                                                                                                                                                                                                                                                                                                                                                                                                                                                                                                                                                                                                                                                                                                                                                                                                                                                                                                                                                                                                                                                                                                                                  \"wikidata\"=>\"Q13616256\",\"wikipedia\"=>\"ru:Верхний Каранай\"   \n",
       "165257                                                                                                                                                                                                                                                                                                                                                                                                                                                                                                                                                                                                                                                                                                                                                                                                                                                                                                                                                                                                                                                                                                                                                                                                                                                                                                       None   \n",
       "172438                                                                                                                                                                                                                                                                                                                                                                                                                                                                                                                                                                                                                                                                                                                                                                                                                                                                                                                                                                                                                                                                                                                                                                                                                                                                                                       None   \n",
       "189643                                                                                                                                                                                                                                                                                                                                                                                                                                                                                                                                                                                                                                                                                                                                                                                                                                                                                                                                                                                                                                                                                                                                                                                                                                                                                                       None   \n",
       "\n",
       "                         geometry  population  \n",
       "0       POINT (44.53757 43.18756)       37063  \n",
       "1       POINT (44.75401 43.23208)      124169  \n",
       "2       POINT (44.80482 43.16665)        6880  \n",
       "3       POINT (44.77362 42.96597)        4371  \n",
       "4       POINT (41.96909 45.04332)      550147  \n",
       "...                           ...         ...  \n",
       "139378  POINT (47.98123 41.98801)           0  \n",
       "143680  POINT (46.90487 42.82566)           0  \n",
       "165257  POINT (46.62162 43.49607)           0  \n",
       "172438  POINT (43.24974 45.70659)           0  \n",
       "189643   POINT (47.33841 43.0616)           0  \n",
       "\n",
       "[2308 rows x 12 columns]"
      ]
     },
     "execution_count": 109,
     "metadata": {},
     "output_type": "execute_result"
    }
   ],
   "source": [
    "data[data.place.isin([\"town\", \"city\", \"village\"])]"
   ]
  },
  {
   "cell_type": "code",
   "execution_count": 112,
   "id": "95afbdcf-3199-4ea0-a031-78cb6a4d8b2d",
   "metadata": {},
   "outputs": [
    {
     "data": {
      "text/html": [
       "<div>\n",
       "<style scoped>\n",
       "    .dataframe tbody tr th:only-of-type {\n",
       "        vertical-align: middle;\n",
       "    }\n",
       "\n",
       "    .dataframe tbody tr th {\n",
       "        vertical-align: top;\n",
       "    }\n",
       "\n",
       "    .dataframe thead th {\n",
       "        text-align: right;\n",
       "    }\n",
       "</style>\n",
       "<table border=\"1\" class=\"dataframe\">\n",
       "  <thead>\n",
       "    <tr style=\"text-align: right;\">\n",
       "      <th></th>\n",
       "      <th>name</th>\n",
       "      <th>geometry</th>\n",
       "    </tr>\n",
       "  </thead>\n",
       "  <tbody>\n",
       "    <tr>\n",
       "      <th>1</th>\n",
       "      <td>Назрань</td>\n",
       "      <td>POINT (44.75401 43.23208)</td>\n",
       "    </tr>\n",
       "    <tr>\n",
       "      <th>5919</th>\n",
       "      <td>Назрань</td>\n",
       "      <td>POINT (44.76932 43.22943)</td>\n",
       "    </tr>\n",
       "    <tr>\n",
       "      <th>99275</th>\n",
       "      <td>Назрань</td>\n",
       "      <td>POINT (44.76931 43.22946)</td>\n",
       "    </tr>\n",
       "    <tr>\n",
       "      <th>191328</th>\n",
       "      <td>Назрань</td>\n",
       "      <td>POINT (44.76933 43.22941)</td>\n",
       "    </tr>\n",
       "  </tbody>\n",
       "</table>\n",
       "</div>"
      ],
      "text/plain": [
       "           name                   geometry\n",
       "1       Назрань  POINT (44.75401 43.23208)\n",
       "5919    Назрань  POINT (44.76932 43.22943)\n",
       "99275   Назрань  POINT (44.76931 43.22946)\n",
       "191328  Назрань  POINT (44.76933 43.22941)"
      ]
     },
     "execution_count": 112,
     "metadata": {},
     "output_type": "execute_result"
    }
   ],
   "source": [
    "data[[\"name\", \"geometry\"]][data[\"name\"] == \"Назрань\"]"
   ]
  },
  {
   "cell_type": "code",
   "execution_count": 172,
   "id": "dae73568-b19c-4a81-90eb-f28127e1b112",
   "metadata": {},
   "outputs": [
    {
     "name": "stderr",
     "output_type": "stream",
     "text": [
      "<>:1: SyntaxWarning: invalid escape sequence '\\K'\n",
      "<>:1: SyntaxWarning: invalid escape sequence '\\K'\n",
      "<unknown>:1: SyntaxWarning: invalid escape sequence '\\K'\n",
      "C:\\Users\\Honor\\AppData\\Local\\Temp\\ipykernel_19860\\4017791780.py:1: SyntaxWarning: invalid escape sequence '\\K'\n",
      "  data = geopandas.read_file(\"src\\Kaliningrad\\kaliningrad-latest.shp\")\n"
     ]
    }
   ],
   "source": [
    "data = geopandas.read_file(\"src\\Kaliningrad\\kaliningrad-latest.shp\")"
   ]
  },
  {
   "cell_type": "code",
   "execution_count": 173,
   "id": "f023abe1-8352-4320-a4fa-88774b7fbdc0",
   "metadata": {},
   "outputs": [
    {
     "data": {
      "text/plain": [
       "array(['building', 'scrub', 'forest', 'industrial', 'recreation_ground',\n",
       "       'military', 'commercial', 'grass', 'park', 'cemetery', 'retail',\n",
       "       'residential', 'allotments', 'quarry', 'farmland', 'orchard',\n",
       "       'meadow', 'farmyard', 'nature_reserve', 'heath', 'vineyard',\n",
       "       'beach', 'peak', 'town', 'island', 'village', 'locality', 'hamlet',\n",
       "       'city', 'suburb', 'farm', 'christian_catholic', 'christian',\n",
       "       'christian_orthodox', 'christian_protestant', 'christian_lutheran',\n",
       "       'christian_evangelical', 'jewish', 'attraction', 'camp_site',\n",
       "       'bar', 'theatre', 'supermarket', 'sports_centre', 'stadium',\n",
       "       'pitch', 'graveyard', 'hospital', 'market_place', 'prison',\n",
       "       'university', 'fountain', 'castle', 'school', 'college', 'florist',\n",
       "       'car_dealership', 'museum', 'dentist', 'public_building',\n",
       "       'doityourself', 'fort', 'embassy', 'mall', 'furniture_shop',\n",
       "       'hotel', 'stationery', 'swimming_pool', 'police', 'ruins',\n",
       "       'wastewater_plant', 'playground', 'kindergarten', 'arts_centre',\n",
       "       'toilet', 'clinic', 'bank', 'kiosk', 'courthouse', 'track',\n",
       "       'chemist', 'convenience', 'bakery', 'community_centre',\n",
       "       'post_office', 'laundry', 'butcher', 'library', 'fire_station',\n",
       "       'cafe', 'car_wash', 'restaurant', 'hostel', 'doctors', 'pharmacy',\n",
       "       'town_hall', 'pub', 'shelter', 'ice_rink', 'cinema', 'hairdresser',\n",
       "       'department_store', 'nightclub', 'veterinary', 'computer_shop',\n",
       "       'motel', 'water_well', 'water_tower', 'guesthouse', 'memorial',\n",
       "       'toy_shop', 'sports_shop', 'video_shop', 'theme_park', 'beverages',\n",
       "       'fast_food', 'gift_shop', 'mobile_phone_shop', 'clothes',\n",
       "       'bookshop', 'observation_tower', 'tourist_info', 'jeweller',\n",
       "       'tower', 'shoe_shop', 'outdoor_shop', 'lighthouse', 'newsagent',\n",
       "       'monument', 'archaeological', 'water_works', 'water_mill',\n",
       "       'chalet', 'picnic_site', 'garden_centre', 'comms_tower',\n",
       "       'dog_park', 'greengrocer', 'bench', 'zoo', 'artwork',\n",
       "       'bicycle_rental', 'general', 'wayside_shrine', 'food_court',\n",
       "       'parking', 'marina', 'pier', 'slipway', 'fuel',\n",
       "       'parking_underground', 'parking_multistorey', 'dam',\n",
       "       'parking_bicycle', 'apron', 'airport', 'airfield', 'bus_station',\n",
       "       'ferry_terminal', 'railway_station', 'helipad', 'taxi', 'bus_stop',\n",
       "       'riverbank', 'reservoir', 'water', 'wetland', 'dock'], dtype=object)"
      ]
     },
     "execution_count": 173,
     "metadata": {},
     "output_type": "execute_result"
    }
   ],
   "source": [
    "data.fclass.unique()"
   ]
  },
  {
   "cell_type": "code",
   "execution_count": 177,
   "id": "795e4258-cb9a-456d-a9b4-edf4f70ce04a",
   "metadata": {},
   "outputs": [
    {
     "name": "stdout",
     "output_type": "stream",
     "text": [
      "7\n"
     ]
    }
   ],
   "source": [
    "print(len(data[data[\"fclass\"] == \"city\"]))"
   ]
  },
  {
   "cell_type": "code",
   "execution_count": 179,
   "id": "5e2de0ef-3e13-4189-add1-f9605b1ea6f9",
   "metadata": {},
   "outputs": [
    {
     "name": "stdout",
     "output_type": "stream",
     "text": [
      "81\n"
     ]
    }
   ],
   "source": [
    "print(len(data[data[\"population\"] > 0]))"
   ]
  },
  {
   "cell_type": "code",
   "execution_count": 181,
   "id": "8438df6d-c466-48e9-b288-2959e0e90c2b",
   "metadata": {},
   "outputs": [
    {
     "data": {
      "text/plain": [
       "array(['town', 'village', 'city', 'hamlet'], dtype=object)"
      ]
     },
     "execution_count": 181,
     "metadata": {},
     "output_type": "execute_result"
    }
   ],
   "source": [
    "data[\"fclass\"][data[\"population\"] > 0].unique()"
   ]
  },
  {
   "cell_type": "code",
   "execution_count": null,
   "id": "5fce6927-2773-4638-9358-2c3e06af33aa",
   "metadata": {},
   "outputs": [],
   "source": [
    "data[(data[\"fclass\"] == \"city\") & (data[\"name\"].notna()) & (data[\"population\"] > 0)]"
   ]
  },
  {
   "cell_type": "code",
   "execution_count": 209,
   "id": "756e8062-ab3f-4b9c-ba2b-093754116bf7",
   "metadata": {},
   "outputs": [],
   "source": [
    "geo_df = data[\n",
    "    (\n",
    "        data[\"fclass\"].isin(\n",
    "            [\n",
    "                \"city\",  # город\n",
    "                \"town\",  # небольшой город\n",
    "                \"village\",  # деревни\n",
    "                \"hamlet\",  # поселки\n",
    "                \"suburb\",  # села снт поселения\n",
    "            ]\n",
    "        )\n",
    "    )\n",
    "    & (data[\"name\"].notna())\n",
    "]"
   ]
  },
  {
   "cell_type": "code",
   "execution_count": 232,
   "id": "a511d599-f3d4-4030-8afc-f422ad9a8988",
   "metadata": {},
   "outputs": [
    {
     "data": {
      "text/html": [
       "<div>\n",
       "<style scoped>\n",
       "    .dataframe tbody tr th:only-of-type {\n",
       "        vertical-align: middle;\n",
       "    }\n",
       "\n",
       "    .dataframe tbody tr th {\n",
       "        vertical-align: top;\n",
       "    }\n",
       "\n",
       "    .dataframe thead th {\n",
       "        text-align: right;\n",
       "    }\n",
       "</style>\n",
       "<table border=\"1\" class=\"dataframe\">\n",
       "  <thead>\n",
       "    <tr style=\"text-align: right;\">\n",
       "      <th></th>\n",
       "      <th>osm_id</th>\n",
       "      <th>code</th>\n",
       "      <th>fclass</th>\n",
       "      <th>name</th>\n",
       "      <th>type</th>\n",
       "      <th>population</th>\n",
       "      <th>geometry</th>\n",
       "    </tr>\n",
       "  </thead>\n",
       "  <tbody>\n",
       "    <tr>\n",
       "      <th>153961</th>\n",
       "      <td>39382058</td>\n",
       "      <td>1002</td>\n",
       "      <td>town</td>\n",
       "      <td>Лесной</td>\n",
       "      <td>None</td>\n",
       "      <td>344.0</td>\n",
       "      <td>POLYGON ((20.60587 55.01235, 20.60734 55.01395, 20.61254 55.01677, 20.6127 55.01686, 20.61366 55.01663, 20.61659 55.01592, 20.61893 55.01607, 20.61916 55.01548, 20.61951 55.01527, 20.61997 55.01509, 20.62016 55.01394, 20.61997 55.01336, 20.61984 55.01292, 20.61966 55.01259, 20.61969 55.01227, 20.6197 55.01149, 20.62001 55.01122, 20.62034 55.01025, 20.62054 55.01017, 20.62048 55.00993, 20.62026 55.00982, 20.62006 55.00923, 20.62077 55.00901, 20.62083 55.00902, 20.62101 55.00897, 20.62075 55.0083, 20.61985 55.00774, 20.61919 55.00693, 20.61914 55.00691, 20.61891 55.00687, 20.61874 55.00687, 20.61808 55.0067, 20.61748 55.00705, 20.61714 55.00687, 20.6177 55.00647, 20.61726 55.00626, 20.61619 55.00616, 20.61602 55.00608, 20.616 55.00602, 20.61592 55.00601, 20.6159 55.00606, 20.61574 55.00608, 20.61564 55.00611, 20.61478 55.00607, 20.61393 55.00721, 20.60587 55.01235))</td>\n",
       "    </tr>\n",
       "    <tr>\n",
       "      <th>153965</th>\n",
       "      <td>6411591</td>\n",
       "      <td>1002</td>\n",
       "      <td>town</td>\n",
       "      <td>Ясное</td>\n",
       "      <td>None</td>\n",
       "      <td>1464.0</td>\n",
       "      <td>POLYGON ((21.52625 55.16973, 21.5276 55.17334, 21.52801 55.17411, 21.53016 55.17531, 21.5304 55.17593, 21.53258 55.17736, 21.53559 55.1795, 21.53603 55.1798, 21.54709 55.18344, 21.55028 55.18318, 21.55178 55.18295, 21.55891 55.18038, 21.56178 55.1821, 21.56233 55.18251, 21.5631 55.18218, 21.56946 55.18284, 21.56977 55.18132, 21.56902 55.18121, 21.565 55.18069, 21.56477 55.17895, 21.56953 55.17864, 21.56946 55.17762, 21.56377 55.17229, 21.5636 55.17213, 21.56125 55.17097, 21.55075 55.17096, 21.54779 55.17096, 21.54738 55.17096, 21.54349 55.17095, 21.54087 55.1692, 21.53991 55.16939, 21.54005 55.16971, 21.53934 55.16983, 21.53577 55.1696, 21.53498 55.16856, 21.53405 55.16903, 21.53331 55.16923, 21.52954 55.1702, 21.52935 55.16985, 21.52917 55.16937, 21.5273 55.1696, 21.52625 55.16973))</td>\n",
       "    </tr>\n",
       "  </tbody>\n",
       "</table>\n",
       "</div>"
      ],
      "text/plain": [
       "          osm_id  code fclass    name  type  population  \\\n",
       "153961  39382058  1002   town  Лесной  None       344.0   \n",
       "153965   6411591  1002   town   Ясное  None      1464.0   \n",
       "\n",
       "                                                                                                                                                                                                                                                                                                                                                                                                                                                                                                                                                                                                                                                                                                                                                                                                                                                                                                            geometry  \n",
       "153961  POLYGON ((20.60587 55.01235, 20.60734 55.01395, 20.61254 55.01677, 20.6127 55.01686, 20.61366 55.01663, 20.61659 55.01592, 20.61893 55.01607, 20.61916 55.01548, 20.61951 55.01527, 20.61997 55.01509, 20.62016 55.01394, 20.61997 55.01336, 20.61984 55.01292, 20.61966 55.01259, 20.61969 55.01227, 20.6197 55.01149, 20.62001 55.01122, 20.62034 55.01025, 20.62054 55.01017, 20.62048 55.00993, 20.62026 55.00982, 20.62006 55.00923, 20.62077 55.00901, 20.62083 55.00902, 20.62101 55.00897, 20.62075 55.0083, 20.61985 55.00774, 20.61919 55.00693, 20.61914 55.00691, 20.61891 55.00687, 20.61874 55.00687, 20.61808 55.0067, 20.61748 55.00705, 20.61714 55.00687, 20.6177 55.00647, 20.61726 55.00626, 20.61619 55.00616, 20.61602 55.00608, 20.616 55.00602, 20.61592 55.00601, 20.6159 55.00606, 20.61574 55.00608, 20.61564 55.00611, 20.61478 55.00607, 20.61393 55.00721, 20.60587 55.01235))  \n",
       "153965                                                                                    POLYGON ((21.52625 55.16973, 21.5276 55.17334, 21.52801 55.17411, 21.53016 55.17531, 21.5304 55.17593, 21.53258 55.17736, 21.53559 55.1795, 21.53603 55.1798, 21.54709 55.18344, 21.55028 55.18318, 21.55178 55.18295, 21.55891 55.18038, 21.56178 55.1821, 21.56233 55.18251, 21.5631 55.18218, 21.56946 55.18284, 21.56977 55.18132, 21.56902 55.18121, 21.565 55.18069, 21.56477 55.17895, 21.56953 55.17864, 21.56946 55.17762, 21.56377 55.17229, 21.5636 55.17213, 21.56125 55.17097, 21.55075 55.17096, 21.54779 55.17096, 21.54738 55.17096, 21.54349 55.17095, 21.54087 55.1692, 21.53991 55.16939, 21.54005 55.16971, 21.53934 55.16983, 21.53577 55.1696, 21.53498 55.16856, 21.53405 55.16903, 21.53331 55.16923, 21.52954 55.1702, 21.52935 55.16985, 21.52917 55.16937, 21.5273 55.1696, 21.52625 55.16973))  "
      ]
     },
     "execution_count": 232,
     "metadata": {},
     "output_type": "execute_result"
    }
   ],
   "source": [
    "geo_df.head(2)"
   ]
  },
  {
   "cell_type": "code",
   "execution_count": 212,
   "id": "df4eb266-30d3-4bd3-a8fb-1e833698f28c",
   "metadata": {},
   "outputs": [],
   "source": [
    "geo_df.to_file(\"kaliningrad.geojson\", driver=\"GeoJSON\")"
   ]
  },
  {
   "cell_type": "code",
   "execution_count": 262,
   "id": "a8f7de03-8da4-4740-b055-0122399b4dfc",
   "metadata": {},
   "outputs": [
    {
     "data": {
      "text/html": [
       "<div>\n",
       "<style scoped>\n",
       "    .dataframe tbody tr th:only-of-type {\n",
       "        vertical-align: middle;\n",
       "    }\n",
       "\n",
       "    .dataframe tbody tr th {\n",
       "        vertical-align: top;\n",
       "    }\n",
       "\n",
       "    .dataframe thead th {\n",
       "        text-align: right;\n",
       "    }\n",
       "</style>\n",
       "<table border=\"1\" class=\"dataframe\">\n",
       "  <thead>\n",
       "    <tr style=\"text-align: right;\">\n",
       "      <th></th>\n",
       "      <th>osm_id</th>\n",
       "      <th>code</th>\n",
       "      <th>fclass</th>\n",
       "      <th>name</th>\n",
       "      <th>type</th>\n",
       "      <th>population</th>\n",
       "      <th>geometry</th>\n",
       "    </tr>\n",
       "  </thead>\n",
       "  <tbody>\n",
       "    <tr>\n",
       "      <th>153961</th>\n",
       "      <td>39382058</td>\n",
       "      <td>1002</td>\n",
       "      <td>town</td>\n",
       "      <td>Лесной</td>\n",
       "      <td>None</td>\n",
       "      <td>344.0</td>\n",
       "      <td>POLYGON ((20.60587 55.01235, 20.60734 55.01395, 20.61254 55.01677, 20.6127 55.01686, 20.61366 55.01663, 20.61659 55.01592, 20.61893 55.01607, 20.61916 55.01548, 20.61951 55.01527, 20.61997 55.01509, 20.62016 55.01394, 20.61997 55.01336, 20.61984 55.01292, 20.61966 55.01259, 20.61969 55.01227, 20.6197 55.01149, 20.62001 55.01122, 20.62034 55.01025, 20.62054 55.01017, 20.62048 55.00993, 20.62026 55.00982, 20.62006 55.00923, 20.62077 55.00901, 20.62083 55.00902, 20.62101 55.00897, 20.62075 55.0083, 20.61985 55.00774, 20.61919 55.00693, 20.61914 55.00691, 20.61891 55.00687, 20.61874 55.00687, 20.61808 55.0067, 20.61748 55.00705, 20.61714 55.00687, 20.6177 55.00647, 20.61726 55.00626, 20.61619 55.00616, 20.61602 55.00608, 20.616 55.00602, 20.61592 55.00601, 20.6159 55.00606, 20.61574 55.00608, 20.61564 55.00611, 20.61478 55.00607, 20.61393 55.00721, 20.60587 55.01235))</td>\n",
       "    </tr>\n",
       "    <tr>\n",
       "      <th>153965</th>\n",
       "      <td>6411591</td>\n",
       "      <td>1002</td>\n",
       "      <td>town</td>\n",
       "      <td>Ясное</td>\n",
       "      <td>None</td>\n",
       "      <td>1464.0</td>\n",
       "      <td>POLYGON ((21.52625 55.16973, 21.5276 55.17334, 21.52801 55.17411, 21.53016 55.17531, 21.5304 55.17593, 21.53258 55.17736, 21.53559 55.1795, 21.53603 55.1798, 21.54709 55.18344, 21.55028 55.18318, 21.55178 55.18295, 21.55891 55.18038, 21.56178 55.1821, 21.56233 55.18251, 21.5631 55.18218, 21.56946 55.18284, 21.56977 55.18132, 21.56902 55.18121, 21.565 55.18069, 21.56477 55.17895, 21.56953 55.17864, 21.56946 55.17762, 21.56377 55.17229, 21.5636 55.17213, 21.56125 55.17097, 21.55075 55.17096, 21.54779 55.17096, 21.54738 55.17096, 21.54349 55.17095, 21.54087 55.1692, 21.53991 55.16939, 21.54005 55.16971, 21.53934 55.16983, 21.53577 55.1696, 21.53498 55.16856, 21.53405 55.16903, 21.53331 55.16923, 21.52954 55.1702, 21.52935 55.16985, 21.52917 55.16937, 21.5273 55.1696, 21.52625 55.16973))</td>\n",
       "    </tr>\n",
       "  </tbody>\n",
       "</table>\n",
       "</div>"
      ],
      "text/plain": [
       "          osm_id  code fclass    name  type  population  \\\n",
       "153961  39382058  1002   town  Лесной  None       344.0   \n",
       "153965   6411591  1002   town   Ясное  None      1464.0   \n",
       "\n",
       "                                                                                                                                                                                                                                                                                                                                                                                                                                                                                                                                                                                                                                                                                                                                                                                                                                                                                                            geometry  \n",
       "153961  POLYGON ((20.60587 55.01235, 20.60734 55.01395, 20.61254 55.01677, 20.6127 55.01686, 20.61366 55.01663, 20.61659 55.01592, 20.61893 55.01607, 20.61916 55.01548, 20.61951 55.01527, 20.61997 55.01509, 20.62016 55.01394, 20.61997 55.01336, 20.61984 55.01292, 20.61966 55.01259, 20.61969 55.01227, 20.6197 55.01149, 20.62001 55.01122, 20.62034 55.01025, 20.62054 55.01017, 20.62048 55.00993, 20.62026 55.00982, 20.62006 55.00923, 20.62077 55.00901, 20.62083 55.00902, 20.62101 55.00897, 20.62075 55.0083, 20.61985 55.00774, 20.61919 55.00693, 20.61914 55.00691, 20.61891 55.00687, 20.61874 55.00687, 20.61808 55.0067, 20.61748 55.00705, 20.61714 55.00687, 20.6177 55.00647, 20.61726 55.00626, 20.61619 55.00616, 20.61602 55.00608, 20.616 55.00602, 20.61592 55.00601, 20.6159 55.00606, 20.61574 55.00608, 20.61564 55.00611, 20.61478 55.00607, 20.61393 55.00721, 20.60587 55.01235))  \n",
       "153965                                                                                    POLYGON ((21.52625 55.16973, 21.5276 55.17334, 21.52801 55.17411, 21.53016 55.17531, 21.5304 55.17593, 21.53258 55.17736, 21.53559 55.1795, 21.53603 55.1798, 21.54709 55.18344, 21.55028 55.18318, 21.55178 55.18295, 21.55891 55.18038, 21.56178 55.1821, 21.56233 55.18251, 21.5631 55.18218, 21.56946 55.18284, 21.56977 55.18132, 21.56902 55.18121, 21.565 55.18069, 21.56477 55.17895, 21.56953 55.17864, 21.56946 55.17762, 21.56377 55.17229, 21.5636 55.17213, 21.56125 55.17097, 21.55075 55.17096, 21.54779 55.17096, 21.54738 55.17096, 21.54349 55.17095, 21.54087 55.1692, 21.53991 55.16939, 21.54005 55.16971, 21.53934 55.16983, 21.53577 55.1696, 21.53498 55.16856, 21.53405 55.16903, 21.53331 55.16923, 21.52954 55.1702, 21.52935 55.16985, 21.52917 55.16937, 21.5273 55.1696, 21.52625 55.16973))  "
      ]
     },
     "execution_count": 262,
     "metadata": {},
     "output_type": "execute_result"
    }
   ],
   "source": [
    "geo_df.head(2)"
   ]
  },
  {
   "cell_type": "code",
   "execution_count": 263,
   "id": "9d0f0bee-2138-4a63-b668-64a133aff4a1",
   "metadata": {},
   "outputs": [
    {
     "data": {
      "text/plain": [
       "array([None], dtype=object)"
      ]
     },
     "execution_count": 263,
     "metadata": {},
     "output_type": "execute_result"
    }
   ],
   "source": [
    "geo_df[\"type\"].unique()"
   ]
  },
  {
   "cell_type": "code",
   "execution_count": 224,
   "id": "d82c222b-b398-42b4-b5b1-ed2e9a4f2ff1",
   "metadata": {},
   "outputs": [],
   "source": [
    "geo_gdf = gpd.GeoDataFrame(geo_df, geometry=\"geometry\")"
   ]
  },
  {
   "cell_type": "code",
   "execution_count": 259,
   "id": "e507c765-ec4d-461f-8274-3170117a2c07",
   "metadata": {},
   "outputs": [],
   "source": [
    "geo_gdf = gpd.read_file(\"kaliningrad.geojson\")"
   ]
  },
  {
   "cell_type": "code",
   "execution_count": 230,
   "id": "55a0eb53-9526-4a71-919d-66882a7c0b69",
   "metadata": {},
   "outputs": [],
   "source": [
    "import geopandas as gpd\n",
    "import pandas as pd\n",
    "from shapely.geometry import Point\n",
    "\n",
    "\n",
    "def spatial_join_with_location(df, polygons_gdf):\n",
    "    \"\"\"\n",
    "    Пространственное объединение датафрейма с геолокацией человека и полигонов.\n",
    "\n",
    "    Параметры:\n",
    "    - df: DataFrame с колонками ['username', 'client', 'latitude', 'longitude']\n",
    "    - polygons_gdf: GeoDataFrame с полигонами, к которым нужно привязать геолокации.\n",
    "\n",
    "    Возвращает:\n",
    "    - GeoDataFrame с результатом пространственного объединения.\n",
    "    \"\"\"\n",
    "    # Преобразуем точки в геометрический формат Point\n",
    "    df[\"geometry\"] = df.apply(\n",
    "        lambda row: Point(row[\"longitude\"], row[\"latitude\"]), axis=1\n",
    "    )\n",
    "\n",
    "    # Преобразуем DataFrame в GeoDataFrame\n",
    "    gdf = gpd.GeoDataFrame(df, geometry=\"geometry\")\n",
    "\n",
    "    # Установим систему координат (например, WGS84)\n",
    "    gdf.set_crs(epsg=4326, inplace=True)\n",
    "\n",
    "    # Выполняем пространственное объединение\n",
    "    result_gdf = gpd.sjoin(gdf, polygons_gdf, how=\"left\")\n",
    "\n",
    "    return result_gdf\n",
    "\n",
    "\n",
    "# Пример данных с геолокацией пользователя\n",
    "data = {\n",
    "    \"username\": [\"user1\"],\n",
    "    \"client\": [\"client1\"],\n",
    "    \"latitude\": [54.633186],\n",
    "    \"longitude\": [20.908047],\n",
    "}\n",
    "df = pd.DataFrame(data)\n",
    "\n",
    "# Пример GeoDataFrame с полигонами (например, города или области)\n",
    "# Полигональные данные могут быть загружены из файлов типа Shapefile или GeoJSON\n",
    "# polygons_gdf = gpd.read_file('path_to_polygon_shapefile.shp')\n",
    "\n",
    "# Пример использования функции (нужно загрузить реальные полигональные данные)\n",
    "result = spatial_join_with_location(df, geo_gdf)\n",
    "\n",
    "# print(result)"
   ]
  },
  {
   "cell_type": "code",
   "execution_count": 231,
   "id": "a689b5a5-4cdd-4f5a-b625-ab8be06f09ca",
   "metadata": {},
   "outputs": [
    {
     "data": {
      "text/html": [
       "<div>\n",
       "<style scoped>\n",
       "    .dataframe tbody tr th:only-of-type {\n",
       "        vertical-align: middle;\n",
       "    }\n",
       "\n",
       "    .dataframe tbody tr th {\n",
       "        vertical-align: top;\n",
       "    }\n",
       "\n",
       "    .dataframe thead th {\n",
       "        text-align: right;\n",
       "    }\n",
       "</style>\n",
       "<table border=\"1\" class=\"dataframe\">\n",
       "  <thead>\n",
       "    <tr style=\"text-align: right;\">\n",
       "      <th></th>\n",
       "      <th>username</th>\n",
       "      <th>client</th>\n",
       "      <th>latitude</th>\n",
       "      <th>longitude</th>\n",
       "      <th>geometry</th>\n",
       "      <th>index_right</th>\n",
       "      <th>osm_id</th>\n",
       "      <th>code</th>\n",
       "      <th>fclass</th>\n",
       "      <th>name</th>\n",
       "      <th>type</th>\n",
       "      <th>population</th>\n",
       "    </tr>\n",
       "  </thead>\n",
       "  <tbody>\n",
       "    <tr>\n",
       "      <th>0</th>\n",
       "      <td>user1</td>\n",
       "      <td>client1</td>\n",
       "      <td>54.633186</td>\n",
       "      <td>20.908047</td>\n",
       "      <td>POINT (20.90805 54.63319)</td>\n",
       "      <td>331</td>\n",
       "      <td>974610084</td>\n",
       "      <td>1003</td>\n",
       "      <td>village</td>\n",
       "      <td>Озерки</td>\n",
       "      <td>None</td>\n",
       "      <td>0.0</td>\n",
       "    </tr>\n",
       "  </tbody>\n",
       "</table>\n",
       "</div>"
      ],
      "text/plain": [
       "  username   client   latitude  longitude                   geometry  \\\n",
       "0    user1  client1  54.633186  20.908047  POINT (20.90805 54.63319)   \n",
       "\n",
       "   index_right     osm_id  code   fclass    name  type  population  \n",
       "0          331  974610084  1003  village  Озерки  None         0.0  "
      ]
     },
     "execution_count": 231,
     "metadata": {},
     "output_type": "execute_result"
    }
   ],
   "source": [
    "result"
   ]
  },
  {
   "cell_type": "code",
   "execution_count": null,
   "id": "a5da4846-1af4-4338-a797-40487a34dbaf",
   "metadata": {},
   "outputs": [],
   "source": []
  },
  {
   "cell_type": "code",
   "execution_count": null,
   "id": "f24d9647-a1a2-4858-b5a9-bdd7a733bd3b",
   "metadata": {},
   "outputs": [],
   "source": []
  }
 ],
 "metadata": {
  "kernelspec": {
   "display_name": "Python 3 (ipykernel)",
   "language": "python",
   "name": "python3"
  },
  "language_info": {
   "codemirror_mode": {
    "name": "ipython",
    "version": 3
   },
   "file_extension": ".py",
   "mimetype": "text/x-python",
   "name": "python",
   "nbconvert_exporter": "python",
   "pygments_lexer": "ipython3",
   "version": "3.12.0"
  }
 },
 "nbformat": 4,
 "nbformat_minor": 5
}
