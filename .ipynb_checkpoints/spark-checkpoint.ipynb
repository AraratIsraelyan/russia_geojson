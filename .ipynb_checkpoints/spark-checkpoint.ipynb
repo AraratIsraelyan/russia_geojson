{
 "cells": [
  {
   "cell_type": "code",
   "execution_count": null,
   "id": "a9a7bef1-a64a-410c-8668-beaed552dd95",
   "metadata": {},
   "outputs": [],
   "source": [
    "pip install geopandas osmium geojson chardet pyogrio pyarrow"
   ]
  },
  {
   "cell_type": "code",
   "execution_count": null,
   "id": "73bbf33c-841a-4e0e-99eb-33394585def9",
   "metadata": {},
   "outputs": [],
   "source": [
    "import geopandas as gpd\n",
    "import json\n",
    "import pyarrow as pa\n",
    "import pyarrow.parquet as pq\n",
    "\n",
    "# Загрузка GeoJSON файла в GeoDataFrame\n",
    "gdf = gpd.read_file(\"pyatigorsk.geojson\")\n",
    "\n",
    "# Сохранение в формат Parquet\n",
    "gdf.to_parquet(\"pyatigorsk.parquet\")\n",
    "\n",
    "print(\"Parquet файл успешно сохранен в pyatigorsk.parquet\")"
   ]
  },
  {
   "cell_type": "code",
   "execution_count": null,
   "id": "b26a6dd2e7ab7384",
   "metadata": {
    "ExecuteTime": {
     "end_time": "2024-08-14T08:11:29.560578300Z",
     "start_time": "2024-08-14T08:00:52.731454700Z"
    },
    "collapsed": false,
    "jupyter": {
     "outputs_hidden": false
    }
   },
   "outputs": [],
   "source": [
    "from pyspark import SparkConf\n",
    "from pyspark.sql import SparkSession\n",
    "import os\n",
    "os.environ[\"JAVA_HOME\"] = fr\"C:\\Program Files\\Java\\jdk-21\"\n",
    "\n",
    "def create_spark_session() -> SparkSession:\n",
    "    # Конфигурация для использования одного ядра, 4GB памяти для драйвера и порта 4043 для Spark UI\n",
    "    conf = (\n",
    "        SparkConf()\n",
    "        .set(\"spark.driver.memory\", \"4g\")\n",
    "        .set(\"spark.ui.port\", \"4046\")  # Установка порта для Spark UI\n",
    "    )\n",
    "\n",
    "    spark_session = (\n",
    "        SparkSession.builder.master(\"local[1]\")  # Использование одного ядра\n",
    "        .config(conf=conf)\n",
    "        .appName(\"Spark UI Tutorial\")\n",
    "        .getOrCreate()\n",
    "    )\n",
    "\n",
    "    return spark_session\n",
    "\n",
    "# Создание Spark сессии\n",
    "spark = create_spark_session()\n",
    "\n",
    "# Проверка создания сессии\n",
    "print(\"Spark session created:\", spark)"
   ]
  }
 ],
 "metadata": {
  "kernelspec": {
   "display_name": "Python 3 (ipykernel)",
   "language": "python",
   "name": "python3"
  },
  "language_info": {
   "codemirror_mode": {
    "name": "ipython",
    "version": 3
   },
   "file_extension": ".py",
   "mimetype": "text/x-python",
   "name": "python",
   "nbconvert_exporter": "python",
   "pygments_lexer": "ipython3",
   "version": "3.12.0"
  }
 },
 "nbformat": 4,
 "nbformat_minor": 5
}
